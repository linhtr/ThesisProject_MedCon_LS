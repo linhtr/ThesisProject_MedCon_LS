{
 "cells": [
  {
   "cell_type": "markdown",
   "metadata": {},
   "source": [
    "# Import corpus"
   ]
  },
  {
   "cell_type": "code",
   "execution_count": 1,
   "metadata": {},
   "outputs": [],
   "source": [
    "import pandas as pd\n",
    "import pickle"
   ]
  },
  {
   "cell_type": "code",
   "execution_count": 2,
   "metadata": {},
   "outputs": [
    {
     "data": {
      "text/plain": [
       "Index(['source_page', 'sent_id', 'sentence', 'filtered_unigrams',\n",
       "       'filtered_bigrams', 'filtered_trigrams', 'filtered_quandrigrams',\n",
       "       'unigrams_grouped', 'bigrams_grouped', 'trigrams_grouped',\n",
       "       'quandrigrams_grouped'],\n",
       "      dtype='object')"
      ]
     },
     "execution_count": 2,
     "metadata": {},
     "output_type": "execute_result"
    }
   ],
   "source": [
    "simplewiki_medcon = pd.read_csv('../datasources/simplewiki/extracted/swiki_sentences_ngrams_filtered.csv', sep=';')\n",
    "simplewiki_medcon.columns"
   ]
  },
  {
   "cell_type": "code",
   "execution_count": 3,
   "metadata": {
    "scrolled": true
   },
   "outputs": [
    {
     "name": "stdout",
     "output_type": "stream",
     "text": [
      "12694\n"
     ]
    },
    {
     "data": {
      "text/plain": [
       "['Boil might mean:   Boiling, heating a liquid to the point where it turns into gas   Boil, a type of Staphylococcal infection',\n",
       " 'Bubonic plague is the best-known form of the disease plague, which is caused by the bacterium Yersinia pestis.',\n",
       " 'The name bubonic plague is specific for this form of the disease, which enters through the skin, and travels through the lymphatic system.',\n",
       " 'If the disease is left untreated, it kills about half its victims, in between three and seven days.',\n",
       " 'The bubonic plague was the disease that caused the Black Death, which killed tens of millions of people in Europe, in the Middle Ages.',\n",
       " 'Symptoms of this disease include coughing, fever, and black spots on the skin.',\n",
       " 'There are different kinds of Bubonic plague.',\n",
       " 'The most common form of the disease is spread by a certain kind of flea, that lives on rats.',\n",
       " 'Then there is an incubation period which can last from a few hours to about seven days.',\n",
       " 'Sepsis happens when the bacterium enters the blood and makes it form tiny clots.']"
      ]
     },
     "execution_count": 3,
     "metadata": {},
     "output_type": "execute_result"
    }
   ],
   "source": [
    "simplewiki_sentences = simplewiki_medcon.sentence.tolist()\n",
    "print(len(simplewiki_sentences))\n",
    "simplewiki_sentences[:10]"
   ]
  },
  {
   "cell_type": "markdown",
   "metadata": {},
   "source": [
    "# Load BERT model from bert_embedding\n",
    "\n",
    "Code from: https://gist.github.com/avidale/c6b19687d333655da483421880441950"
   ]
  },
  {
   "cell_type": "code",
   "execution_count": 4,
   "metadata": {
    "scrolled": true
   },
   "outputs": [],
   "source": [
    "import mxnet as mx\n",
    "from bert_embedding import BertEmbedding\n",
    "from tqdm import tqdm\n",
    "import pickle\n",
    "\n",
    "# OPTIONAL: if you want to have more information on what's happening, activate the logger as follows\n",
    "import logging\n",
    "logging.basicConfig(level=logging.INFO)\n",
    "logger = logging.getLogger(__name__)"
   ]
  },
  {
   "cell_type": "code",
   "execution_count": 7,
   "metadata": {},
   "outputs": [],
   "source": [
    "ctx = mx.gpu(0)\n",
    "\n",
    "# see https://gluon-nlp.mxnet.io/model_zoo/bert/index.html for model and dataset_name\n",
    "bert = BertEmbedding(ctx=ctx, max_seq_length=256, model='bert_12_768_12', dataset_name='book_corpus_wiki_en_cased', batch_size=8)\n",
    "# bert = BertEmbedding(ctx=ctx, max_seq_length=256, model='bert_12_768_12', dataset_name='book_corpus_wiki_en_uncased', batch_size=8)\n"
   ]
  },
  {
   "cell_type": "markdown",
   "metadata": {},
   "source": [
    "## Create a search index"
   ]
  },
  {
   "cell_type": "code",
   "execution_count": 1,
   "metadata": {},
   "outputs": [],
   "source": [
    "from sklearn.neighbors import KDTree\n",
    "import numpy as np\n",
    "\n",
    "\n",
    "class ContextNeighborStorage:\n",
    "    def __init__(self, sentences, model):\n",
    "        self.sentences = sentences\n",
    "        self.model = model\n",
    "\n",
    "    def process_sentences(self):\n",
    "        result = self.model(self.sentences)\n",
    "\n",
    "        self.sentence_ids = []\n",
    "        self.token_ids = []\n",
    "        self.all_tokens = []\n",
    "        all_embeddings = []\n",
    "        for i, (toks, embs) in enumerate(tqdm(result)):\n",
    "            for j, (tok, emb) in enumerate(zip(toks, embs)):\n",
    "                self.sentence_ids.append(i)\n",
    "                self.token_ids.append(j)\n",
    "                self.all_tokens.append(tok)\n",
    "                all_embeddings.append(emb)\n",
    "        all_embeddings = np.stack(all_embeddings)\n",
    "        # we normalize embeddings, so that euclidian distance is equivalent to cosine distance\n",
    "        self.normed_embeddings = (all_embeddings.T / (all_embeddings**2).sum(axis=1) ** 0.5).T\n",
    "\n",
    "    def build_search_index(self):\n",
    "        # this takes some time\n",
    "        self.indexer = KDTree(self.normed_embeddings)\n",
    "\n",
    "    def query(self, query_sent, query_word, k=10, filter_same_word=False):\n",
    "        toks, embs = self.model([query_sent])[0]\n",
    "\n",
    "        found = False\n",
    "        for tok, emb in zip(toks, embs):\n",
    "            if tok == query_word or tok == query_word.lower():\n",
    "                found = True\n",
    "                break\n",
    "        if not found:\n",
    "            raise ValueError('The query word {} is not a single token in sentence {}'.format(query_word, toks))\n",
    "        emb = emb / sum(emb**2)**0.5\n",
    "\n",
    "        if filter_same_word:\n",
    "            initial_k = max(k, 100)\n",
    "        else:\n",
    "            initial_k = k\n",
    "        di, idx = self.indexer.query(emb.reshape(1, -1), k=initial_k)\n",
    "        distances = []\n",
    "        neighbors = []\n",
    "        contexts = []\n",
    "        for i, index in enumerate(idx.ravel()):\n",
    "            token = self.all_tokens[index]\n",
    "            if filter_same_word and (query_word in token or token in query_word):\n",
    "                continue\n",
    "            distances.append(di.ravel()[i])\n",
    "            neighbors.append(token)\n",
    "            contexts.append(self.sentences[self.sentence_ids[index]])\n",
    "            if len(distances) == k:\n",
    "                break\n",
    "        return distances, neighbors, contexts"
   ]
  },
  {
   "cell_type": "code",
   "execution_count": 9,
   "metadata": {},
   "outputs": [
    {
     "name": "stderr",
     "output_type": "stream",
     "text": [
      "100%|██████████| 12694/12694 [00:00<00:00, 160465.63it/s]\n"
     ]
    }
   ],
   "source": [
    "storage = ContextNeighborStorage(sentences=simplewiki_sentences, model=bert)\n",
    "storage.process_sentences()"
   ]
  },
  {
   "cell_type": "code",
   "execution_count": 10,
   "metadata": {},
   "outputs": [],
   "source": [
    "storage.build_search_index()"
   ]
  },
  {
   "cell_type": "code",
   "execution_count": 11,
   "metadata": {},
   "outputs": [],
   "source": [
    "# Store data (serialize)\n",
    "with open('./simplewiki_KDTree_bertcased256.pickle', 'wb') as handle:\n",
    "    pickle.dump(storage, handle, protocol=pickle.HIGHEST_PROTOCOL)"
   ]
  },
  {
   "cell_type": "code",
   "execution_count": 4,
   "metadata": {},
   "outputs": [],
   "source": [
    "# Load data (deserialize)\n",
    "with open('./simplewiki_KDTree_bertcased256.pickle', 'rb') as handle:\n",
    "    tree_copy = pickle.load(handle)"
   ]
  },
  {
   "cell_type": "markdown",
   "metadata": {},
   "source": [
    "# Load ClinicalBERT via SBERT"
   ]
  },
  {
   "cell_type": "code",
   "execution_count": 2,
   "metadata": {},
   "outputs": [],
   "source": [
    "import pandas as pd\n",
    "from sentence_transformers import SentenceTransformer\n",
    "from sentence_transformers import models\n",
    "from transformers import BertForMaskedLM, BertTokenizer\n",
    "import torch\n",
    "from tqdm import tqdm\n",
    "import pickle\n",
    "\n",
    "# OPTIONAL: if you want to have more information on what's happening, activate the logger as follows\n",
    "import logging\n",
    "logging.basicConfig(level=logging.INFO)\n",
    "logger = logging.getLogger(__name__)"
   ]
  },
  {
   "cell_type": "markdown",
   "metadata": {},
   "source": [
    "## Adjust bert_embedding to load clinicalbert"
   ]
  },
  {
   "cell_type": "code",
   "execution_count": 11,
   "metadata": {},
   "outputs": [],
   "source": [
    "# Original code from: https://github.com/imgarylai/bert-embedding/blob/master/bert_embedding/bert.py\n",
    "\n",
    "class BertEmbedding(object):\n",
    "    def __init__(self, model, max_seq_length=256, do_lower_case=False):\n",
    "        self.word_embedding_model = models.BERT(model, max_seq_length=max_seq_length, do_lower_case=do_lower_case)\n",
    "#         self.tokenizer = BertTokenizer.from_pretrained(model, do_lower_case=do_lower_case)\n",
    "        \n",
    "    def __call__(self, sentences, oov_way='avg', filter_spec_tokens=True):\n",
    "        \"\"\"\n",
    "        Get tokens, tokens embedding\n",
    "        Parameters\n",
    "        ----------\n",
    "        sentences : List[str]\n",
    "            sentences for encoding.\n",
    "        oov_way : str, default avg.\n",
    "            use **avg**, **sum** or **last** to get token embedding for those out of\n",
    "            vocabulary words\n",
    "        filter_spec_tokens : bool\n",
    "            filter [CLS], [SEP] tokens.\n",
    "        Returns\n",
    "        -------\n",
    "        List[(List[str], List[ndarray])]\n",
    "            List of tokens, and tokens embedding\n",
    "        \"\"\"\n",
    "        return self.embedding(sentences, oov_way, filter_spec_tokens)\n",
    "\n",
    "    def embedding(self, sentences, oov_way='avg', filter_spec_tokens=True):\n",
    "        # Apply mean pooling to get one fixed sized sentence vector\n",
    "        pooling_model = models.Pooling(self.word_embedding_model.get_word_embedding_dimension(),\n",
    "                                       pooling_mode_mean_tokens=True,\n",
    "                                       pooling_mode_cls_token=False,\n",
    "                                       pooling_mode_max_tokens=False)\n",
    "\n",
    "        bert = SentenceTransformer(modules=[self.word_embedding_model, pooling_model])\n",
    "\n",
    "        sentence_embeddings = bert.encode(sentences, output_value='token_embeddings')\n",
    "\n",
    "        token_ids = []\n",
    "        for sent in sentences:\n",
    "            token_ids.append(bert.tokenize(sent))\n",
    "\n",
    "        batches = []\n",
    "        for token_id, embedding in zip(token_ids, sentence_embeddings):\n",
    "            batches.append((token_id, embedding))\n",
    "\n",
    "        return self.oov(batches, oov_way='avg', filter_spec_tokens=True)\n",
    "\n",
    "    def oov(self, batches, oov_way='avg', filter_spec_tokens=True):\n",
    "        \"\"\"\n",
    "        How to handle oov. Also filter out [CLS], [SEP] tokens.\n",
    "        Parameters\n",
    "        ----------\n",
    "        batches : List[(tokens_id,\n",
    "                        sequence_outputs,\n",
    "                        pooled_output].\n",
    "            batch   token_ids (max_seq_length, ),\n",
    "                    sequence_outputs (max_seq_length, dim, ),\n",
    "                    pooled_output (dim, )\n",
    "        oov_way : str\n",
    "            use **avg**, **sum** or **last** to get token embedding for those out of\n",
    "            vocabulary words\n",
    "        filter_spec_tokens : bool\n",
    "            filter [CLS], [SEP] tokens.\n",
    "        Returns\n",
    "        -------\n",
    "        List[(List[str], List[ndarray])]\n",
    "            List of tokens, and tokens embedding\n",
    "        \"\"\"\n",
    "        sentences = []\n",
    "        for token_ids, sequence_outputs in batches:\n",
    "            tokens = []\n",
    "            tensors = []\n",
    "            oov_len = 1\n",
    "            for token_id, sequence_output in zip(token_ids, sequence_outputs):\n",
    "                if token_id == 1:\n",
    "                    # [PAD] token, sequence is finished.\n",
    "                    break\n",
    "                if (token_id in (2, 3)) and filter_spec_tokens:\n",
    "                    # [CLS], [SEP]\n",
    "                    continue\n",
    "                token = self.word_embedding_model.tokenizer.convert_ids_to_tokens([token_id])[0] #self.tokenizer.convert_ids_to_tokens([token_id])[0] #self.vocab.idx_to_token[token_id]\n",
    "                if token.startswith('##'):\n",
    "                    token = token[2:]\n",
    "                    tokens[-1] += token\n",
    "                    if oov_way == 'last':\n",
    "                        tensors[-1] = sequence_output\n",
    "                    else:\n",
    "                        tensors[-1] += sequence_output\n",
    "                    if oov_way == 'avg':\n",
    "                        oov_len += 1\n",
    "                else:  # iv, avg last oov\n",
    "                    if oov_len > 1:\n",
    "                        tensors[-1] /= oov_len\n",
    "                        oov_len = 1\n",
    "                    tokens.append(token)\n",
    "                    tensors.append(sequence_output)\n",
    "            if oov_len > 1:  # if the whole sentence is one oov, handle this special case\n",
    "                tensors[-1] /= oov_len\n",
    "            sentences.append((tokens, tensors))\n",
    "        return sentences\n"
   ]
  },
  {
   "cell_type": "markdown",
   "metadata": {},
   "source": [
    "## Create a search index"
   ]
  },
  {
   "cell_type": "code",
   "execution_count": 12,
   "metadata": {},
   "outputs": [],
   "source": [
    "# Original code from: https://gist.github.com/avidale/c6b19687d333655da483421880441950\n",
    "\n",
    "from sklearn.neighbors import KDTree\n",
    "import numpy as np\n",
    "\n",
    "\n",
    "class ContextNeighborStorage:\n",
    "    def __init__(self, sentences, model):\n",
    "        self.sentences = sentences\n",
    "        self.model = model\n",
    "\n",
    "    def process_sentences(self):\n",
    "        result = self.model(self.sentences)\n",
    "        self.sentence_ids = []\n",
    "        self.token_ids = []\n",
    "        self.all_tokens = []\n",
    "        all_embeddings = []\n",
    "        for i, (toks, embs) in enumerate(tqdm(result)):\n",
    "            for j, (tok, emb) in enumerate(zip(toks, embs)):\n",
    "                self.sentence_ids.append(i)\n",
    "                self.token_ids.append(j)\n",
    "                self.all_tokens.append(tok)\n",
    "                all_embeddings.append(emb)\n",
    "        all_embeddings = np.stack(all_embeddings)\n",
    "        # we normalize embeddings, so that euclidian distance is equivalent to cosine distance\n",
    "        self.normed_embeddings = (all_embeddings.T / (all_embeddings**2).sum(axis=1) ** 0.5).T\n",
    "        print(\"count self.normed_embeddings: \", len(self.normed_embeddings))\n",
    "\n",
    "    def build_search_index(self):\n",
    "        # this takes some time\n",
    "        self.indexer = KDTree(self.normed_embeddings)\n",
    "\n",
    "    def query(self, query_sent, query_word, k=10, filter_same_word=False):\n",
    "        toks, embs = self.model([query_sent])[0]\n",
    "        found = False\n",
    "        for tok, emb in zip(toks, embs):\n",
    "            if tok == query_word:\n",
    "                found = True\n",
    "                break\n",
    "        if not found:\n",
    "            raise ValueError('The query word \"{}\" is not a single token in sentence {}'.format(query_word, toks))\n",
    "        emb = emb / sum(emb**2)**0.5\n",
    "\n",
    "        if filter_same_word:\n",
    "            initial_k = max(k, 100)\n",
    "        else:\n",
    "            initial_k = k\n",
    "        di, idx = self.indexer.query(emb.reshape(1, -1), k=initial_k)\n",
    "        distances = []\n",
    "        neighbors = []\n",
    "        contexts = []\n",
    "        for i, index in enumerate(idx.ravel()):\n",
    "            token = self.all_tokens[index]\n",
    "            if filter_same_word and (query_word in token or token in query_word or query_word.lower() in token or token in query_word.lower()):\n",
    "                continue\n",
    "            distances.append(di.ravel()[i])\n",
    "            neighbors.append(token)\n",
    "            contexts.append(self.sentences[self.sentence_ids[index]])\n",
    "            if len(distances) == k:\n",
    "                break\n",
    "        \n",
    "        return distances, neighbors, contexts"
   ]
  },
  {
   "cell_type": "code",
   "execution_count": 13,
   "metadata": {
    "scrolled": true
   },
   "outputs": [],
   "source": [
    "simplewiki_medcon = pd.read_csv('../datasources/simplewiki/extracted/swiki_sentences_ngrams_filtered.csv', sep=';')\n",
    "simplewiki_sentences = simplewiki_medcon.sentence.tolist()"
   ]
  },
  {
   "cell_type": "code",
   "execution_count": 14,
   "metadata": {
    "scrolled": true
   },
   "outputs": [
    {
     "name": "stderr",
     "output_type": "stream",
     "text": [
      "INFO:transformers.configuration_utils:loading configuration file ../BERT_models/biobert_pretrain_output_disch_100000/config.json\n",
      "INFO:transformers.configuration_utils:Model config {\n",
      "  \"attention_probs_dropout_prob\": 0.1,\n",
      "  \"finetuning_task\": null,\n",
      "  \"hidden_act\": \"gelu\",\n",
      "  \"hidden_dropout_prob\": 0.1,\n",
      "  \"hidden_size\": 768,\n",
      "  \"id2label\": {\n",
      "    \"0\": \"LABEL_0\",\n",
      "    \"1\": \"LABEL_1\"\n",
      "  },\n",
      "  \"initializer_range\": 0.02,\n",
      "  \"intermediate_size\": 3072,\n",
      "  \"is_decoder\": false,\n",
      "  \"label2id\": {\n",
      "    \"LABEL_0\": 0,\n",
      "    \"LABEL_1\": 1\n",
      "  },\n",
      "  \"layer_norm_eps\": 1e-12,\n",
      "  \"max_position_embeddings\": 512,\n",
      "  \"num_attention_heads\": 12,\n",
      "  \"num_hidden_layers\": 12,\n",
      "  \"num_labels\": 2,\n",
      "  \"output_attentions\": false,\n",
      "  \"output_hidden_states\": false,\n",
      "  \"output_past\": true,\n",
      "  \"pruned_heads\": {},\n",
      "  \"torchscript\": false,\n",
      "  \"type_vocab_size\": 2,\n",
      "  \"use_bfloat16\": false,\n",
      "  \"vocab_size\": 28996\n",
      "}\n",
      "\n",
      "INFO:transformers.modeling_utils:loading weights file ../BERT_models/biobert_pretrain_output_disch_100000/pytorch_model.bin\n",
      "INFO:transformers.tokenization_utils:Model name '../BERT_models/biobert_pretrain_output_disch_100000' not found in model shortcut name list (bert-base-uncased, bert-large-uncased, bert-base-cased, bert-large-cased, bert-base-multilingual-uncased, bert-base-multilingual-cased, bert-base-chinese, bert-base-german-cased, bert-large-uncased-whole-word-masking, bert-large-cased-whole-word-masking, bert-large-uncased-whole-word-masking-finetuned-squad, bert-large-cased-whole-word-masking-finetuned-squad, bert-base-cased-finetuned-mrpc, bert-base-german-dbmdz-cased, bert-base-german-dbmdz-uncased, bert-base-finnish-cased-v1, bert-base-finnish-uncased-v1). Assuming '../BERT_models/biobert_pretrain_output_disch_100000' is a path or url to a directory containing tokenizer files.\n",
      "INFO:transformers.tokenization_utils:Didn't find file ../BERT_models/biobert_pretrain_output_disch_100000/added_tokens.json. We won't load it.\n",
      "INFO:transformers.tokenization_utils:Didn't find file ../BERT_models/biobert_pretrain_output_disch_100000/special_tokens_map.json. We won't load it.\n",
      "INFO:transformers.tokenization_utils:Didn't find file ../BERT_models/biobert_pretrain_output_disch_100000/tokenizer_config.json. We won't load it.\n",
      "INFO:transformers.tokenization_utils:loading file ../BERT_models/biobert_pretrain_output_disch_100000/vocab.txt\n",
      "INFO:transformers.tokenization_utils:loading file None\n",
      "INFO:transformers.tokenization_utils:loading file None\n",
      "INFO:transformers.tokenization_utils:loading file None\n"
     ]
    }
   ],
   "source": [
    "path_to_clinicalbert = '../BERT_models/biobert_pretrain_output_disch_100000'\n",
    "clinicalbert = BertEmbedding(model=path_to_clinicalbert)"
   ]
  },
  {
   "cell_type": "code",
   "execution_count": 15,
   "metadata": {},
   "outputs": [
    {
     "name": "stderr",
     "output_type": "stream",
     "text": [
      "INFO:root:Use pytorch device: cuda\n",
      "Batches: 100%|██████████| 1587/1587 [00:34<00:00, 45.75it/s]\n",
      "100%|██████████| 12694/12694 [00:00<00:00, 179225.42it/s]\n"
     ]
    },
    {
     "name": "stdout",
     "output_type": "stream",
     "text": [
      "count self.normed_embeddings:  238413\n"
     ]
    }
   ],
   "source": [
    "storage = ContextNeighborStorage(sentences=simplewiki_sentences, model=clinicalbert)\n",
    "storage.process_sentences()"
   ]
  },
  {
   "cell_type": "code",
   "execution_count": 7,
   "metadata": {},
   "outputs": [],
   "source": [
    "storage.build_search_index()"
   ]
  },
  {
   "cell_type": "code",
   "execution_count": 8,
   "metadata": {},
   "outputs": [],
   "source": [
    "# Store data (serialize)\n",
    "with open('./simplewiki_KDTree_clinicalbert.pickle', 'wb') as handle:\n",
    "    pickle.dump(storage, handle, protocol=pickle.HIGHEST_PROTOCOL)"
   ]
  },
  {
   "cell_type": "code",
   "execution_count": 16,
   "metadata": {},
   "outputs": [],
   "source": [
    "# Load data (deserialize)\n",
    "with open('./simplewiki_KDTree_clinicalbert.pickle', 'rb') as handle:\n",
    "    tree_copy = pickle.load(handle)"
   ]
  },
  {
   "cell_type": "code",
   "execution_count": 27,
   "metadata": {},
   "outputs": [],
   "source": [
    "# tree_copy.indexer.get_arrays()"
   ]
  },
  {
   "cell_type": "code",
   "execution_count": 28,
   "metadata": {},
   "outputs": [],
   "source": [
    "# tree_copy.indexer.get_tree_stats()"
   ]
  },
  {
   "cell_type": "markdown",
   "metadata": {},
   "source": [
    "# Experiments"
   ]
  },
  {
   "cell_type": "markdown",
   "metadata": {},
   "source": [
    "__Meningitis__ \\\n",
    "CHV_selection: ['meningitis', 'meningitis/encephalitis', 'pachymeningitis'] \\\n",
    "\"Alexandra died in 1869 from meningitis.\" \\\n",
    "\"It would if she developed meningitis.\" \\\n",
    "\"This man has meningitis.\" \\\n",
    "\"He doesn't even have meningitis.\" \\\n",
    "\"There's no evidence of meningitis on that MRI.\" \\\n",
    "\"Well, then she's dying, 'cause the meningitis treatment isn't helping her.\" \\\n",
    "\"How about them cheap meningitis drugs they pawning off in Africa?\" \\\n",
    "\"No meningitis, no other infections.\" \\\n",
    "\"She could be, but a meningitis patient will be without a CT scan.\" \\\n",
    "\"The antibiotic we gave you in case you had meningitis can turn your tears reddish.\" \\\n",
    "\"If it's meningitis, we have to lD the bug fast.\" \\\n",
    "\"If it was meningitis, we'd all be sick.\" \\\n",
    "\"Progression's too fast.More likely meningitis.\" \\\n",
    "\"LP was negative for meningitis.\" \\\n",
    "\"Just like everybody else we've had to give meningitis shots to.\" \\\n",
    "\"They swap spit, virus travels to his brain, leads to meningitis, leads to increased intracranial pressure.\" \\\n",
    "\"What if it was caused by nf2 cancer instead of his childhood meningitis?\" \\\n",
    "\"Run CSF tests, find out what's causing the meningitis.\"\n",
    "\n",
    "__Gingivitis__ \\\n",
    "CHV_selection: ['gum inflammation'] \\\n",
    "\"The leaves and bark are used for controlling blood pressure and gingivitis.\"\n",
    "\n",
    "__Atrophy__ \\\n",
    "CHV_selection: ['atrophy', 'atrophic'] \\\n",
    "\"Unable to function, the muscles weaken and exhibit atrophy.\" \\\n",
    "\"If you don't exercise it, it'll atrophy, just like anything else.\"\n",
    "\n",
    "__SMA__ \\\n",
    "CHA_selection: ['spinal muscular atrophy', 'kennedy syndrome'] \\\n",
    "\"Infection stresses his already weakened system, makes his SMA worse.\"\n",
    "\n",
    "__leukoencephalopathy__ \\\n",
    "CHV_selection: ['leukoencephalopathy'] \\\n",
    "\"What about leukoencephalopathy in a 16-year-old?\"\n",
    "\n",
    "__lameness__ \\\n",
    "CHV_selection: ['claudication'] \\\n",
    "\"One of his arms and both feet became enlarged and at some point during his childhood he fell and damaged his hip, resulting in permanent lameness.\"\n",
    "\n",
    "__Myelofibrosis__ \\\n",
    "CHV_selection: ['agnogenic myeloid metaplasia', 'idiopathic myelofibrosis', 'myelosclerosis with myeloid metaplasia', 'primary myelofibrosis', 'myelofibrosis'] \\\n",
    "CHV_sub: \"idiopathic myelofibrosis\" \\\n",
    "\"Myelofibrosis fits, but testing takes at least 48 hours.\"\n",
    "\n",
    "__IBD__ \\\n",
    "CHV_selection: ['inflammatory bowel disease', 'irritable bowel syndrome (IBS)'] \\\n",
    "\"Biopsy showed non-specific inflammation, which suggests IBD.\"\n",
    "\n",
    "__hypoperfusion__ \\\n",
    "CHV_selection: ['hypoperfusion', 'respiratory distress syndrome'] \\\n",
    "\"But SARS explains the cough, causes hypoperfusion, which explains the ischemic bowel.\" \\\n",
    "\"There's a slight hypoperfusion in the anterior cortex.\" \\\n",
    "\"The condition usually results from infection, injury (accident, surgery), hypoperfusion and hypermetabolism.\"\n",
    "\n",
    "__melanoma__ \\\n",
    "CHV_selection: ['melanoma'] \\\n",
    "\"Check for melanomas.\" \\\n",
    "\"From considering melanoma as a diagnosis.\" \\\n",
    "\"Unfortunately, it also prevents even those with advanced medical degrees from considering melanoma as a diagnosis.\" \\\n",
    "\"The biopsy revealed it's melanoma.\" \\\n",
    "\"The woman has melanoma.\" \\\n",
    "\"The woman has melanoma, she could die if we don't...\" \\\n",
    "\"Since the baby has the melanoma, we kind of already knew the mom had it.\" \\\n",
    "\"What's interesting is that mom's melanoma spread to the baby in utero, which means it's metastatic, which means it's late stage.\" \\\n",
    "\"How many people with a late stage melanoma are as healthy as she is?\" \\\n",
    "\"Clearly, something's going on in mom's blood that's treating her melanoma as well as her baby's.\" \\\n",
    "\"If her immune system was fighting the melanoma, it never would have spread.\" \\\n",
    "\"Exactly, which means it's fighting something else, and the melanoma cells are getting caught in the crossfire.\" \\\n",
    "\"Could his dad's melanoma be a factor here?\" \\\n",
    "\"If the kid's dad died young of melanoma, how come the overprotective mom never took him to a dermatologist?\" \\\n",
    "\"His family history of melanoma may have affected his cellular outlook.\" \\\n",
    "\"If we had more data on the exact type of melanoma his father had...\"\n",
    "\n",
    "__Granuloma__ \\\n",
    "CHV_selection: ['granuloma', 'granulomatous lesion'] \\\n",
    "CHV_sub: \"granulomatous lesion\" \\\n",
    "\"Or infections that cause granulomas,\" \\\n",
    "\"Time to scan her for infections that could cause granulomas.\" \\\n",
    "\"Lungs clear for granulomas.\" \\\n",
    "'The nodules in his spleen were granulomas.' \\\n",
    "\"He could have had a granuloma in his sinuses that bled, which could have been caused by Wegener's.\" \\\n",
    "\"Could be granulomas, could be plaques.\" \\\n",
    "\"We can nuke them with a mild course of chemo and then remove the granuloma.\" \\\n",
    "\"Looked like a granuloma on the MRI, but it's not.\" \\\n",
    "\"He's got wegener's, which means he's got granulomas.\" \\\n",
    "\"MRI showed a granuloma in his liver.\" \\\n",
    "\"He had a granuloma in his liver.\" \\\n",
    "\"They found granulomas in Lucy's pericardium.\"\n",
    "\n",
    "__sarcoidosis__ \\\n",
    "CHV_selection: ['sarcoidosis'] \\\n",
    "\"But the calcified pineal could be sarcoidosis.\" \\\n",
    "\"The PET scan was negative for sarcoidosis.\" \\\n",
    "\"Sarcoidosis is a diagnosis of exclusion, which means that the cowards who spend their time excluding what it isn't usually cause their patients to die from what it is.\" \\\n",
    "\"Sarcoidosis could be inflamed by the treatment.\" \\\n",
    "\"I'm fairly confident our patient's got sarcoidosis.\" \\\n",
    "\"We ran some tests and the results point toward sarcoidosis.\" \\\n",
    "\"And triggered a dormant sarcoidosis.\" \\\n",
    "\"Sarcoidosis could be in his brain and lungs.\" \\\n",
    "\"If sarcoidosis has two environmental causes, it has environmental causes.\" \\\n",
    "\"Sarcoidosis isn't infectious or environmental.\" \\\n",
    "\"Sarcoidosis explains almost all of their symptoms.\" \\\n",
    "\"A.C.E. Levels are too low for sarcoidosis.\" \\\n",
    "\"Maggie tested negative for sarcoidosis.\" \\\n",
    "\"Sarcoidosis hits the spleen and the liver.\" \\\n",
    "\"Sarcoidosis is progressive.\" \\\n",
    "\"The heart could point to sarcoidosis.\"\n",
    "\n",
    "__hemosiderosis__ \\\n",
    "CHV_selection: ['hemosiderosis'] \\\n",
    "\"The donor had hemosiderosis.\"\n",
    "\n",
    "__amyloidosis__ \\\n",
    "CHV_selection: ['amyloidosis'] \\\n",
    "\"The largest risk factors for spontaneous bleeding are high blood pressure and amyloidosis.\" \\\n",
    "\"Negative for amyloidosis.\" \\\n",
    "\"Plus internal bleeding, equals amyloidosis.\" \\\n",
    "\"He's bleeding way too much for amyloidosis.\" \\\n",
    "\"Except that nothing in his medical history remotely indicates amyloidosis.\" \\\n",
    "\"He needs a bone marrow transplant for the amyloidosis.\" \\\n",
    "\"Only way to treat amyloidosis is to treat whatever's causing it.\" \\\n",
    "\"Amyloidosis with systemic involvement.\" \\\n",
    "\"If you had amyloidosis, there'd be speckling on your cardiac ultrasound.\" \\\n",
    "\"We'll do a kidney biopsy to test for amyloidosis.\" \\\n",
    "\"Biopsy showed deposits in the renal endothelium consistent with amyloidosis.\"\n",
    "\n",
    "__laryngospasm__ \\\n",
    "CHV_selection: ['laryngospasm'] \\\n",
    "\"Do a bronchoscopy, it'll set off a laryngospasm.\" \\\n",
    "\"This is our chance to prove laryngospasm.\"\n",
    "\n",
    "__porphyria__ \\\n",
    "CHV_selection: ['porphyria'] \\\n",
    "\"If she had porphyria, you would have seen purple urine.\" \\\n",
    "\"Pulmonary involvement rules out porphyria.\" \\\n",
    "\"It's also a porphyria trigger.\" \\\n",
    "\"I was wrong about the porphyria, but I wasn't wrong about the nervous system.\" \\\n",
    "\"If you're wrong about porphyria, the treatment could box her kidneys.\" \\\n",
    "\"it's porphyria and it's moving fast.\"\n",
    "\n",
    "__nystagmus__ \\\n",
    "CHV_selection: ['nystagmus'] \\\n",
    "\"Also, many blind people have nystagmus, which is one reason that some wear dark glasses.\" \\\n",
    "\"There are two key forms of nystagmus: pathological and physiological, with variations within each type.\"\n",
    "\n",
    "__bronchiectasis__ \\\n",
    "CHV_selection: ['bronchiectasis'] \\\n",
    "\"People with bronchiectasis may have bad breath indicative of active infection.\" \\\n",
    "\"Some people with bronchiectasis may produce frequent green/yellow sputum (up to 240ml (8 oz) daily).\" \\\n",
    "\"Bronchiectasis has both congenital and acquired causes, with the latter more frequent.\""
   ]
  },
  {
   "cell_type": "code",
   "execution_count": 3,
   "metadata": {},
   "outputs": [],
   "source": [
    "sentences = [\n",
    "        (\"The antibiotic we gave you in case you had meningitis can turn your tears reddish.\",\n",
    "         \"meningitis\"),\n",
    "        (\"They swap spit, virus travels to his brain, leads to meningitis, leads to increased intracranial pressure.\",\n",
    "         \"meningitis\"),\n",
    "        (\"The leaves and bark are used for controlling blood pressure and gingivitis.\",\n",
    "         \"gingivitis\"),\n",
    "        (\"Unable to function, the muscles weaken and exhibit atrophy.\", \"atrophy\"),\n",
    "        (\"If you don't exercise it, it'll atrophy, just like anything else.\",\n",
    "         \"atrophy\"),\n",
    "        (\"Infection stresses his already weakened system, makes his SMA worse.\",\n",
    "         \"SMA\"),\n",
    "        (\"One of his arms and both feet became enlarged and at some point during his childhood he fell and damaged his hip, resulting in permanent lameness.\",\n",
    "         \"lameness\"),\n",
    "        (\"But SARS explains the cough, causes hypoperfusion, which explains the ischemic bowel.\",\n",
    "         \"hypoperfusion\"),\n",
    "        (\"There's a slight hypoperfusion in the anterior cortex.\",\n",
    "         \"hypoperfusion\"),\n",
    "        (\"The condition usually results from infection, injury (accident, surgery), hypoperfusion and hypermetabolism.\",\n",
    "         \"hypoperfusion\"),\n",
    "        (\"Myelofibrosis fits, but testing takes at least 48 hours.\",\n",
    "         \"Myelofibrosis\"),\n",
    "        (\"Biopsy showed non-specific inflammation, which suggests IBD.\", \"IBD\"),\n",
    "        (\"The biopsy revealed it's melanoma.\", \"melanoma\"),\n",
    "        (\"What's interesting is that mom's melanoma spread to the baby in utero, which means it's metastatic, which means it's late stage.\",\n",
    "         \"melanoma\"),\n",
    "        (\"How many people with a late stage melanoma are as healthy as she is?\",\n",
    "         \"melanoma\"),\n",
    "        (\"His family history of melanoma may have affected his cellular outlook.\",\n",
    "         \"melanoma\"),\n",
    "        (\"If the kid's dad died young of melanoma, how come the overprotective mom never took him to a dermatologist?\",\n",
    "         \"melanoma\"),\n",
    "        (\"He could have had a granuloma in his sinuses that bled, which could have been caused by Wegener's.\",\n",
    "         \"granuloma\"), (\"MRI showed a granuloma in his liver.\", \"granuloma\"),\n",
    "        (\"We can nuke them with a mild course of chemo and then remove the granuloma.\",\n",
    "         \"granuloma\"),\n",
    "        (\"Time to scan her for infections that could cause granulomas.\",\n",
    "         \"granulomas\"),\n",
    "        (\"But the calcified pineal could be sarcoidosis.\", \"sarcoidosis\"),\n",
    "        (\"Sarcoidosis could be in his brain and lungs.\", \"Sarcoidosis\"),\n",
    "        (\"The PET scan was negative for sarcoidosis.\", \"sarcoidosis\"),\n",
    "        (\"Sarcoidosis isn't infectious or environmental.\", \"Sarcoidosis\"),\n",
    "        (\"The donor had hemosiderosis.\", \"hemosiderosis\"),\n",
    "        (\"The largest risk factors for spontaneous bleeding are high blood pressure and amyloidosis.\",\n",
    "         \"amyloidosis\"),\n",
    "        (\"If you had amyloidosis, there'd be speckling on your cardiac ultrasound.\",\n",
    "         \"amyloidosis\"),\n",
    "        (\"Biopsy showed deposits in the renal endothelium consistent with amyloidosis.\",\n",
    "         \"amyloidosis\"),\n",
    "        (\"He needs a bone marrow transplant for the amyloidosis.\", \"amyloidosis\"),\n",
    "        (\"Do a bronchoscopy, it'll set off a laryngospasm.\", \"laryngospasm\"),\n",
    "        (\"If she had porphyria, you would have seen purple urine.\", \"porphyria\"),\n",
    "        (\"If you're wrong about porphyria, the treatment could box her kidneys.\",\n",
    "         \"porphyria\"),\n",
    "        (\"Also, many blind people have nystagmus, which is one reason that some wear dark glasses.\",\n",
    "         \"nystagmus\"),\n",
    "        (\"There are two key forms of nystagmus: pathological and physiological, with variations within each type.\",\n",
    "         \"nystagmus\"),\n",
    "        (\"People with bronchiectasis may have bad breath indicative of active infection.\",\n",
    "         \"bronchiectasis\"),\n",
    "        (\"Some people with bronchiectasis may produce frequent green/yellow sputum (up to 240ml (8 oz) daily).\",\n",
    "         \"bronchiectasis\"),\n",
    "        (\"Bronchiectasis has both congenital and acquired causes, with the latter more frequent.\",\n",
    "         \"Bronchiectasis\"),\n",
    "        (\"However, Satie's military career did not last very long; within a few months he was discharged after deliberately infecting himself with bronchitis.\",\n",
    "         \"bronchitis\"),\n",
    "        (\"In January 1876, his father died of bronchitis following a long period of depression.\",\n",
    "         \"bronchitis\"),\n",
    "        (\"She died in The Hague on 20 March 1934, of complications from bronchitis at the age of 75, and was buried in Delft.\",\n",
    "         \"bronchitis\"),\n",
    "        (\"She died in The Hague on 20 March 1934, of complications from bronchitis at the age of 75.\",\n",
    "         \"bronchitis\"),\n",
    "        (\"Menuhin died in Martin Luther Hospital, Berlin, Germany, from complications of bronchitis.\",\n",
    "         \"bronchitis\"),\n",
    "        (\"It is one of the rarest forms of synesthesia.\", \"synesthesia\"),\n",
    "        (\"An outbreak of tularemia occurred in Kosovo in 1999-2000.\", \"tularemia\"),\n",
    "        (\"Over the following summers, Martha's Vineyard was identified as the only place in the world where documented cases of tularemia resulted from lawn mowing.\",\n",
    "         \"tularemia\"),\n",
    "        (\"Tularemia is not spread directly from person to person.\", \"Tularemia\"),\n",
    "        (\"There is currently no effective treatment or cure for akinetopsia.\",\n",
    "         \"akinetopsia\"),\n",
    "        (\"Patients with akinetopsia struggle with many issues in their day-to-day life, depending on the severity of their condition.\",\n",
    "         \"akinetopsia\"),\n",
    "        (\"Besides simple perception, akinetopsia also disturbs visuomotor tasks, such as reaching for objects and catching objects.\",\n",
    "         \"akinetopsia\"),\n",
    "        (\"Inconspicuous akinetopsia can be selectively and temporarily induced using transcranial magnetic stimulation (TMS) of area V5 of the visual cortex in healthy subjects.\",\n",
    "         \"akinetopsia\"),\n",
    "        (\"Only in a few cases and after many years does it cause demyelination.\",\n",
    "         \"demyelination\"),\n",
    "    (\"Ho was diagnosed with cardiomyopathy in 2005 and had a pacemaker implanted.\",\n",
    "     \"cardiomyopathy\"),\n",
    "    (\"He was diagnosed with cardiomyopathy in 2005 and had a pacemaker implanted.\",\n",
    "     \"cardiomyopathy\"),\n",
    "    (\"His echocardiogram was negative for cardiomyopathy.\", \"cardiomyopathy\"),\n",
    "    (\"And a subsequent biopsy revealed irreversible cardiomyopathy.\",\n",
    "     \"cardiomyopathy\"),\n",
    "    (\"The kid has severe cardiomyopathy.\", \"cardiomyopathy\"),\n",
    "    (\"Which means it could be a hematological problem plus cardiomyopathy\",\n",
    "     \"cardiomyopathy\"),\n",
    "    (\"An acute myocardial infarction, happens when a blood vessel in the heart suddenly becomes blocked.\",\n",
    "     \"myocardial\"),\n",
    "    (\"Patau syndrome is a syndrome caused by a chromosomal abnormality, in which some or all of the cells of the body contain extra genetic material from chromosome 13.\",\n",
    "     \"Patau\"),\n",
    "    (\"Most cases of Patau syndrome are not inherited, but occur as random events during the formation of reproductive cells (eggs and sperm).\",\n",
    "     \"Patau\"),\n",
    "    (\"But a baby with Patau syndrome has 3 copies of chromosome 13, instead of 2.\",\n",
    "     \"Patau\"),\n",
    "    (\"Nora is diagnosed with Trisomy 13.\", \"Trisomy\"),\n",
    "    (\"The patient has trisomy 13.\", \"trisomy\"),\n",
    "    (\"The patient has trisomy 21.\", \"trisomy\"),\n",
    "    (\"Rarely very low blood pressure may be the only sign of anaphylaxis.\",\n",
    "     \"anaphylaxis\"),\n",
    "    (\"Worldwide, 0.05-2% of the population is estimated to have anaphylaxis at some point in life, and rates appear to be increasing.\",\n",
    "     \"anaphylaxis\"),\n",
    "    (\"On a mechanistic level, anaphylaxis is caused by the release of mediators from certain types of white blood cells triggered either by immunologic or non-immunologic mechanisms.\",\n",
    "     \"anaphylaxis\"),\n",
    "    (\"Previous systemic reactions, which are anything more than a local reaction around the site of the sting, are a risk factor for future anaphylaxis; however, half of fatalities have had no previous systemic reaction.\",\n",
    "     \"anaphylaxis\"),\n",
    "    ('In a person who died from anaphylaxis, autopsy may show an \"empty heart\" attributed to reduced venous return from vasodilation and redistribution of intravascular volume from the central to the peripheral compartment.',\n",
    "     \"anaphylaxis\"),\n",
    "    (\"Anaphylaxis can occur in response to almost any foreign substance.\",\n",
    "     \"Anaphylaxis\"),\n",
    "    (\"Many foods can trigger anaphylaxis; this may occur upon the first known ingestion.\",\n",
    "     \"anaphylaxis\"),\n",
    "    ('People prone to anaphylaxis are advised to have an \"allergy action plan.\"',\n",
    "     \"anaphylaxis\"),\n",
    "    (\"The antitoxin could cause anaphylaxis.\", \"anaphylaxis\"),\n",
    "    (\"A food allergy explains the anaphylaxis.\", \"anaphylaxis\"),\n",
    "    (\"They die of dysentery.\", \"dysentery\"),\n",
    "    (\"Henry II moved in support of Richard, and Henry the Young King died from dysentery at the end of the campaign.\",\n",
    "     \"dysentery\"),\n",
    "    (\"Once at Richmond, Madison began drafting the Report, though he was delayed by a weeklong battle with dysentery.\",\n",
    "     \"dysentery\"),\n",
    "    (\"Psoriasis varies in severity from small, localized patches to complete body coverage.\",\n",
    "     \"Psoriasis\"),\n",
    "    (\"Psoriasis is generally thought to be a genetic disease that is triggered by environmental factors.\",\n",
    "     \"Psoriasis\"),\n",
    "    (\"There are five main types of psoriasis: plaque, guttate, inverse, pustular, and erythrodermic.\",\n",
    "     \"psoriasis\"),\n",
    "    (\"If one twin has psoriasis, the other twin is three times more likely to be affected if the twins are identical than if they are non-identical.\",\n",
    "     \"psoriasis\"),\n",
    "    (\"High doses may lead to muscles contractions.\", \"contractions\"),\n",
    "    (\"High doses may lead to convulsions.\", \"convulsions\"),\n",
    "    (\"To reduce the encephalocele cyst.\", \"encephalocele\"),\n",
    "    (\"Epistaxis in children is usually from Little's area, which is on the septal wall anteriorly.\",\n",
    "     \"Epistaxis\"),\n",
    "    (\"Once epistaxis occurs, the importance of the first treatment for the haemostasis should be emphasized.\",\n",
    "     \"epistaxis\")\n",
    "]"
   ]
  },
  {
   "cell_type": "code",
   "execution_count": 4,
   "metadata": {},
   "outputs": [],
   "source": [
    "import sys\n",
    "sys.path.insert(1, '../LexSimp_BERT_MLM/')\n",
    "\n",
    "from transformers import BertForMaskedLM, BertTokenizer\n",
    "import torch\n",
    "import MLM_LS\n",
    "from nltk.corpus import stopwords\n",
    "from nltk.stem import PorterStemmer\n",
    "from sklearn.metrics.pairwise import cosine_similarity as cosine\n",
    "import pandas as pd\n",
    "from tqdm import tqdm\n",
    "import pickle"
   ]
  },
  {
   "cell_type": "code",
   "execution_count": 5,
   "metadata": {},
   "outputs": [],
   "source": [
    "def substitution_selection(source_word, closest_candidates, stopwords, ps, num_selection):\n",
    "    cur_tokens = []\n",
    "    cur_contexts = []\n",
    "\n",
    "    source_stem = ps.stem(source_word)\n",
    "\n",
    "    assert num_selection <= len(closest_candidates)\n",
    "\n",
    "    punctuationMarks = [',', '.', ';', ':', '(', '-', ')', '{', '}', '[', ']', '\\\\', '/', '!', '?', '<', '>', '\"', \"'\"]\n",
    "    \n",
    "#     candidates = []\n",
    "#     contexts = []\n",
    "    for word, context in closest_candidates:\n",
    "#         candidates.append(word)\n",
    "#         contexts.append(context)\n",
    "    \n",
    "#     for i in range(len(candidates)):\n",
    "#         token = candidates[i]\n",
    "        token = word\n",
    "\n",
    "        if token[0:2] == \"##\":\n",
    "            continue\n",
    "\n",
    "        if (token == source_word):\n",
    "            continue\n",
    "\n",
    "        if str(token).isdigit():\n",
    "            continue\n",
    "\n",
    "        if token.isalpha() and len(token) == 1:\n",
    "            continue\n",
    "\n",
    "        if token in punctuationMarks:\n",
    "            continue\n",
    "\n",
    "        if token.lower() in stopwords:\n",
    "            continue\n",
    "\n",
    "        token_stem = ps.stem(token)\n",
    "\n",
    "        if (token_stem.lower() == source_stem.lower()):\n",
    "            continue\n",
    "\n",
    "        # if (len(token_stem) >= 3) and (token_stem[:3].lower() == source_stem[:3].lower()):\n",
    "        #     continue  \n",
    "        \n",
    "        if token.lower() in [x.lower() for x in cur_tokens]:\n",
    "            continue\n",
    "            \n",
    "        cur_tokens.append(token)\n",
    "        \n",
    "        cur_contexts.append(context)\n",
    "\n",
    "        if (len(cur_tokens) == num_selection):\n",
    "            break\n",
    "\n",
    "    if (len(cur_tokens) == 0):\n",
    "        candidates = closest_candidates[0:num_selection + 1]\n",
    "        for d, w, c in candidates:\n",
    "            cur_tokens.append(w)\n",
    "            cur_contexts.append(c)\n",
    "            \n",
    "    assert len(cur_tokens) > 0\n",
    "    assert len(cur_tokens) == len(cur_contexts)\n",
    "    \n",
    "    ss = list(zip(cur_tokens, cur_contexts))\n",
    "\n",
    "    return ss"
   ]
  },
  {
   "cell_type": "code",
   "execution_count": 6,
   "metadata": {},
   "outputs": [],
   "source": [
    "def get_score(sentence, tokenizer, maskedLM):\n",
    "    tokenize_input = tokenizer.tokenize(sentence)\n",
    "    tensor_input = torch.tensor([tokenizer.convert_tokens_to_ids(tokenize_input)])\n",
    "    tensor_input = tensor_input.to('cuda')\n",
    "    sentence_loss = 0\n",
    "\n",
    "    for i, word in enumerate(tokenize_input):\n",
    "        original_word = tokenize_input[i]\n",
    "        tokenize_input[i] = '[MASK]'\n",
    "        # print(tokenize_input)\n",
    "        mask_input = torch.tensor([tokenizer.convert_tokens_to_ids(tokenize_input)])\n",
    "        mask_input = mask_input.to('cuda')\n",
    "        with torch.no_grad():\n",
    "            word_loss = maskedLM(mask_input, masked_lm_labels=tensor_input)[0].data.cpu().numpy()\n",
    "        sentence_loss += word_loss\n",
    "        tokenize_input[i] = original_word\n",
    "\n",
    "    return np.exp(sentence_loss / len(tokenize_input))\n",
    "\n",
    "\n",
    "def LM_score(source_word, source_context, substitution_selection, tokenizer, maskedLM):\n",
    "    # source_index = source_context.index(source_word)\n",
    "\n",
    "    source_sentence = ''\n",
    "\n",
    "    for context in source_context:\n",
    "        source_sentence += context + \" \"\n",
    "\n",
    "    source_sentence = source_sentence.strip()\n",
    "    # print(source_sentence)\n",
    "    LM = []\n",
    "\n",
    "    for substibution, context in substitution_selection:\n",
    "        sub_sentence = source_sentence.replace(source_word, substibution)\n",
    "\n",
    "        # print(sub_sentence)\n",
    "        score = get_score(sub_sentence, tokenizer, maskedLM)\n",
    "        LM.append(score)\n",
    "\n",
    "    return LM\n",
    "\n",
    "def preprocess_SR(source_word, substitution_selection, fasttext_dico, fasttext_emb, word_count):\n",
    "    ss = []\n",
    "    # ss_score=[]\n",
    "    sis_scores=[]\n",
    "    count_scores=[]\n",
    "    # source_count = 10\n",
    "    # if source_word in word_count:\n",
    "    #     source_count = word_count[source_word]\n",
    "\n",
    "    isFast = True\n",
    "\n",
    "    if (source_word not in fasttext_dico):\n",
    "        isFast = False\n",
    "    else:\n",
    "        source_emb = fasttext_emb[fasttext_dico.index(source_word)].reshape(1,-1)\n",
    "\n",
    "    if isFast == False and source_word.lower() in fasttext_dico:\n",
    "        isFast = True\n",
    "        source_emb = fasttext_emb[fasttext_dico.index(source_word.lower())].reshape(1,-1)\n",
    "\n",
    "    # ss.append(source_word)\n",
    "\n",
    "    for sub, context in substitution_selection:\n",
    "\n",
    "        if sub.lower() not in word_count:\n",
    "            continue\n",
    "        else:\n",
    "            sub_count = word_count[sub.lower()]\n",
    "\n",
    "        # if sub_count<source_count:\n",
    "        #     continue\n",
    "        if isFast:\n",
    "            if sub not in fasttext_dico:\n",
    "                if sub.lower() not in fasttext_dico:\n",
    "                    continue\n",
    "                else:\n",
    "                    sub_emb = fasttext_emb[fasttext_dico.index(sub.lower())].reshape(1, -1)\n",
    "            else:\n",
    "                sub_emb = fasttext_emb[fasttext_dico.index(sub)].reshape(1, -1)\n",
    "\n",
    "            sis = cosine(source_emb, sub_emb)[0][0]\n",
    "\n",
    "            # if sis<0.35:\n",
    "            #    continue\n",
    "            sis_scores.append(sis)\n",
    "\n",
    "        ss.append((sub, context.strip()))\n",
    "        count_scores.append(sub_count)\n",
    "\n",
    "    return ss, sis_scores, count_scores\n",
    "\n",
    "def substitution_ranking(source_word, source_context, substitution_selection, fasttext_dico, fasttext_emb, word_count,\n",
    "                         tokenizer, maskedLM):\n",
    "    ss, sis_scores, count_scores = preprocess_SR(source_word, substitution_selection, fasttext_dico, fasttext_emb,\n",
    "                                                 word_count)\n",
    "\n",
    "    if len(ss) == 0:\n",
    "        return source_word\n",
    "\n",
    "    if len(sis_scores) > 0:\n",
    "        seq = sorted(sis_scores, reverse=True)\n",
    "        sis_rank = [seq.index(v) + 1 for v in sis_scores]\n",
    "\n",
    "    rank_count = sorted(count_scores, reverse=True)\n",
    "    count_rank = [rank_count.index(v) + 1 for v in count_scores]\n",
    "\n",
    "    lm_score = LM_score(source_word, source_context, ss, tokenizer, maskedLM)\n",
    "    rank_lm = sorted(lm_score)\n",
    "    lm_rank = [rank_lm.index(v) + 1 for v in lm_score]\n",
    "\n",
    "    bert_rank = []\n",
    "    for i in range(len(ss)):\n",
    "        bert_rank.append(i + 1)\n",
    "\n",
    "    if len(sis_scores) > 0:\n",
    "        all_ranks = [bert + sis + count + LM for bert, sis, count, LM in zip(bert_rank, sis_rank, count_rank, lm_rank)]\n",
    "    else:\n",
    "        all_ranks = [bert + count + LM for bert, count, LM in zip(bert_rank, count_rank, lm_rank)]\n",
    "\n",
    "#     print(\"bert_rank: \", bert_rank)\n",
    "#     if len(sis_scores) > 0:\n",
    "#         print(\"sis_rank: \", sis_rank)\n",
    "#     print(\"count_rank: \", count_rank)\n",
    "#     print(\"lm_rank: \", lm_rank)\n",
    "#     print(\"all_ranks: \", all_ranks)\n",
    "    \n",
    "    substitution_rank = list(zip(ss, all_ranks))\n",
    "    sort_substitution_rank = sorted(substitution_rank, key=lambda x: x[1])\n",
    "#     print(\"Sorted substitution rank:\\n\", sort_substitution_rank)\n",
    "    \n",
    "    sorted_substitutions = []\n",
    "    for i, item in enumerate(sort_substitution_rank):\n",
    "        sorted_substitutions.append(item[0])\n",
    "\n",
    "    return sorted_substitutions\n"
   ]
  },
  {
   "cell_type": "code",
   "execution_count": 7,
   "metadata": {},
   "outputs": [
    {
     "name": "stderr",
     "output_type": "stream",
     "text": [
      "INFO:transformers.tokenization_utils:Model name '../BERT_models/biobert_pretrain_output_disch_100000' not found in model shortcut name list (bert-base-uncased, bert-large-uncased, bert-base-cased, bert-large-cased, bert-base-multilingual-uncased, bert-base-multilingual-cased, bert-base-chinese, bert-base-german-cased, bert-large-uncased-whole-word-masking, bert-large-cased-whole-word-masking, bert-large-uncased-whole-word-masking-finetuned-squad, bert-large-cased-whole-word-masking-finetuned-squad, bert-base-cased-finetuned-mrpc, bert-base-german-dbmdz-cased, bert-base-german-dbmdz-uncased, bert-base-finnish-cased-v1, bert-base-finnish-uncased-v1). Assuming '../BERT_models/biobert_pretrain_output_disch_100000' is a path or url to a directory containing tokenizer files.\n",
      "INFO:transformers.tokenization_utils:Didn't find file ../BERT_models/biobert_pretrain_output_disch_100000/added_tokens.json. We won't load it.\n",
      "INFO:transformers.tokenization_utils:Didn't find file ../BERT_models/biobert_pretrain_output_disch_100000/special_tokens_map.json. We won't load it.\n",
      "INFO:transformers.tokenization_utils:Didn't find file ../BERT_models/biobert_pretrain_output_disch_100000/tokenizer_config.json. We won't load it.\n",
      "INFO:transformers.tokenization_utils:loading file ../BERT_models/biobert_pretrain_output_disch_100000/vocab.txt\n",
      "INFO:transformers.tokenization_utils:loading file None\n",
      "INFO:transformers.tokenization_utils:loading file None\n",
      "INFO:transformers.tokenization_utils:loading file None\n"
     ]
    }
   ],
   "source": [
    "# Load pre-trained model tokenizer (vocabulary)\n",
    "tokenizer = BertTokenizer.from_pretrained('../BERT_models/biobert_pretrain_output_disch_100000', do_lower_case=False)"
   ]
  },
  {
   "cell_type": "code",
   "execution_count": 8,
   "metadata": {},
   "outputs": [
    {
     "name": "stdout",
     "output_type": "stream",
     "text": [
      "Loading embeddings ...\n",
      "2000000 300\n",
      "\n"
     ]
    },
    {
     "name": "stderr",
     "output_type": "stream",
     "text": [
      "INFO:transformers.configuration_utils:loading configuration file ../BERT_models/biobert_pretrain_output_disch_100000/config.json\n",
      "INFO:transformers.configuration_utils:Model config {\n",
      "  \"attention_probs_dropout_prob\": 0.1,\n",
      "  \"finetuning_task\": null,\n",
      "  \"hidden_act\": \"gelu\",\n",
      "  \"hidden_dropout_prob\": 0.1,\n",
      "  \"hidden_size\": 768,\n",
      "  \"id2label\": {\n",
      "    \"0\": \"LABEL_0\",\n",
      "    \"1\": \"LABEL_1\"\n",
      "  },\n",
      "  \"initializer_range\": 0.02,\n",
      "  \"intermediate_size\": 3072,\n",
      "  \"is_decoder\": false,\n",
      "  \"label2id\": {\n",
      "    \"LABEL_0\": 0,\n",
      "    \"LABEL_1\": 1\n",
      "  },\n",
      "  \"layer_norm_eps\": 1e-12,\n",
      "  \"max_position_embeddings\": 512,\n",
      "  \"num_attention_heads\": 12,\n",
      "  \"num_hidden_layers\": 12,\n",
      "  \"num_labels\": 2,\n",
      "  \"output_attentions\": false,\n",
      "  \"output_hidden_states\": false,\n",
      "  \"output_past\": true,\n",
      "  \"pruned_heads\": {},\n",
      "  \"torchscript\": false,\n",
      "  \"type_vocab_size\": 2,\n",
      "  \"use_bfloat16\": false,\n",
      "  \"vocab_size\": 28996\n",
      "}\n",
      "\n",
      "INFO:transformers.modeling_utils:loading weights file ../BERT_models/biobert_pretrain_output_disch_100000/pytorch_model.bin\n",
      "INFO:transformers.modeling_utils:Weights from pretrained model not used in BertForMaskedLM: ['cls.seq_relationship.weight', 'cls.seq_relationship.bias']\n"
     ]
    },
    {
     "data": {
      "text/plain": [
       "BertForMaskedLM(\n",
       "  (bert): BertModel(\n",
       "    (embeddings): BertEmbeddings(\n",
       "      (word_embeddings): Embedding(28996, 768, padding_idx=0)\n",
       "      (position_embeddings): Embedding(512, 768)\n",
       "      (token_type_embeddings): Embedding(2, 768)\n",
       "      (LayerNorm): LayerNorm((768,), eps=1e-12, elementwise_affine=True)\n",
       "      (dropout): Dropout(p=0.1, inplace=False)\n",
       "    )\n",
       "    (encoder): BertEncoder(\n",
       "      (layer): ModuleList(\n",
       "        (0): BertLayer(\n",
       "          (attention): BertAttention(\n",
       "            (self): BertSelfAttention(\n",
       "              (query): Linear(in_features=768, out_features=768, bias=True)\n",
       "              (key): Linear(in_features=768, out_features=768, bias=True)\n",
       "              (value): Linear(in_features=768, out_features=768, bias=True)\n",
       "              (dropout): Dropout(p=0.1, inplace=False)\n",
       "            )\n",
       "            (output): BertSelfOutput(\n",
       "              (dense): Linear(in_features=768, out_features=768, bias=True)\n",
       "              (LayerNorm): LayerNorm((768,), eps=1e-12, elementwise_affine=True)\n",
       "              (dropout): Dropout(p=0.1, inplace=False)\n",
       "            )\n",
       "          )\n",
       "          (intermediate): BertIntermediate(\n",
       "            (dense): Linear(in_features=768, out_features=3072, bias=True)\n",
       "          )\n",
       "          (output): BertOutput(\n",
       "            (dense): Linear(in_features=3072, out_features=768, bias=True)\n",
       "            (LayerNorm): LayerNorm((768,), eps=1e-12, elementwise_affine=True)\n",
       "            (dropout): Dropout(p=0.1, inplace=False)\n",
       "          )\n",
       "        )\n",
       "        (1): BertLayer(\n",
       "          (attention): BertAttention(\n",
       "            (self): BertSelfAttention(\n",
       "              (query): Linear(in_features=768, out_features=768, bias=True)\n",
       "              (key): Linear(in_features=768, out_features=768, bias=True)\n",
       "              (value): Linear(in_features=768, out_features=768, bias=True)\n",
       "              (dropout): Dropout(p=0.1, inplace=False)\n",
       "            )\n",
       "            (output): BertSelfOutput(\n",
       "              (dense): Linear(in_features=768, out_features=768, bias=True)\n",
       "              (LayerNorm): LayerNorm((768,), eps=1e-12, elementwise_affine=True)\n",
       "              (dropout): Dropout(p=0.1, inplace=False)\n",
       "            )\n",
       "          )\n",
       "          (intermediate): BertIntermediate(\n",
       "            (dense): Linear(in_features=768, out_features=3072, bias=True)\n",
       "          )\n",
       "          (output): BertOutput(\n",
       "            (dense): Linear(in_features=3072, out_features=768, bias=True)\n",
       "            (LayerNorm): LayerNorm((768,), eps=1e-12, elementwise_affine=True)\n",
       "            (dropout): Dropout(p=0.1, inplace=False)\n",
       "          )\n",
       "        )\n",
       "        (2): BertLayer(\n",
       "          (attention): BertAttention(\n",
       "            (self): BertSelfAttention(\n",
       "              (query): Linear(in_features=768, out_features=768, bias=True)\n",
       "              (key): Linear(in_features=768, out_features=768, bias=True)\n",
       "              (value): Linear(in_features=768, out_features=768, bias=True)\n",
       "              (dropout): Dropout(p=0.1, inplace=False)\n",
       "            )\n",
       "            (output): BertSelfOutput(\n",
       "              (dense): Linear(in_features=768, out_features=768, bias=True)\n",
       "              (LayerNorm): LayerNorm((768,), eps=1e-12, elementwise_affine=True)\n",
       "              (dropout): Dropout(p=0.1, inplace=False)\n",
       "            )\n",
       "          )\n",
       "          (intermediate): BertIntermediate(\n",
       "            (dense): Linear(in_features=768, out_features=3072, bias=True)\n",
       "          )\n",
       "          (output): BertOutput(\n",
       "            (dense): Linear(in_features=3072, out_features=768, bias=True)\n",
       "            (LayerNorm): LayerNorm((768,), eps=1e-12, elementwise_affine=True)\n",
       "            (dropout): Dropout(p=0.1, inplace=False)\n",
       "          )\n",
       "        )\n",
       "        (3): BertLayer(\n",
       "          (attention): BertAttention(\n",
       "            (self): BertSelfAttention(\n",
       "              (query): Linear(in_features=768, out_features=768, bias=True)\n",
       "              (key): Linear(in_features=768, out_features=768, bias=True)\n",
       "              (value): Linear(in_features=768, out_features=768, bias=True)\n",
       "              (dropout): Dropout(p=0.1, inplace=False)\n",
       "            )\n",
       "            (output): BertSelfOutput(\n",
       "              (dense): Linear(in_features=768, out_features=768, bias=True)\n",
       "              (LayerNorm): LayerNorm((768,), eps=1e-12, elementwise_affine=True)\n",
       "              (dropout): Dropout(p=0.1, inplace=False)\n",
       "            )\n",
       "          )\n",
       "          (intermediate): BertIntermediate(\n",
       "            (dense): Linear(in_features=768, out_features=3072, bias=True)\n",
       "          )\n",
       "          (output): BertOutput(\n",
       "            (dense): Linear(in_features=3072, out_features=768, bias=True)\n",
       "            (LayerNorm): LayerNorm((768,), eps=1e-12, elementwise_affine=True)\n",
       "            (dropout): Dropout(p=0.1, inplace=False)\n",
       "          )\n",
       "        )\n",
       "        (4): BertLayer(\n",
       "          (attention): BertAttention(\n",
       "            (self): BertSelfAttention(\n",
       "              (query): Linear(in_features=768, out_features=768, bias=True)\n",
       "              (key): Linear(in_features=768, out_features=768, bias=True)\n",
       "              (value): Linear(in_features=768, out_features=768, bias=True)\n",
       "              (dropout): Dropout(p=0.1, inplace=False)\n",
       "            )\n",
       "            (output): BertSelfOutput(\n",
       "              (dense): Linear(in_features=768, out_features=768, bias=True)\n",
       "              (LayerNorm): LayerNorm((768,), eps=1e-12, elementwise_affine=True)\n",
       "              (dropout): Dropout(p=0.1, inplace=False)\n",
       "            )\n",
       "          )\n",
       "          (intermediate): BertIntermediate(\n",
       "            (dense): Linear(in_features=768, out_features=3072, bias=True)\n",
       "          )\n",
       "          (output): BertOutput(\n",
       "            (dense): Linear(in_features=3072, out_features=768, bias=True)\n",
       "            (LayerNorm): LayerNorm((768,), eps=1e-12, elementwise_affine=True)\n",
       "            (dropout): Dropout(p=0.1, inplace=False)\n",
       "          )\n",
       "        )\n",
       "        (5): BertLayer(\n",
       "          (attention): BertAttention(\n",
       "            (self): BertSelfAttention(\n",
       "              (query): Linear(in_features=768, out_features=768, bias=True)\n",
       "              (key): Linear(in_features=768, out_features=768, bias=True)\n",
       "              (value): Linear(in_features=768, out_features=768, bias=True)\n",
       "              (dropout): Dropout(p=0.1, inplace=False)\n",
       "            )\n",
       "            (output): BertSelfOutput(\n",
       "              (dense): Linear(in_features=768, out_features=768, bias=True)\n",
       "              (LayerNorm): LayerNorm((768,), eps=1e-12, elementwise_affine=True)\n",
       "              (dropout): Dropout(p=0.1, inplace=False)\n",
       "            )\n",
       "          )\n",
       "          (intermediate): BertIntermediate(\n",
       "            (dense): Linear(in_features=768, out_features=3072, bias=True)\n",
       "          )\n",
       "          (output): BertOutput(\n",
       "            (dense): Linear(in_features=3072, out_features=768, bias=True)\n",
       "            (LayerNorm): LayerNorm((768,), eps=1e-12, elementwise_affine=True)\n",
       "            (dropout): Dropout(p=0.1, inplace=False)\n",
       "          )\n",
       "        )\n",
       "        (6): BertLayer(\n",
       "          (attention): BertAttention(\n",
       "            (self): BertSelfAttention(\n",
       "              (query): Linear(in_features=768, out_features=768, bias=True)\n",
       "              (key): Linear(in_features=768, out_features=768, bias=True)\n",
       "              (value): Linear(in_features=768, out_features=768, bias=True)\n",
       "              (dropout): Dropout(p=0.1, inplace=False)\n",
       "            )\n",
       "            (output): BertSelfOutput(\n",
       "              (dense): Linear(in_features=768, out_features=768, bias=True)\n",
       "              (LayerNorm): LayerNorm((768,), eps=1e-12, elementwise_affine=True)\n",
       "              (dropout): Dropout(p=0.1, inplace=False)\n",
       "            )\n",
       "          )\n",
       "          (intermediate): BertIntermediate(\n",
       "            (dense): Linear(in_features=768, out_features=3072, bias=True)\n",
       "          )\n",
       "          (output): BertOutput(\n",
       "            (dense): Linear(in_features=3072, out_features=768, bias=True)\n",
       "            (LayerNorm): LayerNorm((768,), eps=1e-12, elementwise_affine=True)\n",
       "            (dropout): Dropout(p=0.1, inplace=False)\n",
       "          )\n",
       "        )\n",
       "        (7): BertLayer(\n",
       "          (attention): BertAttention(\n",
       "            (self): BertSelfAttention(\n",
       "              (query): Linear(in_features=768, out_features=768, bias=True)\n",
       "              (key): Linear(in_features=768, out_features=768, bias=True)\n",
       "              (value): Linear(in_features=768, out_features=768, bias=True)\n",
       "              (dropout): Dropout(p=0.1, inplace=False)\n",
       "            )\n",
       "            (output): BertSelfOutput(\n",
       "              (dense): Linear(in_features=768, out_features=768, bias=True)\n",
       "              (LayerNorm): LayerNorm((768,), eps=1e-12, elementwise_affine=True)\n",
       "              (dropout): Dropout(p=0.1, inplace=False)\n",
       "            )\n",
       "          )\n",
       "          (intermediate): BertIntermediate(\n",
       "            (dense): Linear(in_features=768, out_features=3072, bias=True)\n",
       "          )\n",
       "          (output): BertOutput(\n",
       "            (dense): Linear(in_features=3072, out_features=768, bias=True)\n",
       "            (LayerNorm): LayerNorm((768,), eps=1e-12, elementwise_affine=True)\n",
       "            (dropout): Dropout(p=0.1, inplace=False)\n",
       "          )\n",
       "        )\n",
       "        (8): BertLayer(\n",
       "          (attention): BertAttention(\n",
       "            (self): BertSelfAttention(\n",
       "              (query): Linear(in_features=768, out_features=768, bias=True)\n",
       "              (key): Linear(in_features=768, out_features=768, bias=True)\n",
       "              (value): Linear(in_features=768, out_features=768, bias=True)\n",
       "              (dropout): Dropout(p=0.1, inplace=False)\n",
       "            )\n",
       "            (output): BertSelfOutput(\n",
       "              (dense): Linear(in_features=768, out_features=768, bias=True)\n",
       "              (LayerNorm): LayerNorm((768,), eps=1e-12, elementwise_affine=True)\n",
       "              (dropout): Dropout(p=0.1, inplace=False)\n",
       "            )\n",
       "          )\n",
       "          (intermediate): BertIntermediate(\n",
       "            (dense): Linear(in_features=768, out_features=3072, bias=True)\n",
       "          )\n",
       "          (output): BertOutput(\n",
       "            (dense): Linear(in_features=3072, out_features=768, bias=True)\n",
       "            (LayerNorm): LayerNorm((768,), eps=1e-12, elementwise_affine=True)\n",
       "            (dropout): Dropout(p=0.1, inplace=False)\n",
       "          )\n",
       "        )\n",
       "        (9): BertLayer(\n",
       "          (attention): BertAttention(\n",
       "            (self): BertSelfAttention(\n",
       "              (query): Linear(in_features=768, out_features=768, bias=True)\n",
       "              (key): Linear(in_features=768, out_features=768, bias=True)\n",
       "              (value): Linear(in_features=768, out_features=768, bias=True)\n",
       "              (dropout): Dropout(p=0.1, inplace=False)\n",
       "            )\n",
       "            (output): BertSelfOutput(\n",
       "              (dense): Linear(in_features=768, out_features=768, bias=True)\n",
       "              (LayerNorm): LayerNorm((768,), eps=1e-12, elementwise_affine=True)\n",
       "              (dropout): Dropout(p=0.1, inplace=False)\n",
       "            )\n",
       "          )\n",
       "          (intermediate): BertIntermediate(\n",
       "            (dense): Linear(in_features=768, out_features=3072, bias=True)\n",
       "          )\n",
       "          (output): BertOutput(\n",
       "            (dense): Linear(in_features=3072, out_features=768, bias=True)\n",
       "            (LayerNorm): LayerNorm((768,), eps=1e-12, elementwise_affine=True)\n",
       "            (dropout): Dropout(p=0.1, inplace=False)\n",
       "          )\n",
       "        )\n",
       "        (10): BertLayer(\n",
       "          (attention): BertAttention(\n",
       "            (self): BertSelfAttention(\n",
       "              (query): Linear(in_features=768, out_features=768, bias=True)\n",
       "              (key): Linear(in_features=768, out_features=768, bias=True)\n",
       "              (value): Linear(in_features=768, out_features=768, bias=True)\n",
       "              (dropout): Dropout(p=0.1, inplace=False)\n",
       "            )\n",
       "            (output): BertSelfOutput(\n",
       "              (dense): Linear(in_features=768, out_features=768, bias=True)\n",
       "              (LayerNorm): LayerNorm((768,), eps=1e-12, elementwise_affine=True)\n",
       "              (dropout): Dropout(p=0.1, inplace=False)\n",
       "            )\n",
       "          )\n",
       "          (intermediate): BertIntermediate(\n",
       "            (dense): Linear(in_features=768, out_features=3072, bias=True)\n",
       "          )\n",
       "          (output): BertOutput(\n",
       "            (dense): Linear(in_features=3072, out_features=768, bias=True)\n",
       "            (LayerNorm): LayerNorm((768,), eps=1e-12, elementwise_affine=True)\n",
       "            (dropout): Dropout(p=0.1, inplace=False)\n",
       "          )\n",
       "        )\n",
       "        (11): BertLayer(\n",
       "          (attention): BertAttention(\n",
       "            (self): BertSelfAttention(\n",
       "              (query): Linear(in_features=768, out_features=768, bias=True)\n",
       "              (key): Linear(in_features=768, out_features=768, bias=True)\n",
       "              (value): Linear(in_features=768, out_features=768, bias=True)\n",
       "              (dropout): Dropout(p=0.1, inplace=False)\n",
       "            )\n",
       "            (output): BertSelfOutput(\n",
       "              (dense): Linear(in_features=768, out_features=768, bias=True)\n",
       "              (LayerNorm): LayerNorm((768,), eps=1e-12, elementwise_affine=True)\n",
       "              (dropout): Dropout(p=0.1, inplace=False)\n",
       "            )\n",
       "          )\n",
       "          (intermediate): BertIntermediate(\n",
       "            (dense): Linear(in_features=768, out_features=3072, bias=True)\n",
       "          )\n",
       "          (output): BertOutput(\n",
       "            (dense): Linear(in_features=3072, out_features=768, bias=True)\n",
       "            (LayerNorm): LayerNorm((768,), eps=1e-12, elementwise_affine=True)\n",
       "            (dropout): Dropout(p=0.1, inplace=False)\n",
       "          )\n",
       "        )\n",
       "      )\n",
       "    )\n",
       "    (pooler): BertPooler(\n",
       "      (dense): Linear(in_features=768, out_features=768, bias=True)\n",
       "      (activation): Tanh()\n",
       "    )\n",
       "  )\n",
       "  (cls): BertOnlyMLMHead(\n",
       "    (predictions): BertLMPredictionHead(\n",
       "      (transform): BertPredictionHeadTransform(\n",
       "        (dense): Linear(in_features=768, out_features=768, bias=True)\n",
       "        (LayerNorm): LayerNorm((768,), eps=1e-12, elementwise_affine=True)\n",
       "      )\n",
       "      (decoder): Linear(in_features=768, out_features=28996, bias=False)\n",
       "    )\n",
       "  )\n",
       ")"
      ]
     },
     "execution_count": 8,
     "metadata": {},
     "output_type": "execute_result"
    }
   ],
   "source": [
    "# Load fastText word embeddings\n",
    "print(\"Loading embeddings ...\")\n",
    "wordVecPath = '../lex_simp_with_masked_language_model/word_embeddings/fastText/crawl-300d-2M-subword.vec'\n",
    "fasttext_dico, fasttext_emb = MLM_LS.getWordmap(wordVecPath)\n",
    "\n",
    "# Load word frequency\n",
    "word_count_path = '../lex_simp_with_masked_language_model/word_frequency/counter_Tokens.p'\n",
    "with open(word_count_path, 'rb') as f:\n",
    "    word_count = pickle.load(f)\n",
    "\n",
    "# Load BERT MLM\n",
    "model = BertForMaskedLM.from_pretrained('../BERT_models/biobert_pretrain_output_disch_100000') #, do_lower_case=False)\n",
    "model.to('cuda')\n",
    "model.eval()"
   ]
  },
  {
   "cell_type": "code",
   "execution_count": 10,
   "metadata": {},
   "outputs": [],
   "source": [
    "# Load stop words\n",
    "stopword_list1 = set(stopwords.words('english'))\n",
    "with open('../lex_simp_with_masked_language_model/MySQL_MyISAM_stopwords.txt', \"r\") as f:\n",
    "    stopword_list2 = set(eval(f.read()))\n",
    "stopword_list = stopword_list1.union(stopword_list2)\n",
    "\n",
    "ps = PorterStemmer()\n",
    "\n",
    "num_selection = 12"
   ]
  },
  {
   "cell_type": "markdown",
   "metadata": {},
   "source": [
    "## ClinicalBERT"
   ]
  },
  {
   "cell_type": "markdown",
   "metadata": {
    "heading_collapsed": true
   },
   "source": [
    "### Selection > ranking"
   ]
  },
  {
   "cell_type": "code",
   "execution_count": 23,
   "metadata": {
    "hidden": true,
    "scrolled": true
   },
   "outputs": [],
   "source": [
    "def output_ss_sr(query_sent, query_word, k):\n",
    "\n",
    "    tokens, words, position = MLM_LS.convert_sentence_to_token(sentence=query_sent, tokenizer=tokenizer, seq_length=256)\n",
    "\n",
    "#     print(\"tokens: \", tokens)\n",
    "#     print(\"words: \", words)\n",
    "#     print(\"position: \", position)\n",
    "\n",
    "    distances, neighbors, contexts= tree_copy.query(query_sent=query_sent, query_word=query_word, k=k, filter_same_word=True)\n",
    "\n",
    "    closest_candidates = list(zip(neighbors, contexts))\n",
    "#     print(\" \")\n",
    "#     print(len(closest_candidates))\n",
    "#     print(closest_candidates)\n",
    "#     print(\" \")\n",
    "\n",
    "    ss = substitution_selection(source_word=query_word,\n",
    "                                closest_candidates=closest_candidates,\n",
    "                                stopwords=stopword_list,\n",
    "                                ps=ps,\n",
    "                                num_selection=num_selection)\n",
    "#     print(len(ss))\n",
    "#     print(ss)\n",
    "\n",
    "    mask_index = words.index(query_word)\n",
    "#     print(\"mask_index: \", mask_index)\n",
    "    window_context = 11\n",
    "    mask_context = MLM_LS.extract_context(words, mask_index, window_context)\n",
    "\n",
    "    sr = substitution_ranking(source_word=query_word,\n",
    "                            source_context=mask_context,\n",
    "                            substitution_selection=ss,\n",
    "                            fasttext_dico=fasttext_dico,\n",
    "                            fasttext_emb=fasttext_emb,\n",
    "                            word_count=word_count,\n",
    "                            tokenizer=tokenizer,\n",
    "                            maskedLM=model)\n",
    "    \n",
    "    print(\" \")\n",
    "    print(\"query_sent: \", query_sent)\n",
    "    print(\"query_word: \", query_word)\n",
    "    print(\"Top substitutions:\")\n",
    "    for i, item in enumerate(sr):\n",
    "        print(f'{i+1}. {item}')\n"
   ]
  },
  {
   "cell_type": "code",
   "execution_count": 24,
   "metadata": {
    "hidden": true
   },
   "outputs": [
    {
     "name": "stderr",
     "output_type": "stream",
     "text": [
      "  0%|          | 0/34 [00:00<?, ?it/s]INFO:root:Use pytorch device: cuda\n",
      "\n",
      "Batches: 100%|██████████| 1/1 [00:00<00:00, 44.14it/s]\n",
      "  3%|▎         | 1/34 [00:02<01:07,  2.04s/it]INFO:root:Use pytorch device: cuda\n",
      "\n",
      "Batches: 100%|██████████| 1/1 [00:00<00:00, 104.16it/s]"
     ]
    },
    {
     "name": "stdout",
     "output_type": "stream",
     "text": [
      " \n",
      "query_sent:  Ho was diagnosed with cardiomyopathy in 2005 and had a pacemaker implanted.\n",
      "query_word:  cardiomyopathy\n",
      "Top substitutions:\n",
      "1. ('arrhythmia', 'Heart   Heart disease   Cardiac arrhythmia')\n",
      "2. ('rhabdomyosarcoma', 'For example, adults with rhabdomyosarcoma usually have tumors that grow faster and are harder to treat.')\n",
      "3. ('Myocarditis', 'Myocarditis, also known as inflammatory cardiomyopathy, is inflammation and infection of the heart muscle.')\n",
      "4. ('cardiogenic', 'It can also be caused by cardiogenic shock, where the heart is not getting enough blood to pump out to the rest of the body.')\n",
      "5. ('myocardial', 'redirect myocardial infarction')\n",
      "6. ('leiomyosarcomas', 'It has been believed that leiomyosarcomas do not arise from leiomyomas.')\n",
      "7. ('myotonic', 'There is no cure for myotonic dystrophy.')\n",
      "8. ('ciliopathy', 'It is a ciliopathy.')\n",
      "9. ('transplantation', 'Patients with this disease usually undergo heart transplantation.')\n",
      "10. ('dysthymia', 'People with dysthymia have depression that is mild to moderate and lasts for years.')\n",
      "11. ('thyroid', '2000: 28-year-old Colombian-American actress and model Sofía Vergara was diagnosed with thyroid cancer.')\n",
      "12. ('cardioverter', '(This special defibrillator is called an \" implantable cardioverter-defibrillator. \"')\n"
     ]
    },
    {
     "name": "stderr",
     "output_type": "stream",
     "text": [
      "\n",
      "  6%|▌         | 2/34 [00:03<01:02,  1.94s/it]INFO:root:Use pytorch device: cuda\n",
      "\n",
      "Batches: 100%|██████████| 1/1 [00:00<00:00, 103.28it/s]"
     ]
    },
    {
     "name": "stdout",
     "output_type": "stream",
     "text": [
      " \n",
      "query_sent:  His echocardiogram was negative for cardiomyopathy.\n",
      "query_word:  cardiomyopathy\n",
      "Top substitutions:\n",
      "1. ('cardiogenic', 'It can also be caused by cardiogenic shock, where the heart is not getting enough blood to pump out to the rest of the body.')\n",
      "2. ('pathophysiology', 'This change has occurred because the older dichotomous classification did not reflect pathophysiology or outcome.')\n",
      "3. ('tachycardia', 'A doctor can diagnose ventricular tachycardia by doing an electrocardiogram (also called an ECG or an EKG).')\n",
      "4. ('myocardial', 'redirect myocardial infarction')\n",
      "5. ('dystrophy', 'There is no cure for myotonic dystrophy.')\n",
      "6. ('myotonic', 'There is no cure for myotonic dystrophy.')\n",
      "7. ('Myocarditis', 'Myocarditis, also known as inflammatory cardiomyopathy, is inflammation and infection of the heart muscle.')\n",
      "8. ('leiomyosarcomas', 'It has been believed that leiomyosarcomas do not arise from leiomyomas.')\n",
      "9. ('cardioversion', 'If a person still has a pulse, ventricular tachycardia can usually be stopped through cardioversion.')\n",
      "10. ('bronchiectasis', 'Antibiotics are used to treat bronchiectasis.')\n",
      "11. ('echocardiogram', 'Other tests to prove the diagnosis are X-rays of the lungs, an echocardiogram (an ultrasound test of the heart) and blood tests.')\n"
     ]
    },
    {
     "name": "stderr",
     "output_type": "stream",
     "text": [
      "\n",
      "  9%|▉         | 3/34 [00:05<00:59,  1.93s/it]INFO:root:Use pytorch device: cuda\n",
      "\n",
      "Batches: 100%|██████████| 1/1 [00:00<00:00, 104.06it/s]"
     ]
    },
    {
     "name": "stdout",
     "output_type": "stream",
     "text": [
      " \n",
      "query_sent:  And a subsequent biopsy revealed irreversible cardiomyopathy.\n",
      "query_word:  cardiomyopathy\n",
      "Top substitutions:\n",
      "1. ('Myocarditis', 'Myocarditis, also known as inflammatory cardiomyopathy, is inflammation and infection of the heart muscle.')\n",
      "2. ('myocardial', 'redirect myocardial infarction')\n",
      "3. ('dystrophy', 'There is no cure for myotonic dystrophy.')\n",
      "4. ('cardiogenic', 'It can also be caused by cardiogenic shock, where the heart is not getting enough blood to pump out to the rest of the body.')\n",
      "5. ('ventricular', 'This is called idiopathic ventricular tachycardia.')\n",
      "6. ('myotonic', 'There is no cure for myotonic dystrophy.')\n",
      "7. ('leiomyosarcomas', 'It has been believed that leiomyosarcomas do not arise from leiomyomas.')\n",
      "8. ('rhabdomyosarcoma', 'This type of rhabdomyosarcoma usually grows faster than embryonal rhabdomyosarcoma, and needs more treatment than ERMS.')\n",
      "9. ('cardioverter', '(This special defibrillator is called an \" implantable cardioverter-defibrillator. \"')\n",
      "10. ('transplantation', 'Patients with this disease usually undergo heart transplantation.')\n",
      "11. ('defibrillators', 'So can implantable cardio-defibrillators.')\n",
      "12. ('Poliomyelitis', 'REDIRECT Poliomyelitis')\n"
     ]
    },
    {
     "name": "stderr",
     "output_type": "stream",
     "text": [
      "\n",
      " 12%|█▏        | 4/34 [00:06<00:52,  1.75s/it]INFO:root:Use pytorch device: cuda\n",
      "\n",
      "Batches: 100%|██████████| 1/1 [00:00<00:00, 99.49it/s]"
     ]
    },
    {
     "name": "stdout",
     "output_type": "stream",
     "text": [
      " \n",
      "query_sent:  The kid has severe cardiomyopathy.\n",
      "query_word:  cardiomyopathy\n",
      "Top substitutions:\n",
      "1. ('cardiogenic', 'It can also be caused by cardiogenic shock, where the heart is not getting enough blood to pump out to the rest of the body.')\n",
      "2. ('dystrophy', 'There is no cure for myotonic dystrophy.')\n",
      "3. ('ciliopathy', 'It is a ciliopathy.')\n",
      "4. ('fibrosis', 'The parent might not have cystic fibrosis but still might have the gene.')\n",
      "5. ('myotonic', 'There is no cure for myotonic dystrophy.')\n",
      "6. ('Endocarditis', 'Endocarditis most often affects the heart valves.')\n",
      "7. ('Myocardial', 'Myocardial means relating to the heart muscle.')\n",
      "8. ('leiomyosarcomas', 'It has been believed that leiomyosarcomas do not arise from leiomyomas.')\n",
      "9. ('leukemia', 'Chronic leukemia grows slowly.')\n",
      "10. ('Myocarditis', 'Myocarditis, also known as inflammatory cardiomyopathy, is inflammation and infection of the heart muscle.')\n",
      "11. ('transplantation', 'Patients with this disease usually undergo heart transplantation.')\n",
      "12. ('Poliomyelitis', 'REDIRECT Poliomyelitis')\n"
     ]
    },
    {
     "name": "stderr",
     "output_type": "stream",
     "text": [
      "\n",
      " 15%|█▍        | 5/34 [00:09<00:53,  1.84s/it]INFO:root:Use pytorch device: cuda\n",
      "\n",
      "Batches: 100%|██████████| 1/1 [00:00<00:00, 100.02it/s]"
     ]
    },
    {
     "name": "stdout",
     "output_type": "stream",
     "text": [
      " \n",
      "query_sent:  Which means it could be a hematological problem plus cardiomyopathy\n",
      "query_word:  cardiomyopathy\n",
      "Top substitutions:\n",
      "1. ('ciliopathy', 'It is a ciliopathy.')\n",
      "2. ('cardiogenic', 'It can also be caused by cardiogenic shock, where the heart is not getting enough blood to pump out to the rest of the body.')\n",
      "3. ('rhabdomyolysis', 'Use of fibrates and statins at the same time makes rhabdomyolysis happen much more often.')\n",
      "4. ('Myocardial', 'Myocardial means relating to the heart muscle.')\n",
      "5. ('cardiotoxicity', 'Large doses of quinine can cause:   skin rashes   deafness   sleepiness   blindness   anaphylactic shock   disturbances in abnormal heart rhythm   death from cardiotoxicity.')\n",
      "6. ('myotonic', 'There is no cure for myotonic dystrophy.')\n",
      "7. ('Endocarditis', 'Endocarditis most often affects the heart valves.')\n",
      "8. ('leiomyosarcomas', 'It has been believed that leiomyosarcomas do not arise from leiomyomas.')\n",
      "9. ('cardioversion', 'If a person still has a pulse, ventricular tachycardia can usually be stopped through cardioversion.')\n",
      "10. ('Poliomyelitis', 'REDIRECT Poliomyelitis')\n",
      "11. ('neuroprotector', 'evidence ketosis are neuroprotector .')\n"
     ]
    },
    {
     "name": "stderr",
     "output_type": "stream",
     "text": [
      "\n",
      " 18%|█▊        | 6/34 [00:11<00:52,  1.89s/it]INFO:root:Use pytorch device: cuda\n",
      "\n",
      "Batches: 100%|██████████| 1/1 [00:00<00:00, 100.36it/s]"
     ]
    },
    {
     "name": "stdout",
     "output_type": "stream",
     "text": [
      " \n",
      "query_sent:  An acute myocardial infarction, happens when a blood vessel in the heart suddenly becomes blocked.\n",
      "query_word:  myocardial\n",
      "Top substitutions:\n",
      "1. ('infarction', 'An acute myocardial infarction, also called a heart attack, happens when a blood vessel in the heart suddenly becomes blocked.')\n",
      "2. ('ischemic', 'The most common cause is ischemic heart disease (heart disease that causes the heart to not get enough oxygen).')\n",
      "3. ('coronary', 'Cardiovascular disease includes coronary artery diseases (CAD) such as angina and myocardial infarction (commonly known as a heart attack).')\n",
      "4. ('cardiomyopathy', 'Problems caused by this may include heart failure due to cardiomyopathy or cardiac arrest.')\n",
      "5. ('ischemia', 'If the ischemia lasts long enough, the heart muscle that is not getting enough oxygen dies.')\n",
      "6. ('Myocarditis', 'Myocarditis, also known as inflammatory cardiomyopathy, is inflammation and infection of the heart muscle.')\n",
      "7. ('myocardium', 'The most important thing is to save as much myocardium (heart muscle) as possible and prevent more complications.')\n",
      "8. ('cardiogenic', 'It can also be caused by cardiogenic shock, where the heart is not getting enough blood to pump out to the rest of the body.')\n",
      "9. ('attack', 'A heart attack is also called a myocardial infarction.')\n",
      "10. ('Cardiomyopathies', 'Cardiomyopathies are a group of diseases in which the function of the myocardium (heart muscle) is impaired for any reason.')\n",
      "11. ('fibrillation', 'Ventricular fibrillation can be stopped by shocking the person with electricity from a defibrillator.')\n",
      "12. ('arrest', 'With cardiac arrest, normal circulation of blood stops, because of a failure of the heart to contract.')\n"
     ]
    },
    {
     "name": "stderr",
     "output_type": "stream",
     "text": [
      "\n",
      " 21%|██        | 7/34 [00:13<00:52,  1.96s/it]INFO:root:Use pytorch device: cuda\n",
      "\n",
      "Batches: 100%|██████████| 1/1 [00:00<00:00, 79.30it/s]"
     ]
    },
    {
     "name": "stdout",
     "output_type": "stream",
     "text": [
      " \n",
      "query_sent:  Patau syndrome is a syndrome caused by a chromosomal abnormality, in which some or all of the cells of the body contain extra genetic material from chromosome 13.\n",
      "query_word:  Patau\n",
      "Top substitutions:\n",
      "1. ('Rett', 'Rett syndrome is an almost entirely female based disorder which affects girls.')\n",
      "2. ('Spinal', 'Spinal muscular atrophy is inherited from parents who might or might not have the disease themselves but both of whom have a fault (mutation) in their genes that predisposes to the disease.')\n",
      "3. ('Fragile', 'Fragile X syndrome occurs as a result of a mutation of the FMR1 gene on the X chromosome.')\n",
      "4. ('Tourette', 'Tourette syndrome is an inherited neurological disorder.')\n",
      "5. ('Chagas', 'Chagas disease is a disease caused by the protozoan parasite Trypanosoma cruzi.')\n",
      "6. ('Malaria', 'Malaria is an infectious disease caused by a parasite: it is spread by the bite of an infected mosquito.')\n",
      "7. ('Jacobsen', 'Jacobsen syndrome (also known as 11q deletion syndrome) is a gene mutation caused by the deletion of certain genes on chromosome 11.')\n",
      "8. ('Stickler', 'Stickler syndrome affects around 1 in 10,000 people.')\n",
      "9. ('Styes', 'Styes (), also hordeolum () are infections at the base of a human eyelid or the eyelash.')\n",
      "10. ('Kawasaki', 'Kawasaki disease is a syndrome of unknown cause that results in a fever and mainly affects children under 5 years of age.')\n",
      "11. ('Rosacea', 'Rosacea is a chronic facial condition that is characterized through acne and redness.')\n",
      "12. ('Restless', 'Restless legs syndrome is a serious neurological disorder.')\n"
     ]
    },
    {
     "name": "stderr",
     "output_type": "stream",
     "text": [
      "\n",
      " 24%|██▎       | 8/34 [00:14<00:48,  1.86s/it]INFO:root:Use pytorch device: cuda\n",
      "\n",
      "Batches: 100%|██████████| 1/1 [00:00<00:00, 101.23it/s]"
     ]
    },
    {
     "name": "stdout",
     "output_type": "stream",
     "text": [
      " \n",
      "query_sent:  Most cases of Patau syndrome are not inherited, but occur as random events during the formation of reproductive cells (eggs and sperm).\n",
      "query_word:  Patau\n",
      "Top substitutions:\n",
      "1. ('SIDS', 'Scientists think that about 10 to 20% of SIDS cases are caused by inherited defects in the ion channels that help the heart squeeze out blood.')\n",
      "2. ('Autism', 'There may be many different causes for the different types of Autism Spectrum Disorder.')\n",
      "3. ('Stickler', 'There are six types of Stickler syndrome known, and each has its own gene.')\n",
      "4. ('CIDP', 'Specially important are:   An asymmetrical variant of CIDP is known as Lewis-Sumner Syndrome.')\n",
      "5. ('CUP', 'A diagnosis of CUP requires a clinical picture with metastatic disease and one or more biopsy results inconsistent with a primary tumor.')\n",
      "6. ('gout', 'Metabolic syndrome happens along with nearly 75% of all cases of gout.')\n",
      "7. ('sepsis', 'Today, the bacterial forms of sepsis can be treated with antibiotics.')\n",
      "8. ('ear', 'Scientists have found signs of ear infections in the bones of humans who lived 15,000 years ago.')\n",
      "9. ('BPD', 'Doctors describe three types of BPD.')\n",
      "10. ('pellagra', 'Some symptoms of pellagra according to a few sources are abdominal cramping,depression,diarrhea,headache,loss of appetite,mucus membrane inflammation,dilated cardiomyopathy.')\n",
      "11. ('color', 'Inherited forms of color blindness affect the retina only.')\n",
      "12. ('tertiary', 'There are three different forms of tertiary syphilis.')\n"
     ]
    },
    {
     "name": "stderr",
     "output_type": "stream",
     "text": [
      "\n",
      " 26%|██▋       | 9/34 [00:16<00:44,  1.80s/it]INFO:root:Use pytorch device: cuda\n",
      "\n",
      "Batches: 100%|██████████| 1/1 [00:00<00:00, 106.94it/s]"
     ]
    },
    {
     "name": "stdout",
     "output_type": "stream",
     "text": [
      " \n",
      "query_sent:  But a baby with Patau syndrome has 3 copies of chromosome 13, instead of 2.\n",
      "query_word:  Patau\n",
      "Top substitutions:\n",
      "1. ('Rett', 'People with Rett syndrome also have scoliosis.')\n",
      "2. ('schizophrenia', 'The risk is even higher if you have an identical twin with schizophrenia.')\n",
      "3. ('trisomy', 'People with trisomy 18 have three copies of chromosome 18. \"')\n",
      "4. ('GDM', 'Some women with GDM are treated with drugs.')\n",
      "5. ('DKA', 'People with DKA need to be treated in a hospital.')\n",
      "6. ('Tourette', \"Most people with Tourette's do not need treatment.\")\n",
      "7. ('POTS', 'People with POTS also have other symptoms of orthostatic intolerance (symptoms that get worse when a person is standing up, and get better when the person is lying down).')\n",
      "8. ('Lassa', 'If a patient is diagnosed with Lassa fever, then the patient will be kept away from other people, to prevent the spread of the virus.')\n",
      "9. ('BPD', 'Many people with BPD were abused when they were children.')\n",
      "10. ('dwarfism', 'In the 19th century in the United States, people with dwarfism were a major attraction of many circus sideshows.')\n",
      "11. ('DTs', 'These things seem very real to the person with DTs.')\n",
      "12. ('savant', 'These people are said to have savant syndrome.')\n"
     ]
    },
    {
     "name": "stderr",
     "output_type": "stream",
     "text": [
      "\n",
      " 29%|██▉       | 10/34 [00:17<00:39,  1.66s/it]INFO:root:Use pytorch device: cuda\n",
      "\n",
      "Batches: 100%|██████████| 1/1 [00:00<00:00, 104.18it/s]"
     ]
    },
    {
     "name": "stdout",
     "output_type": "stream",
     "text": [
      " \n",
      "query_sent:  Nora is diagnosed with Trisomy 13.\n",
      "query_word:  Trisomy\n",
      "Top substitutions:\n",
      "1. ('chromosomal', \"It is also possible for chromosomal problems to happen because of a problem with a parent's genes.\")\n",
      "2. ('autosomal', 'It is the second most common autosomal trisomy, after Down Syndrome, that carries to term.')\n",
      "3. ('Leukemia', 'Leukemia & Lymphoma Society website')\n",
      "4. ('aneuploidy', 'Among those who survive birth, Down syndrome is the most common form of aneuploidy.')\n",
      "5. ('Polyploidy', 'Trisomy   Polyploidy')\n",
      "6. ('chromosomes', 'Patau Sydrome, also known as Trisomy 13 or Trisomy D is a problem with the chromosomes.')\n",
      "7. ('Myelodysplastic', 'The Myelodysplastic syndrome is a group of diseases and conditions that affect how blood is made.')\n",
      "8. ('thyroid', '2000: 28-year-old Colombian-American actress and model Sofía Vergara was diagnosed with thyroid cancer.')\n",
      "9. ('recessive', 'The disorder is X-linked recessive.')\n",
      "10. ('Parasomnias', '& db=mesh & list_uids=68020920 & dopt=Full MeSH   Parasomnias - these are doing things not normally done while sleeping, without the person being aware of what they are doing.')\n",
      "11. ('trichomoniasis', 'These problems do not happen to everyone with trichomoniasis.')\n"
     ]
    },
    {
     "name": "stderr",
     "output_type": "stream",
     "text": [
      "\n",
      " 32%|███▏      | 11/34 [00:18<00:34,  1.52s/it]INFO:root:Use pytorch device: cuda\n",
      "\n",
      "Batches: 100%|██████████| 1/1 [00:00<00:00, 104.17it/s]"
     ]
    },
    {
     "name": "stdout",
     "output_type": "stream",
     "text": [
      " \n",
      "query_sent:  The patient has trisomy 13.\n",
      "query_word:  trisomy\n",
      "Top substitutions:\n",
      "1. ('bipolar', 'If one identical twin has bipolar disorder, there is a 40 to 70 percent chance that the other will develop bipolar disorder in their lifetime.')\n",
      "2. ('amyloidosis', 'Michael York who has amyloidosis, speaks from 4:00-60:00')\n",
      "3. ('diploid', 'Humans are diploid organisms.')\n",
      "4. ('anemia', 'The infant has anemia   SIDS only happens at certain ages.')\n",
      "5. ('sarcoma', 'As a result, there are many subtypes of sarcoma.')\n",
      "6. ('cystic', 'The parent might not have cystic fibrosis but still might have the gene.')\n",
      "7. ('bulimia', 'Most people who have bulimia are between the ages of 10 to 25.')\n",
      "8. ('trichomoniasis', 'Most people with trichomoniasis do not have any symptoms.')\n",
      "9. ('chromosomal', \"It is also possible for chromosomal problems to happen because of a problem with a parent's genes.\")\n",
      "10. ('polyuria', 'This causes polyuria.')\n",
      "11. ('pyromania', 'When children have pyromania, later in life they usually are diagnosed with a mental disorder.')\n",
      "12. ('savant', 'These people are said to have savant syndrome.')\n"
     ]
    },
    {
     "name": "stderr",
     "output_type": "stream",
     "text": [
      "\n",
      " 35%|███▌      | 12/34 [00:20<00:31,  1.41s/it]INFO:root:Use pytorch device: cuda\n",
      "\n",
      "Batches: 100%|██████████| 1/1 [00:00<00:00, 101.88it/s]"
     ]
    },
    {
     "name": "stdout",
     "output_type": "stream",
     "text": [
      " \n",
      "query_sent:  The patient has trisomy 21.\n",
      "query_word:  trisomy\n",
      "Top substitutions:\n",
      "1. ('diploid', 'Humans are diploid organisms.')\n",
      "2. ('amyloidosis', 'Michael York who has amyloidosis, speaks from 4:00-60:00')\n",
      "3. ('bipolar', 'If one identical twin has bipolar disorder, there is a 40 to 70 percent chance that the other will develop bipolar disorder in their lifetime.')\n",
      "4. ('bulimia', 'Most people who have bulimia are between the ages of 10 to 25.')\n",
      "5. ('anemia', 'The infant has anemia   SIDS only happens at certain ages.')\n",
      "6. ('sarcoma', 'As a result, there are many subtypes of sarcoma.')\n",
      "7. ('cystic', 'The parent might not have cystic fibrosis but still might have the gene.')\n",
      "8. ('chromosomal', \"It is also possible for chromosomal problems to happen because of a problem with a parent's genes.\")\n",
      "9. ('polyuria', 'This causes polyuria.')\n",
      "10. ('trichomoniasis', 'Most people with trichomoniasis do not have any symptoms.')\n",
      "11. ('subtypes', 'There is a debate on the subtypes.')\n",
      "12. ('castrated', 'Most male cattle are castrated.')\n"
     ]
    },
    {
     "name": "stderr",
     "output_type": "stream",
     "text": [
      "\n",
      " 38%|███▊      | 13/34 [00:22<00:32,  1.55s/it]INFO:root:Use pytorch device: cuda\n",
      "\n",
      "Batches: 100%|██████████| 1/1 [00:00<00:00, 99.36it/s]"
     ]
    },
    {
     "name": "stdout",
     "output_type": "stream",
     "text": [
      " \n",
      "query_sent:  Rarely very low blood pressure may be the only sign of anaphylaxis.\n",
      "query_word:  anaphylaxis\n",
      "Top substitutions:\n",
      "1. ('anaphylactic', 'There is no reason why it should not be used if a person is having an anaphylactic reaction.')\n",
      "2. ('anaphylatoxins', 'It is caused by the release (degranulation) of substances from mast cells or basophils because of anaphylatoxins.')\n",
      "3. ('angioedema', 'It is possible to have angioedema without hives.')\n",
      "4. ('Epistaxis', 'REDIRECT Epistaxis')\n",
      "5. ('anorexia', 'Four signs of anorexia are listed in the manual.')\n",
      "6. ('phobias', 'Causes and risk factors phobias is very.')\n",
      "7. ('narcolepsy', 'This is the most common symptom of narcolepsy.')\n",
      "8. ('anthrax', 'If not treated, anthrax often leads to death.')\n",
      "9. ('anorexics', 'To try to lose weight, anorexics do not eat enough.')\n",
      "10. ('anosmia', 'In some cases, accupuncture was successfully used to treat anosmia.')\n",
      "11. ('gout', 'X-rays are not useful for treating acute gout attacks.')\n",
      "12. ('alexithymic', \"HFA's are often alexithymic (lacking in emotion).\")\n"
     ]
    },
    {
     "name": "stderr",
     "output_type": "stream",
     "text": [
      "\n",
      " 41%|████      | 14/34 [00:23<00:32,  1.65s/it]INFO:root:Use pytorch device: cuda\n",
      "\n",
      "Batches: 100%|██████████| 1/1 [00:00<00:00, 48.09it/s]"
     ]
    },
    {
     "name": "stdout",
     "output_type": "stream",
     "text": [
      " \n",
      "query_sent:  Worldwide, 0.05-2% of the population is estimated to have anaphylaxis at some point in life, and rates appear to be increasing.\n",
      "query_word:  anaphylaxis\n",
      "Top substitutions:\n",
      "1. ('angioedema', 'It is possible to have angioedema without hives.')\n",
      "2. ('anaphylatoxins', 'It is caused by the release (degranulation) of substances from mast cells or basophils because of anaphylatoxins.')\n",
      "3. ('anorexia', 'People do not have to show all four signs for the doctor to decide that they have anorexia.')\n",
      "4. ('amyloidosis', 'Michael York who has amyloidosis, speaks from 4:00-60:00')\n",
      "5. ('anaphylactic', 'However, half of the people who die of anaphylaxis have had no anaphylactic reaction before.')\n",
      "6. ('Epistaxis', 'REDIRECT Epistaxis')\n",
      "7. ('anaemia', 'People affected may develop anaemia due to loss of blood.')\n",
      "8. ('autistic', 'Similar to the outcomes in the autistic parents studies, most children having autistic siblings/ twins were found out to be showing autistic signs.')\n",
      "9. ('anorexics', 'To try to lose weight, anorexics do not eat enough.')\n",
      "10. ('anosmia', 'In general, anosmia which has its cause in the brain cannot be treated.')\n",
      "11. ('septicemic', 'Like the others, the septicemic plague spread from the East through trade routes on the Black Sea and down to the Mediterranean Sea.')\n",
      "12. ('SARS', 'Some people may have SARS-CoV-2 in their bodies but not feel sick right away.')\n"
     ]
    },
    {
     "name": "stderr",
     "output_type": "stream",
     "text": [
      "\n",
      " 44%|████▍     | 15/34 [00:25<00:33,  1.79s/it]INFO:root:Use pytorch device: cuda\n",
      "\n",
      "Batches: 100%|██████████| 1/1 [00:00<00:00, 98.49it/s]"
     ]
    },
    {
     "name": "stdout",
     "output_type": "stream",
     "text": [
      " \n",
      "query_sent:  On a mechanistic level, anaphylaxis is caused by the release of mediators from certain types of white blood cells triggered either by immunologic or non-immunologic mechanisms.\n",
      "query_word:  anaphylaxis\n",
      "Top substitutions:\n",
      "1. ('anaphylactic', 'The risk of having another anaphylactic reaction decreases as a person avoids the trigger for longer and longer.')\n",
      "2. ('angioedema', 'A form of angioedema happens in families and has different triggers, complications, and treatments.')\n",
      "3. ('anaphylatoxins', 'It is caused by the release (degranulation) of substances from mast cells or basophils because of anaphylatoxins.')\n",
      "4. ('anorexia', 'Many people think that anorexia is caused by wanting to be thin like models in magazines.')\n",
      "5. ('Epistaxis', 'REDIRECT Epistaxis')\n",
      "6. ('ataxia', 'Instead, ataxia is caused by a neurological problem.')\n",
      "7. ('anorexics', 'To try to lose weight, anorexics do not eat enough.')\n",
      "8. ('anosmia', 'In general, anosmia which has its cause in the brain cannot be treated.')\n",
      "9. ('asphyxiation', 'In the United States, asphyxiation and poisoning are also common.')\n",
      "10. ('anthrax', 'If not treated, anthrax often leads to death.')\n",
      "11. ('anhedonia', 'In most cases, anhedonia is caused by mental disorders.')\n",
      "12. ('catalepsy', 'In some cases, catalepsy may be started by an extreme emotional shock – one well known example of this was the reaction of 1968 Olympic long jump medalist Bob Beamon on finding he had broken the previous world record by over 0.5 meters (2 feet).')\n"
     ]
    },
    {
     "name": "stderr",
     "output_type": "stream",
     "text": [
      "\n",
      " 47%|████▋     | 16/34 [00:27<00:32,  1.79s/it]INFO:root:Use pytorch device: cuda\n",
      "\n",
      "Batches: 100%|██████████| 1/1 [00:00<00:00, 98.06it/s]"
     ]
    },
    {
     "name": "stdout",
     "output_type": "stream",
     "text": [
      " \n",
      "query_sent:  Previous systemic reactions, which are anything more than a local reaction around the site of the sting, are a risk factor for future anaphylaxis; however, half of fatalities have had no previous systemic reaction.\n",
      "query_word:  anaphylaxis\n",
      "Top substitutions:\n",
      "1. ('angioedema', 'It is possible to have angioedema without hives.')\n",
      "2. ('anaphylatoxins', 'It is caused by the release (degranulation) of substances from mast cells or basophils because of anaphylatoxins.')\n",
      "3. ('anaphylactic', 'The risk of having another anaphylactic reaction decreases as a person avoids the trigger for longer and longer.')\n",
      "4. ('anorexia', 'People do not have to show all four signs for the doctor to decide that they have anorexia.')\n",
      "5. ('Epistaxis', 'REDIRECT Epistaxis')\n",
      "6. ('migraine', 'The exact causes of menstrual migraine are not known for sure but there is a link between falling levels of the female hormone estrogen and the onset of a migraine attack.')\n",
      "7. ('allergic', 'Anaphylaxis is a serious allergic reaction.')\n",
      "8. ('reaction', 'The risk of having another anaphylactic reaction decreases as a person avoids the trigger for longer and longer.')\n",
      "9. ('anorexics', 'To try to lose weight, anorexics do not eat enough.')\n",
      "10. ('gout', 'X-rays are not useful for treating acute gout attacks.')\n",
      "11. ('anosmia', 'In general, anosmia which has its cause in the brain cannot be treated.')\n",
      "12. ('narcosis', 'Helium gas can be used in place of nitrogen in breathing gas for divers to make it less likely to have nitrogen narcosis.')\n"
     ]
    },
    {
     "name": "stderr",
     "output_type": "stream",
     "text": [
      "\n",
      " 50%|█████     | 17/34 [00:29<00:31,  1.83s/it]INFO:root:Use pytorch device: cuda\n",
      "\n",
      "Batches: 100%|██████████| 1/1 [00:00<00:00, 103.20it/s]"
     ]
    },
    {
     "name": "stdout",
     "output_type": "stream",
     "text": [
      " \n",
      "query_sent:  In a person who died from anaphylaxis, autopsy may show an \"empty heart\" attributed to reduced venous return from vasodilation and redistribution of intravascular volume from the central to the peripheral compartment.\n",
      "query_word:  anaphylaxis\n",
      "Top substitutions:\n",
      "1. ('anaphylactic', 'The risk of having another anaphylactic reaction decreases as a person avoids the trigger for longer and longer.')\n",
      "2. ('anaphylatoxins', 'It is caused by the release (degranulation) of substances from mast cells or basophils because of anaphylatoxins.')\n",
      "3. ('amyloidosis', 'Michael York who has amyloidosis, speaks from 4:00-60:00')\n",
      "4. ('anorexia', 'People do not have to show all four signs for the doctor to decide that they have anorexia.')\n",
      "5. ('narcolepsy', 'It is estimated that between 25 and 50 people, per 100,000 suffer from narcolepsy.')\n",
      "6. ('Epistaxis', 'REDIRECT Epistaxis')\n",
      "7. ('angioedema', 'It is possible to have angioedema without hives.')\n",
      "8. ('cataplexy', 'People who have cataplexy will sometimes see that some of their muscles suddenly fail them.')\n",
      "9. ('anorexics', 'To try to lose weight, anorexics do not eat enough.')\n",
      "10. ('anosmia', 'In general, anosmia which has its cause in the brain cannot be treated.')\n",
      "11. ('pellagra', 'A person can die from pellagra if it is not treated.')\n"
     ]
    },
    {
     "name": "stderr",
     "output_type": "stream",
     "text": [
      "\n",
      " 53%|█████▎    | 18/34 [00:31<00:29,  1.83s/it]INFO:root:Use pytorch device: cuda\n",
      "\n",
      "Batches: 100%|██████████| 1/1 [00:00<00:00, 102.45it/s]"
     ]
    },
    {
     "name": "stdout",
     "output_type": "stream",
     "text": [
      " \n",
      "query_sent:  Anaphylaxis can occur in response to almost any foreign substance.\n",
      "query_word:  Anaphylaxis\n",
      "Top substitutions:\n",
      "1. ('Asphyxia', 'Asphyxia can injure or kill people.')\n",
      "2. ('Angioedema', 'Angioedema may be caused by an allergic reaction.')\n",
      "3. ('Trichomoniasis', \"Trichomoniasis is only spread through sex, or if two people's genitals touch.\")\n",
      "4. ('Cyanosis', 'Cyanosis is a medical problem.')\n",
      "5. ('Anosmia', 'Anosmia is losing the the sense of smell.')\n",
      "6. ('Paraplegia', 'Paraplegia is paralysis of the legs and lower half of the body.')\n",
      "7. ('Prosopagnosia', 'Prosopagnosia is not curable or treatable.')\n",
      "8. ('Synesthesia', 'Synesthesia was investigated a lot in the 19th and early 20th centuries, but in the middle of the 20th century, it was less studied.')\n",
      "9. ('Catalepsy', 'Catalepsy is a nervous condition.')\n",
      "10. ('Tetraplegia', 'Tetraplegia is the term in Europe.')\n",
      "11. ('Prognathism', 'Prognathism describes when part or all of the face sticks out more than normal.')\n"
     ]
    },
    {
     "name": "stderr",
     "output_type": "stream",
     "text": [
      "\n",
      " 56%|█████▌    | 19/34 [00:33<00:27,  1.86s/it]INFO:root:Use pytorch device: cuda\n",
      "\n",
      "Batches: 100%|██████████| 1/1 [00:00<00:00, 102.03it/s]"
     ]
    },
    {
     "name": "stdout",
     "output_type": "stream",
     "text": [
      " \n",
      "query_sent:  Many foods can trigger anaphylaxis; this may occur upon the first known ingestion.\n",
      "query_word:  anaphylaxis\n",
      "Top substitutions:\n",
      "1. ('anorexia', 'People who develop anorexia tend to be perfectionistic.')\n",
      "2. ('anaphylatoxins', 'It is caused by the release (degranulation) of substances from mast cells or basophils because of anaphylatoxins.')\n",
      "3. ('Epistaxis', 'REDIRECT Epistaxis')\n",
      "4. ('angioedema', 'It is possible to have angioedema without hives.')\n",
      "5. ('anaphylactic', 'The risk of having another anaphylactic reaction decreases as a person avoids the trigger for longer and longer.')\n",
      "6. ('anosmia', 'In some cases, accupuncture was successfully used to treat anosmia.')\n",
      "7. ('antihistamines', 'Doctors often give antihistamines (which destroy histamine) and steroids along with epinephrine.')\n",
      "8. ('Anterograde', 'Being drunk can cause Anterograde amnesia.')\n",
      "9. ('anaemia', 'People affected may develop anaemia due to loss of blood.')\n",
      "10. ('alexithymic', \"HFA's are often alexithymic (lacking in emotion).\")\n",
      "11. ('anorexics', 'To try to lose weight, anorexics do not eat enough.')\n",
      "12. ('akathisia', 'For example, people with tardive dyskinesia often cannot stop themselves from:   Smacking their lips   Pushing their tongue out   Swinging their jaw   Moving their mouth like they are chewing or sucking   Moving their fingers, arms, or legs   Often, people with tardive dyskinesia also have akathisia.')\n"
     ]
    },
    {
     "name": "stderr",
     "output_type": "stream",
     "text": [
      "\n",
      " 59%|█████▉    | 20/34 [00:35<00:27,  1.94s/it]INFO:root:Use pytorch device: cuda\n",
      "\n",
      "Batches: 100%|██████████| 1/1 [00:00<00:00, 102.82it/s]"
     ]
    },
    {
     "name": "stdout",
     "output_type": "stream",
     "text": [
      " \n",
      "query_sent:  People prone to anaphylaxis are advised to have an \"allergy action plan.\"\n",
      "query_word:  anaphylaxis\n",
      "Top substitutions:\n",
      "1. ('anaphylactic', 'The risk of having another anaphylactic reaction decreases as a person avoids the trigger for longer and longer.')\n",
      "2. ('amyloidosis', 'Michael York who has amyloidosis, speaks from 4:00-60:00')\n",
      "3. ('anaphylatoxins', 'It is caused by the release (degranulation) of substances from mast cells or basophils because of anaphylatoxins.')\n",
      "4. ('anorexia', 'Another symptom of autism spectrum disorder is OCD, which has also been linked to anorexia.')\n",
      "5. ('narcolepsy', 'Cataplexy often affects people who have narcolepsy.')\n",
      "6. ('Epistaxis', 'REDIRECT Epistaxis')\n",
      "7. ('angioedema', 'It is possible to have angioedema without hives.')\n",
      "8. ('cataplexy', 'People who have cataplexy will sometimes see that some of their muscles suddenly fail them.')\n",
      "9. ('anosmia', 'In general, anosmia which has its cause in the brain cannot be treated.')\n",
      "10. ('anthrax', 'If not treated, anthrax often leads to death.')\n",
      "11. ('anorexics', 'To try to lose weight, anorexics do not eat enough.')\n",
      "12. ('alexithymic', \"HFA's are often alexithymic (lacking in emotion).\")\n"
     ]
    },
    {
     "name": "stderr",
     "output_type": "stream",
     "text": [
      "\n",
      " 62%|██████▏   | 21/34 [00:37<00:23,  1.81s/it]INFO:root:Use pytorch device: cuda\n",
      "\n",
      "Batches: 100%|██████████| 1/1 [00:00<00:00, 103.18it/s]"
     ]
    },
    {
     "name": "stdout",
     "output_type": "stream",
     "text": [
      " \n",
      "query_sent:  The antitoxin could cause anaphylaxis.\n",
      "query_word:  anaphylaxis\n",
      "Top substitutions:\n",
      "1. ('anaphylactic', 'The risk of having another anaphylactic reaction decreases as a person avoids the trigger for longer and longer.')\n",
      "2. ('angioedema', 'It is possible to have angioedema without hives.')\n",
      "3. ('anaphylatoxins', 'It is caused by the release (degranulation) of substances from mast cells or basophils because of anaphylatoxins.')\n",
      "4. ('antihistamines', 'Doctors often give antihistamines (which destroy histamine) and steroids along with epinephrine.')\n",
      "5. ('Epistaxis', 'REDIRECT Epistaxis')\n",
      "6. ('seizures', 'This can cause seizures.')\n",
      "7. ('anorexia', 'People do not have to show all four signs for the doctor to decide that they have anorexia.')\n",
      "8. ('anorexics', 'To try to lose weight, anorexics do not eat enough.')\n",
      "9. ('anosmia', 'In some cases, accupuncture was successfully used to treat anosmia.')\n",
      "10. ('Anterograde', 'Being drunk can cause Anterograde amnesia.')\n",
      "11. ('anthrax', 'If not treated, anthrax often leads to death.')\n",
      "12. ('narcotic', 'Opioids are narcotic pain relievers.')\n"
     ]
    },
    {
     "name": "stderr",
     "output_type": "stream",
     "text": [
      "\n",
      " 65%|██████▍   | 22/34 [00:38<00:21,  1.77s/it]INFO:root:Use pytorch device: cuda\n",
      "\n",
      "Batches: 100%|██████████| 1/1 [00:00<00:00, 101.63it/s]"
     ]
    },
    {
     "name": "stdout",
     "output_type": "stream",
     "text": [
      " \n",
      "query_sent:  A food allergy explains the anaphylaxis.\n",
      "query_word:  anaphylaxis\n",
      "Top substitutions:\n",
      "1. ('anaphylactic', 'The risk of having another anaphylactic reaction decreases as a person avoids the trigger for longer and longer.')\n",
      "2. ('angioedema', 'It is possible to have angioedema without hives.')\n",
      "3. ('anaphylatoxins', 'It is caused by the release (degranulation) of substances from mast cells or basophils because of anaphylatoxins.')\n",
      "4. ('Epistaxis', 'REDIRECT Epistaxis')\n",
      "5. ('anorexia', 'There are various treatments for anorexia.')\n",
      "6. ('ataxia', \"Acquired means that something happened during the person's life to cause the ataxia.\")\n",
      "7. ('agranulocytosis', 'If the agranulocytosis is because of a lack of neutrophils (called neutropenia), it is especially bad.')\n",
      "8. ('anorexics', 'To try to lose weight, anorexics do not eat enough.')\n",
      "9. ('migraine', 'Abdominal migraine usually affects children starting at about age 7, but it may affect younger children and older children, and it may also sometimes affect adults.')\n",
      "10. ('cataplexy', 'There is also a less common form without cataplexy.')\n",
      "11. ('anosmia', 'In general, anosmia which has its cause in the brain cannot be treated.')\n",
      "12. ('DTs', 'Scientists think the DTs happen because the autonomic nervous system gets too excited.')\n"
     ]
    },
    {
     "name": "stderr",
     "output_type": "stream",
     "text": [
      "\n",
      " 68%|██████▊   | 23/34 [00:39<00:17,  1.57s/it]INFO:root:Use pytorch device: cuda\n",
      "\n",
      "Batches: 100%|██████████| 1/1 [00:00<00:00, 100.64it/s]"
     ]
    },
    {
     "name": "stdout",
     "output_type": "stream",
     "text": [
      " \n",
      "query_sent:  They die of dysentery.\n",
      "query_word:  dysentery\n",
      "Top substitutions:\n",
      "1. ('diarrhea', 'Child deaths from diarrhea can be prevented in different ways.')\n",
      "2. ('cholera', 'Between 1900 and 1920, in India, up to eight million people died of cholera.')\n",
      "3. ('encephalitis', 'It is not usually considered life-threatening but in 1976 a girl of 5 years was prescribed with steroids at Great Ormond Street Hospital to lessen her acute arthritic pain and died at home on 30th December after a swift attack of encephalitis.')\n",
      "4. ('Endocarditis', 'Endocarditis most often affects the heart valves.')\n",
      "5. ('seizures', 'Many people have died from seizures.')\n",
      "6. ('trichomoniasis', 'These problems do not happen to everyone with trichomoniasis.')\n",
      "7. ('ciliopathy', 'It is a ciliopathy.')\n",
      "8. ('polyphagia', 'This causes polyphagia.')\n",
      "9. ('narcolepsy', 'It is estimated that between 25 and 50 people, per 100,000 suffer from narcolepsy.')\n",
      "10. ('ketosis', 'Nevertheless, there are no studies directly monitoring the side effects of ketosis yet, hence it’s too early to conclude that the diet is completely safe for everyone.')\n",
      "11. ('Bubonic', 'There are different kinds of Bubonic plague.')\n"
     ]
    },
    {
     "name": "stderr",
     "output_type": "stream",
     "text": [
      "\n",
      " 71%|███████   | 24/34 [00:41<00:15,  1.58s/it]INFO:root:Use pytorch device: cuda\n",
      "\n",
      "Batches: 100%|██████████| 1/1 [00:00<00:00, 104.60it/s]"
     ]
    },
    {
     "name": "stdout",
     "output_type": "stream",
     "text": [
      " \n",
      "query_sent:  Henry II moved in support of Richard, and Henry the Young King died from dysentery at the end of the campaign.\n",
      "query_word:  dysentery\n",
      "Top substitutions:\n",
      "1. ('seizures', 'Many people have died from seizures.')\n",
      "2. ('cholera', 'Between 1900 and 1920, in India, up to eight million people died of cholera.')\n",
      "3. ('narcolepsy', 'It is estimated that between 25 and 50 people, per 100,000 suffer from narcolepsy.')\n",
      "4. ('rhabdomyolysis', 'Use of fibrates and statins at the same time makes rhabdomyolysis happen much more often.')\n",
      "5. ('pellagra', 'A person can die from pellagra if it is not treated.')\n",
      "6. ('ketosis', 'Nevertheless, there are no studies directly monitoring the side effects of ketosis yet, hence it’s too early to conclude that the diet is completely safe for everyone.')\n",
      "7. ('dyskinesia', 'But some people get tardive dyskinesia after taking these medicines for only 6 weeks.')\n",
      "8. ('cystic', '65 roses \" is how some children refer to their condition since cystic fibrosis is difficult for a young child to say.')\n",
      "9. ('ciliopathy', 'It is a ciliopathy.')\n",
      "10. ('dyslexic', 'A professor who did research in the 1980s and 1990s looked at the brains of dyslexic people who had died.')\n"
     ]
    },
    {
     "name": "stderr",
     "output_type": "stream",
     "text": [
      "\n",
      " 74%|███████▎  | 25/34 [00:43<00:15,  1.69s/it]INFO:root:Use pytorch device: cuda\n",
      "\n",
      "Batches: 100%|██████████| 1/1 [00:00<00:00, 102.18it/s]"
     ]
    },
    {
     "name": "stdout",
     "output_type": "stream",
     "text": [
      " \n",
      "query_sent:  Once at Richmond, Madison began drafting the Report, though he was delayed by a weeklong battle with dysentery.\n",
      "query_word:  dysentery\n",
      "Top substitutions:\n",
      "1. ('encephalitis', 'In 2013, encephalitis killed about 77,000 people in the world.')\n",
      "2. ('Chlamydia', 'REDIRECT Chlamydia infection')\n",
      "3. ('trichomoniasis', 'These problems do not happen to everyone with trichomoniasis.')\n",
      "4. ('dysthymia', 'However, even though both disorders have similar symptoms, these symptoms are usually less severe with dysthymia.')\n",
      "5. ('rhabdomyolysis', 'Rhabdomyosarcoma should not be confused with rhabdomyolysis, which is often called \" rhabdo \" for short.')\n",
      "6. ('Neurosyphilis', 'Neurosyphilis can also appear later, usually four to 25 years after a person first got syphilis.')\n",
      "7. ('dyskinesia', 'But some people get tardive dyskinesia after taking these medicines for only 6 weeks.')\n",
      "8. ('catatonia', 'Doctors can treat catatonia.')\n",
      "9. ('picornaviruses', 'It shows promise against picornaviruses.')\n",
      "10. ('thiomersal', 'They did not find a connection between thiomersal and autism.')\n",
      "11. ('Dyspraxia', 'REDIRECT Dyspraxia')\n"
     ]
    },
    {
     "name": "stderr",
     "output_type": "stream",
     "text": [
      "\n",
      " 76%|███████▋  | 26/34 [00:45<00:14,  1.76s/it]INFO:root:Use pytorch device: cuda\n",
      "\n",
      "Batches: 100%|██████████| 1/1 [00:00<00:00, 101.36it/s]"
     ]
    },
    {
     "name": "stdout",
     "output_type": "stream",
     "text": [
      " \n",
      "query_sent:  Psoriasis varies in severity from small, localized patches to complete body coverage.\n",
      "query_word:  Psoriasis\n",
      "Top substitutions:\n",
      "1. ('Melanoma', 'Melanoma is prominent in New Zealand and Australia due to the hole in the ozone layer and the many beaches.')\n",
      "2. ('Leprosy', 'Leprosy is an Contagious disease.')\n",
      "3. ('Psychosis', 'Psychosis is not a disease but rather a name for a number of symptoms, that can be caused by different diseases and conditions.')\n",
      "4. ('Syphilis', 'Syphilis that is not complicated can usually be treated and cured by antibiotic medications.')\n",
      "5. ('Cataplexy', 'Cataplexy often affects people who have narcolepsy.')\n",
      "6. ('Neurosyphilis', 'Neurosyphilis can also appear later, usually four to 25 years after a person first got syphilis.')\n",
      "7. ('Leishmaniasis', 'Leishmaniasis can be partly prevented by sleeping under nets treated with insecticide.')\n",
      "8. ('Impetigo', 'Impetigo is a very contagious bacterial skin infection.')\n",
      "9. ('Catatonia', 'Catatonia can also be caused by many different medical disorders.')\n",
      "10. ('Pyromania', 'Pyromania is an impulse control disorder involving and obsession with fire and explosives.')\n",
      "11. ('Psittacosis', 'Psittacosis is a bacterial disease that can be caught from birds such as parrots, pigeons, and parakeets.')\n",
      "12. ('Catalepsy', 'Catalepsy is a nervous condition.')\n"
     ]
    },
    {
     "name": "stderr",
     "output_type": "stream",
     "text": [
      "\n",
      " 79%|███████▉  | 27/34 [00:47<00:12,  1.83s/it]INFO:root:Use pytorch device: cuda\n",
      "\n",
      "Batches: 100%|██████████| 1/1 [00:00<00:00, 101.50it/s]"
     ]
    },
    {
     "name": "stdout",
     "output_type": "stream",
     "text": [
      " \n",
      "query_sent:  Psoriasis is generally thought to be a genetic disease that is triggered by environmental factors.\n",
      "query_word:  Psoriasis\n",
      "Top substitutions:\n",
      "1. ('Psychosis', 'Psychosis is not a disease but rather a name for a number of symptoms, that can be caused by different diseases and conditions.')\n",
      "2. ('Melanoma', 'Melanoma is prominent in New Zealand and Australia due to the hole in the ozone layer and the many beaches.')\n",
      "3. ('Leprosy', 'Leprosy is an Contagious disease.')\n",
      "4. ('Neurosyphilis', 'Neurosyphilis can also appear later, usually four to 25 years after a person first got syphilis.')\n",
      "5. ('Nocardiosis', 'Nocardiosis is a disease caused by the bacterium Nocardia Asteroides.')\n",
      "6. ('Syphilis', 'Syphilis that is not complicated can usually be treated and cured by antibiotic medications.')\n",
      "7. ('Psittacosis', 'Psittacosis is a bacterial disease that can be caught from birds such as parrots, pigeons, and parakeets.')\n",
      "8. ('Pyromania', 'Pyromania is an impulse control disorder involving and obsession with fire and explosives.')\n",
      "9. ('Cataplexy', 'Cataplexy often affects people who have narcolepsy.')\n",
      "10. ('Catatonia', 'Catatonia can also be caused by many different medical disorders.')\n",
      "11. ('Catalepsy', 'Catalepsy is a nervous condition.')\n",
      "12. ('Cyanosis', 'Cyanosis is a medical problem.')\n"
     ]
    },
    {
     "name": "stderr",
     "output_type": "stream",
     "text": [
      "\n",
      " 82%|████████▏ | 28/34 [00:49<00:11,  1.84s/it]INFO:root:Use pytorch device: cuda\n",
      "\n",
      "Batches: 100%|██████████| 1/1 [00:00<00:00, 100.77it/s]"
     ]
    },
    {
     "name": "stdout",
     "output_type": "stream",
     "text": [
      " \n",
      "query_sent:  There are five main types of psoriasis: plaque, guttate, inverse, pustular, and erythrodermic.\n",
      "query_word:  psoriasis\n",
      "Top substitutions:\n",
      "1. ('leprosy', 'The symptoms of leprosy are irregular spots and patches on the skin.')\n",
      "2. ('psoriatic', 'Other kinds of arthritis include psoriatic arthritis and septic arthritis (when an area is invaded by bacteria).')\n",
      "3. ('sarcoidosis', 'In some cases, pulmonary fibrosis is a complication of sarcoidosis.')\n",
      "4. ('cellulite', 'The appearance of cellulite has been linked to hormonal changes, changes in diet, stress, and poor blood circulation.')\n",
      "5. ('rosacea', 'There are four types of rosacea, three involving human skin and the fourth affecting eyes.')\n",
      "6. ('Melanoma', 'Melanoma is prominent in New Zealand and Australia due to the hole in the ozone layer and the many beaches.')\n",
      "7. ('angioedema', 'In most cases, the cause of angioedema is never found.')\n",
      "8. ('leishmaniasis', 'The differences in the type of tissue affected are responsible for the different visible types of leishmaniasis.')\n",
      "9. ('sarcoma', 'As a result, there are many subtypes of sarcoma.')\n",
      "10. ('condition', 'Psoriasis is a skin condition where cells grow at a faster rate than they can be shed, causing excess skin to build up and form scaly patches on the body.')\n",
      "11. ('psychopathy', 'The definition of psychopathy has varied.')\n",
      "12. ('trichomoniasis', 'Most people with trichomoniasis do not have any symptoms.')\n"
     ]
    },
    {
     "name": "stderr",
     "output_type": "stream",
     "text": [
      "\n",
      " 85%|████████▌ | 29/34 [00:51<00:09,  1.83s/it]INFO:root:Use pytorch device: cuda\n",
      "\n",
      "Batches: 100%|██████████| 1/1 [00:00<00:00, 107.64it/s]"
     ]
    },
    {
     "name": "stdout",
     "output_type": "stream",
     "text": [
      " \n",
      "query_sent:  If one twin has psoriasis, the other twin is three times more likely to be affected if the twins are identical than if they are non-identical.\n",
      "query_word:  psoriasis\n",
      "Top substitutions:\n",
      "1. ('angioedema', 'It is possible to have angioedema without hives.')\n",
      "2. ('xeroderma', 'People with xeroderma pigmentosum are about 1,000 times more likely to get skin cancer.')\n",
      "3. ('psychosis', 'Also, if a person has psychosis that lasts longer than their mania, they may have schizoaffective disorder.')\n",
      "4. ('psoriatic', 'Other kinds of arthritis include psoriatic arthritis and septic arthritis (when an area is invaded by bacteria).')\n",
      "5. ('bulimia', 'Most people who have bulimia are between the ages of 10 to 25.')\n",
      "6. ('phobia', 'Anxiety conditions include phobia, social anxiety disorder and generalized anxiety disorder.')\n",
      "7. ('anorexia', 'Doctors use the Diagnostic and Statistical Manual of Mental Disorders to make a medical diagnosis and decide if a person has anorexia or not.')\n",
      "8. ('trichomoniasis', 'Every year, about 248 million more people get trichomoniasis.')\n",
      "9. ('silicosis', 'Sometimes doctors do not realize that someone has silicosis, and think that they have other illnesses like pneumonia, tuberculosis or fluid in the lungs.')\n",
      "10. ('cataplexy', 'People who have cataplexy will sometimes see that some of their muscles suddenly fail them.')\n",
      "11. ('pyromania', 'When children have pyromania, later in life they usually are diagnosed with a mental disorder.')\n",
      "12. ('Cyanosis', 'Cyanosis is a medical problem.')\n"
     ]
    },
    {
     "name": "stderr",
     "output_type": "stream",
     "text": [
      "\n",
      " 88%|████████▊ | 30/34 [00:52<00:06,  1.65s/it]INFO:root:Use pytorch device: cuda\n",
      "\n",
      "Batches: 100%|██████████| 1/1 [00:00<00:00, 103.45it/s]"
     ]
    },
    {
     "name": "stdout",
     "output_type": "stream",
     "text": [
      " \n",
      "query_sent:  High doses may lead to muscles contractions.\n",
      "query_word:  contractions\n",
      "Top substitutions:\n",
      "1. ('spasms', 'The twitching is caused by the spasms.')\n",
      "2. ('pain', 'This can cause weakness and muscle pain.')\n",
      "3. ('paralysis', 'Studies suggest that many people get sleep paralysis at least once in their lives.')\n",
      "4. ('twitches', 'Hypnic jerks are one form of involuntary muscle twitches called myoclonus.')\n",
      "5. ('seizures', 'Coma, many seizures, or long delirium   If no treatment is given, death often occurs.')\n",
      "6. ('jerks', 'Benzodiazepines can make muscle jerks happen less often.')\n",
      "7. ('twitching', 'The twitching is caused by the spasms.')\n",
      "8. ('movements', 'This medicine helps slow some of the restless movements of chorea.')\n",
      "9. ('weakness', 'This results in muscular weakness. \"')\n",
      "10. ('work', 'Stress can also make the cremasteric reflex work.')\n",
      "11. ('sores', 'Impetigo can also be called school sores.')\n",
      "12. ('rhabdomyolysis', 'Fibrates can have rhabdomyolysis like the statins and also can cause upset stomach.')\n"
     ]
    },
    {
     "name": "stderr",
     "output_type": "stream",
     "text": [
      "\n",
      " 91%|█████████ | 31/34 [00:53<00:04,  1.57s/it]INFO:root:Use pytorch device: cuda\n",
      "\n",
      "Batches: 100%|██████████| 1/1 [00:00<00:00, 103.81it/s]"
     ]
    },
    {
     "name": "stdout",
     "output_type": "stream",
     "text": [
      " \n",
      "query_sent:  High doses may lead to convulsions.\n",
      "query_word:  convulsions\n",
      "Top substitutions:\n",
      "1. ('seizures', 'This can cause seizures.')\n",
      "2. ('vertigo', 'BPVC causes vertigo.')\n",
      "3. ('hallucinations', 'Certain drugs can cause hallucinations.')\n",
      "4. ('anticonvulsant', 'For example, patients who have seizures may be given anticonvulsant medications.')\n",
      "5. ('anticonvulsants', 'Other medicines that can help with psychiatric symptoms and movements are benzodiazepines and anticonvulsants usually taken for seizures.')\n",
      "6. ('dyskinesia', 'But some other people can get tardive dyskinesia too.')\n",
      "7. ('myoclonus', 'Hypnic jerks are one form of involuntary muscle twitches called myoclonus.')\n",
      "8. ('cerebellar', 'For example, if a person has a brain tumor in their cerebellum, they may get cerebellar ataxia.')\n",
      "9. ('neurological', 'Some forms of chorea are not linked to neurological conditions, though.')\n",
      "10. ('contagious', 'All kinds of tonsillitis are contagious.')\n",
      "11. ('tonsillitis', 'There are treatments for tonsillitis.')\n",
      "12. ('picornaviruses', 'It shows promise against picornaviruses.')\n"
     ]
    },
    {
     "name": "stderr",
     "output_type": "stream",
     "text": [
      "\n",
      " 94%|█████████▍| 32/34 [00:55<00:03,  1.54s/it]INFO:root:Use pytorch device: cuda\n",
      "\n",
      "Batches: 100%|██████████| 1/1 [00:00<00:00, 101.07it/s]"
     ]
    },
    {
     "name": "stdout",
     "output_type": "stream",
     "text": [
      " \n",
      "query_sent:  To reduce the encephalocele cyst.\n",
      "query_word:  encephalocele\n",
      "Top substitutions:\n",
      "1. ('encephalitis', 'This is called \" secondary encephalitis. \"')\n",
      "2. ('Encephalopathy', 'Encephalopathy means problem of the brain.')\n",
      "3. ('encephalomyelitis', 'Neurological disorders: These are problems with the brain and the nerves, like Guillain–Barré syndrome and Post-dengue acute disseminated encephalomyelitis.')\n",
      "4. ('ciliopathy', 'It is a ciliopathy.')\n",
      "5. ('cephalic', 'It is a type of cephalic disorder.')\n",
      "6. ('cranium', 'Also, mountain climbers at high altitude have been known to experience cerebral oedema primarily due to reduced air pressure acting on the cranium.')\n",
      "7. ('ciliopathies', 'The underlying cause of the ciliopathies may be defects in the mechanism of cilia in the cell.')\n",
      "8. ('tonsillitis', 'There are treatments for tonsillitis.')\n",
      "9. ('cremasteric', 'Stress can also make the cremasteric reflex work.')\n"
     ]
    },
    {
     "name": "stderr",
     "output_type": "stream",
     "text": [
      "\n",
      " 97%|█████████▋| 33/34 [00:57<00:01,  1.72s/it]INFO:root:Use pytorch device: cuda\n",
      "\n",
      "Batches: 100%|██████████| 1/1 [00:00<00:00, 101.41it/s]"
     ]
    },
    {
     "name": "stdout",
     "output_type": "stream",
     "text": [
      " \n",
      "query_sent:  Epistaxis in children is usually from Little's area, which is on the septal wall anteriorly.\n",
      "query_word:  Epistaxis\n",
      "Top substitutions:\n",
      "1. ('Anaphylaxis', 'Anaphylaxis has many symptoms, such as an itchy rash, throat swelling, breathing problems, and low blood pressure.')\n",
      "2. ('Anosmia', 'Anosmia is losing the the sense of smell.')\n",
      "3. ('Prognathism', 'Prognathism: part of the face sticks out more than normal usually the lower jaw.')\n",
      "4. ('Epidemic', 'Epidemic typhus')\n",
      "5. ('Angioedema', 'Angioedema may be caused by an allergic reaction.')\n",
      "6. ('Agoraphobia', 'Agoraphobia is a medical condition that causes anxiety.')\n",
      "7. ('Anthrax', 'Anthrax, or splenic fever, is a disease.')\n",
      "8. ('Catalepsy', 'Catalepsy is a nervous condition.')\n",
      "9. ('Trichomoniasis', \"Trichomoniasis is only spread through sex, or if two people's genitals touch.\")\n",
      "10. ('Scaphocephaly', 'Scaphocephaly is a medical disorder.')\n",
      "11. ('Arachnophobia', 'Arachnophobia is a fear of spiders.')\n"
     ]
    },
    {
     "name": "stderr",
     "output_type": "stream",
     "text": [
      "\n",
      "100%|██████████| 34/34 [00:59<00:00,  1.74s/it]"
     ]
    },
    {
     "name": "stdout",
     "output_type": "stream",
     "text": [
      " \n",
      "query_sent:  Once epistaxis occurs, the importance of the first treatment for the haemostasis should be emphasized.\n",
      "query_word:  epistaxis\n",
      "Top substitutions:\n",
      "1. ('anaphylaxis', 'Epinephrine is the best and first treatment used for anaphylaxis.')\n",
      "2. ('angioedema', 'It is possible to have angioedema without hives.')\n",
      "3. ('anosmia', 'In some cases, accupuncture was successfully used to treat anosmia.')\n",
      "4. ('episodic', 'Some people who start off getting episodic migraines may start to get chronic migraines later.')\n",
      "5. ('ectoparasite', 'The mite is an ectoparasite.')\n",
      "6. ('phobias', 'Causes and risk factors phobias is very.')\n",
      "7. ('Psittacosis', 'In rare cases, Psittacosis can cause endocarditis - swelling of joints, and swelling of the cornea.')\n",
      "8. ('trichomoniasis', 'Treatment for trichomoniasis is usually metronidazole (Flagyl), which kills protozoa like Trichomonas vaginalis.')\n",
      "9. ('anaphylactic', 'They usually have fewer anaphylactic episodes, which are less severe, as they get older.')\n",
      "10. ('prosopagnosia', 'Doctors can check patients for prosopagnosia by using PET and fMRI scans to see if their brain reacts when they see faces.')\n",
      "11. ('cataplexy', 'There is also a less common form without cataplexy.')\n"
     ]
    },
    {
     "name": "stderr",
     "output_type": "stream",
     "text": [
      "\n"
     ]
    }
   ],
   "source": [
    "for query_sent, query_word in tqdm(sentences):\n",
    "    output_ss_sr(query_sent, query_word, k=50)"
   ]
  },
  {
   "cell_type": "markdown",
   "metadata": {},
   "source": [
    "### Ranking > selection"
   ]
  },
  {
   "cell_type": "code",
   "execution_count": 11,
   "metadata": {},
   "outputs": [],
   "source": [
    "def output_sr_ss(query_sent, query_word, k):\n",
    "\n",
    "    tokens, words, position = MLM_LS.convert_sentence_to_token(sentence=query_sent, tokenizer=tokenizer, seq_length=256)\n",
    "\n",
    "    #print(\"tokens: \", tokens)\n",
    "    #print(\"words: \", words)\n",
    "    #print(\"position: \", position)\n",
    "\n",
    "    distances, neighbors, contexts= tree_copy.query(query_sent=query_sent, query_word=query_word, k=k, filter_same_word=True)\n",
    "\n",
    "    closest_candidates = list(zip(neighbors, contexts))\n",
    "    #print(\" \")\n",
    "    #print(len(closest_candidates))\n",
    "    #print(closest_candidates)\n",
    "    #print(\" \")\n",
    "\n",
    "    mask_index = words.index(query_word)\n",
    "    #print(\"mask_index: \", mask_index)\n",
    "    window_context = 11\n",
    "    mask_context = MLM_LS.extract_context(words, mask_index, window_context)\n",
    "\n",
    "    sr = substitution_ranking(source_word=query_word,\n",
    "                            source_context=mask_context,\n",
    "                            substitution_selection=closest_candidates,\n",
    "                            fasttext_dico=fasttext_dico,\n",
    "                            fasttext_emb=fasttext_emb,\n",
    "                            word_count=word_count,\n",
    "                            tokenizer=tokenizer,\n",
    "                            maskedLM=model)\n",
    "\n",
    "    ss = substitution_selection(source_word=query_word,\n",
    "                                closest_candidates=sr,\n",
    "                                stopwords=stopword_list,\n",
    "                                ps=ps,\n",
    "                                num_selection=num_selection)\n",
    "    #print(len(ss))\n",
    "    #print(ss)\n",
    "    \n",
    "    print(\" \")\n",
    "    print(\"query_sent: \", query_sent)\n",
    "    print(\"query_word: \", query_word)\n",
    "    print(\"Top substitutions:\")\n",
    "    for i, item in enumerate(ss):\n",
    "        print(f'{i+1}. {item}')\n"
   ]
  },
  {
   "cell_type": "code",
   "execution_count": 19,
   "metadata": {},
   "outputs": [
    {
     "name": "stderr",
     "output_type": "stream",
     "text": [
      "\n",
      "  0%|          | 0/29 [00:00<?, ?it/s]\u001b[AINFO:root:Use pytorch device: cuda\n",
      "\n",
      "\n",
      "Batches: 100%|██████████| 1/1 [00:00<00:00, 54.55it/s]\n",
      "\n",
      "  3%|▎         | 1/29 [00:07<03:35,  7.71s/it]\u001b[AINFO:root:Use pytorch device: cuda\n",
      "\n",
      "\n",
      "Batches: 100%|██████████| 1/1 [00:00<00:00, 103.73it/s]"
     ]
    },
    {
     "name": "stdout",
     "output_type": "stream",
     "text": [
      " \n",
      "query_sent:  Ho was diagnosed with cardiomyopathy in 2005 and had a pacemaker implanted.\n",
      "query_word:  cardiomyopathy\n",
      "Top substitutions:\n",
      "1. ('arrhythmia', 'Heart   Heart disease   Cardiac arrhythmia')\n",
      "2. ('tachycardia', 'Some people with ventricular tachycardia do not have any symptoms, especially if the V-tach lasts for only a few seconds.')\n",
      "3. ('ventricular', 'This is called idiopathic ventricular tachycardia.')\n",
      "4. ('Myocarditis', 'Myocarditis, also known as inflammatory cardiomyopathy, is inflammation and infection of the heart muscle.')\n",
      "5. ('rhabdomyosarcoma', 'For example, adults with rhabdomyosarcoma usually have tumors that grow faster and are harder to treat.')\n",
      "6. ('dystrophy', 'There is no cure for myotonic dystrophy.')\n",
      "7. ('myocardial', 'redirect myocardial infarction')\n",
      "8. ('bradycardia', 'Also, if bradycardia gets very bad, the heart will be unable to pump enough blood and oxygen to the body.')\n",
      "9. ('cardiogenic', 'It can also be caused by cardiogenic shock, where the heart is not getting enough blood to pump out to the rest of the body.')\n",
      "10. ('amyloidosis', 'Michael York who has amyloidosis, speaks from 4:00-60:00')\n",
      "11. ('leukemia', 'Chronic leukemia grows slowly.')\n",
      "12. ('leiomyosarcomas', 'It has been believed that leiomyosarcomas do not arise from leiomyomas.')\n"
     ]
    },
    {
     "name": "stderr",
     "output_type": "stream",
     "text": [
      "\n",
      "\n",
      "  7%|▋         | 2/29 [00:14<03:20,  7.43s/it]\u001b[AINFO:root:Use pytorch device: cuda\n",
      "\n",
      "\n",
      "Batches: 100%|██████████| 1/1 [00:00<00:00, 101.20it/s]"
     ]
    },
    {
     "name": "stdout",
     "output_type": "stream",
     "text": [
      " \n",
      "query_sent:  His echocardiogram was negative for cardiomyopathy.\n",
      "query_word:  cardiomyopathy\n",
      "Top substitutions:\n",
      "1. ('fibrosis', 'The parent might not have cystic fibrosis but still might have the gene.')\n",
      "2. ('pathophysiology', 'This change has occurred because the older dichotomous classification did not reflect pathophysiology or outcome.')\n",
      "3. ('dystrophy', 'There is no cure for myotonic dystrophy.')\n",
      "4. ('tachycardia', 'A doctor can diagnose ventricular tachycardia by doing an electrocardiogram (also called an ECG or an EKG).')\n",
      "5. ('cardiogenic', 'It can also be caused by cardiogenic shock, where the heart is not getting enough blood to pump out to the rest of the body.')\n",
      "6. ('arrhythmia', 'Heart   Heart disease   Cardiac arrhythmia')\n",
      "7. ('Myocarditis', 'Myocarditis, also known as inflammatory cardiomyopathy, is inflammation and infection of the heart muscle.')\n",
      "8. ('myocardial', 'redirect myocardial infarction')\n",
      "9. ('ventricular', 'This is called idiopathic ventricular tachycardia.')\n",
      "10. ('bradycardia', 'Also, if bradycardia gets very bad, the heart will be unable to pump enough blood and oxygen to the body.')\n",
      "11. ('Endocarditis', 'Endocarditis most often affects the heart valves.')\n",
      "12. ('myotonic', 'There is no cure for myotonic dystrophy.')\n"
     ]
    },
    {
     "name": "stderr",
     "output_type": "stream",
     "text": [
      "\n",
      "\n",
      " 10%|█         | 3/29 [00:21<03:11,  7.38s/it]\u001b[AINFO:root:Use pytorch device: cuda\n",
      "\n",
      "\n",
      "Batches: 100%|██████████| 1/1 [00:00<00:00, 99.03it/s]"
     ]
    },
    {
     "name": "stdout",
     "output_type": "stream",
     "text": [
      " \n",
      "query_sent:  And a subsequent biopsy revealed irreversible cardiomyopathy.\n",
      "query_word:  cardiomyopathy\n",
      "Top substitutions:\n",
      "1. ('dystrophy', 'There is no cure for myotonic dystrophy.')\n",
      "2. ('Myocarditis', 'Myocarditis, also known as inflammatory cardiomyopathy, is inflammation and infection of the heart muscle.')\n",
      "3. ('fibrosis', 'In some patients the cause of the disease can be diagnosed, but in others the cause is unknown, a condition called idiopathic pulmonary fibrosis.')\n",
      "4. ('myocardial', 'redirect myocardial infarction')\n",
      "5. ('rhabdomyolysis', 'Use of fibrates and statins at the same time makes rhabdomyolysis happen much more often.')\n",
      "6. ('ventricular', 'This is called idiopathic ventricular tachycardia.')\n",
      "7. ('rhabdomyosarcoma', 'This type of rhabdomyosarcoma usually grows faster than embryonal rhabdomyosarcoma, and needs more treatment than ERMS.')\n",
      "8. ('ciliopathy', 'It is a ciliopathy.')\n",
      "9. ('cardiogenic', 'It can also be caused by cardiogenic shock, where the heart is not getting enough blood to pump out to the rest of the body.')\n",
      "10. ('Endocarditis', 'Endocarditis most often affects the heart valves.')\n",
      "11. ('pathophysiology', 'This change has occurred because the older dichotomous classification did not reflect pathophysiology or outcome.')\n",
      "12. ('bronchiectasis', 'Antibiotics are used to treat bronchiectasis.')\n"
     ]
    },
    {
     "name": "stderr",
     "output_type": "stream",
     "text": [
      "\n",
      "\n",
      " 14%|█▍        | 4/29 [00:26<02:44,  6.60s/it]\u001b[AINFO:root:Use pytorch device: cuda\n",
      "\n",
      "\n",
      "Batches: 100%|██████████| 1/1 [00:00<00:00, 59.36it/s]"
     ]
    },
    {
     "name": "stdout",
     "output_type": "stream",
     "text": [
      " \n",
      "query_sent:  The kid has severe cardiomyopathy.\n",
      "query_word:  cardiomyopathy\n",
      "Top substitutions:\n",
      "1. ('dystrophy', 'There is no cure for myotonic dystrophy.')\n",
      "2. ('fibrosis', 'The parent might not have cystic fibrosis but still might have the gene.')\n",
      "3. ('myocardial', 'redirect myocardial infarction')\n",
      "4. ('amyloidosis', 'Michael York who has amyloidosis, speaks from 4:00-60:00')\n",
      "5. ('cardiogenic', 'It can also be caused by cardiogenic shock, where the heart is not getting enough blood to pump out to the rest of the body.')\n",
      "6. ('ciliopathy', 'It is a ciliopathy.')\n",
      "7. ('Endocarditis', 'Endocarditis most often affects the heart valves.')\n",
      "8. ('bronchiectasis', 'People with bronchiectasis have swollen bronchi.')\n",
      "9. ('tachycardia', 'Ventricular tachycardia causes most of the sudden cardiac deaths in the United States.')\n",
      "10. ('Myocarditis', 'Myocarditis, also known as inflammatory cardiomyopathy, is inflammation and infection of the heart muscle.')\n",
      "11. ('leukemia', 'Chronic leukemia grows slowly.')\n",
      "12. ('myotonic', 'There is no cure for myotonic dystrophy.')\n"
     ]
    },
    {
     "name": "stderr",
     "output_type": "stream",
     "text": [
      "\n",
      "\n",
      " 17%|█▋        | 5/29 [00:34<02:47,  6.96s/it]\u001b[AINFO:root:Use pytorch device: cuda\n",
      "\n",
      "\n",
      "Batches: 100%|██████████| 1/1 [00:00<00:00, 94.63it/s]"
     ]
    },
    {
     "name": "stdout",
     "output_type": "stream",
     "text": [
      " \n",
      "query_sent:  Which means it could be a hematological problem plus cardiomyopathy\n",
      "query_word:  cardiomyopathy\n",
      "Top substitutions:\n",
      "1. ('Myopathy', 'Myopathy \" simply means muscle disease (Greek myo- \" muscle \" + patheia < -pathy \" suffering \" ).')\n",
      "2. ('rhabdomyolysis', 'Use of fibrates and statins at the same time makes rhabdomyolysis happen much more often.')\n",
      "3. ('ciliopathy', 'It is a ciliopathy.')\n",
      "4. ('endocarditis', 'In rare cases, Psittacosis can cause endocarditis - swelling of joints, and swelling of the cornea.')\n",
      "5. ('myocardial', 'redirect myocardial infarction')\n",
      "6. ('cardiotoxicity', 'Large doses of quinine can cause:   skin rashes   deafness   sleepiness   blindness   anaphylactic shock   disturbances in abnormal heart rhythm   death from cardiotoxicity.')\n",
      "7. ('Myocarditis', 'Myocarditis, also known as inflammatory cardiomyopathy, is inflammation and infection of the heart muscle.')\n",
      "8. ('cardiogenic', 'It can also be caused by cardiogenic shock, where the heart is not getting enough blood to pump out to the rest of the body.')\n",
      "9. ('myopathic', 'Symptoms can be any combination of myopathic, hepatopathic, or encephalomyopathic.')\n",
      "10. ('pathophysiology', 'This change has occurred because the older dichotomous classification did not reflect pathophysiology or outcome.')\n",
      "11. ('leiomyosarcomas', 'It has been believed that leiomyosarcomas do not arise from leiomyomas.')\n",
      "12. ('myotonic', 'There is no cure for myotonic dystrophy.')\n"
     ]
    },
    {
     "name": "stderr",
     "output_type": "stream",
     "text": [
      "\n",
      "\n",
      " 21%|██        | 6/29 [00:41<02:44,  7.16s/it]\u001b[AINFO:root:Use pytorch device: cuda\n",
      "\n",
      "\n",
      "Batches: 100%|██████████| 1/1 [00:00<00:00, 68.92it/s]"
     ]
    },
    {
     "name": "stdout",
     "output_type": "stream",
     "text": [
      " \n",
      "query_sent:  An acute myocardial infarction, happens when a blood vessel in the heart suddenly becomes blocked.\n",
      "query_word:  myocardial\n",
      "Top substitutions:\n",
      "1. ('coronary', 'Cardiovascular disease includes coronary artery diseases (CAD) such as angina and myocardial infarction (commonly known as a heart attack).')\n",
      "2. ('ischemic', 'The most common cause is ischemic heart disease (heart disease that causes the heart to not get enough oxygen).')\n",
      "3. ('infarction', 'An acute myocardial infarction, also called a heart attack, happens when a blood vessel in the heart suddenly becomes blocked.')\n",
      "4. ('ischemia', 'If the ischemia lasts long enough, the heart muscle that is not getting enough oxygen dies.')\n",
      "5. ('cardiomyopathy', 'Problems caused by this may include heart failure due to cardiomyopathy or cardiac arrest.')\n",
      "6. ('myocardium', 'The most important thing is to save as much myocardium (heart muscle) as possible and prevent more complications.')\n",
      "7. ('Myocarditis', 'Myocarditis, also known as inflammatory cardiomyopathy, is inflammation and infection of the heart muscle.')\n",
      "8. ('cardiogenic', 'It can also be caused by cardiogenic shock, where the heart is not getting enough blood to pump out to the rest of the body.')\n",
      "9. ('attack', 'A heart attack is also called a myocardial infarction.')\n",
      "10. ('Cardiomyopathies', 'Cardiomyopathies are a group of diseases in which the function of the myocardium (heart muscle) is impaired for any reason.')\n",
      "11. ('fibrillation', 'Ventricular fibrillation can be stopped by shocking the person with electricity from a defibrillator.')\n",
      "12. ('arrest', 'With cardiac arrest, normal circulation of blood stops, because of a failure of the heart to contract.')\n"
     ]
    },
    {
     "name": "stderr",
     "output_type": "stream",
     "text": [
      "\n",
      "\n",
      " 24%|██▍       | 7/29 [00:49<02:41,  7.33s/it]\u001b[AINFO:root:Use pytorch device: cuda\n",
      "\n",
      "\n",
      "Batches: 100%|██████████| 1/1 [00:00<00:00, 97.73it/s]"
     ]
    },
    {
     "name": "stdout",
     "output_type": "stream",
     "text": [
      " \n",
      "query_sent:  Patau syndrome is a syndrome caused by a chromosomal abnormality, in which some or all of the cells of the body contain extra genetic material from chromosome 13.\n",
      "query_word:  Patau\n",
      "Top substitutions:\n",
      "1. ('Rett', 'Rett syndrome is an almost entirely female based disorder which affects girls.')\n",
      "2. ('Spinal', 'Spinal muscular atrophy is inherited from parents who might or might not have the disease themselves but both of whom have a fault (mutation) in their genes that predisposes to the disease.')\n",
      "3. ('Fragile', 'Fragile X syndrome occurs as a result of a mutation of the FMR1 gene on the X chromosome.')\n",
      "4. ('Chagas', 'Chagas disease is a disease caused by the protozoan parasite Trypanosoma cruzi.')\n",
      "5. ('Pellagra', 'Pellagra is a disease caused by a lack of niacin (vitamin B3).')\n",
      "6. ('Turner', 'Turner syndrome, also known as 45 X, is a genetic disorder of human females.')\n",
      "7. ('Tourette', 'Tourette syndrome is an inherited neurological disorder.')\n",
      "8. ('ASD', 'ASD is a condition that affects the way a person relates to their environment.')\n",
      "9. ('Malaria', 'Malaria is an infectious disease caused by a parasite: it is spread by the bite of an infected mosquito.')\n",
      "10. ('Stickler', 'Stickler syndrome affects around 1 in 10,000 people.')\n",
      "11. ('Renal', 'Renal medullary carcinoma is a rare form of Renal cancer that occurs most often in patients with Sickle cell trait or Sickle cell disease.')\n",
      "12. ('Müllerian', 'Müllerian agenesis is a rare birth defect also called Mayer-Rokitansky-Kuster-Hauser syndrome or MRKH.')\n"
     ]
    },
    {
     "name": "stderr",
     "output_type": "stream",
     "text": [
      "\n",
      "\n",
      " 28%|██▊       | 8/29 [00:55<02:23,  6.84s/it]\u001b[AINFO:root:Use pytorch device: cuda\n",
      "\n",
      "\n",
      "Batches: 100%|██████████| 1/1 [00:00<00:00, 98.08it/s]"
     ]
    },
    {
     "name": "stdout",
     "output_type": "stream",
     "text": [
      " \n",
      "query_sent:  Most cases of Patau syndrome are not inherited, but occur as random events during the formation of reproductive cells (eggs and sperm).\n",
      "query_word:  Patau\n",
      "Top substitutions:\n",
      "1. ('SIDS', 'Scientists think that about 10 to 20% of SIDS cases are caused by inherited defects in the ion channels that help the heart squeeze out blood.')\n",
      "2. ('anemia', 'Dimorphic anemia means two types of anemia at the same time.')\n",
      "3. ('chorea', 'Some forms of chorea are not linked to neurological conditions, though.')\n",
      "4. ('Parkinson', \"Doctors are studying the exact causes of Parkinson's.\")\n",
      "5. ('Renal', 'Renal medullary carcinoma is a rare form of Renal cancer that occurs most often in patients with Sickle cell trait or Sickle cell disease.')\n",
      "6. ('malnutrition', 'Marasmus is a form of malnutrition.')\n",
      "7. ('CIDP', 'Specially important are:   An asymmetrical variant of CIDP is known as Lewis-Sumner Syndrome.')\n",
      "8. ('Autism', 'There may be many different causes for the different types of Autism Spectrum Disorder.')\n",
      "9. ('recessive', 'These types of recessive gene disorders give an advantage in certain environments when only one copy of the gene is present.')\n",
      "10. ('Stickler', 'There are six types of Stickler syndrome known, and each has its own gene.')\n",
      "11. ('pellagra', 'Some symptoms of pellagra according to a few sources are abdominal cramping,depression,diarrhea,headache,loss of appetite,mucus membrane inflammation,dilated cardiomyopathy.')\n",
      "12. ('cerebral', 'There are several types of cerebral palsy.')\n"
     ]
    },
    {
     "name": "stderr",
     "output_type": "stream",
     "text": [
      "\n",
      "\n",
      " 31%|███       | 9/29 [01:01<02:12,  6.61s/it]\u001b[AINFO:root:Use pytorch device: cuda\n",
      "\n",
      "\n",
      "Batches: 100%|██████████| 1/1 [00:00<00:00, 102.20it/s]"
     ]
    },
    {
     "name": "stdout",
     "output_type": "stream",
     "text": [
      " \n",
      "query_sent:  But a baby with Patau syndrome has 3 copies of chromosome 13, instead of 2.\n",
      "query_word:  Patau\n",
      "Top substitutions:\n",
      "1. ('schizophrenia', 'The risk is even higher if you have an identical twin with schizophrenia.')\n",
      "2. ('Rett', 'People with Rett syndrome also have scoliosis.')\n",
      "3. ('POTS', 'People with POTS also have other symptoms of orthostatic intolerance (symptoms that get worse when a person is standing up, and get better when the person is lying down).')\n",
      "4. ('trisomy', 'People with trisomy 18 have three copies of chromosome 18. \"')\n",
      "5. ('GDM', 'Some women with GDM are treated with drugs.')\n",
      "6. ('DKA', 'People with DKA need to be treated in a hospital.')\n",
      "7. ('chorea', 'People with chorea move without being able to control those movements.')\n",
      "8. ('BPD', 'Many people with BPD were abused when they were children.')\n",
      "9. ('Tourette', \"Most people with Tourette's do not need treatment.\")\n",
      "10. ('catatonia', 'A person with catatonia may look to be in a stupor (being mentally numb and in a daze).')\n",
      "11. ('epilepsy', 'Many people with epilepsy have an aura before having a seizure.')\n",
      "12. ('Lassa', 'If a patient is diagnosed with Lassa fever, then the patient will be kept away from other people, to prevent the spread of the virus.')\n"
     ]
    },
    {
     "name": "stderr",
     "output_type": "stream",
     "text": [
      "\n",
      "\n",
      " 34%|███▍      | 10/29 [01:06<01:57,  6.20s/it]\u001b[AINFO:root:Use pytorch device: cuda\n",
      "\n",
      "\n",
      "Batches: 100%|██████████| 1/1 [00:00<00:00, 103.27it/s]"
     ]
    },
    {
     "name": "stdout",
     "output_type": "stream",
     "text": [
      " \n",
      "query_sent:  Nora is diagnosed with Trisomy 13.\n",
      "query_word:  Trisomy\n",
      "Top substitutions:\n",
      "1. ('Leukemia', 'Leukemia & Lymphoma Society website')\n",
      "2. ('chromosomal', \"It is also possible for chromosomal problems to happen because of a problem with a parent's genes.\")\n",
      "3. ('Leukodystrophy', 'Leukodystrophy is a gene defect.')\n",
      "4. ('autosomal', 'It is the second most common autosomal trisomy, after Down Syndrome, that carries to term.')\n",
      "5. ('aneuploidy', 'Among those who survive birth, Down syndrome is the most common form of aneuploidy.')\n",
      "6. ('chromosomes', 'Patau Sydrome, also known as Trisomy 13 or Trisomy D is a problem with the chromosomes.')\n",
      "7. ('Polyploidy', 'Trisomy   Polyploidy')\n",
      "8. ('Myelodysplastic', 'The Myelodysplastic syndrome is a group of diseases and conditions that affect how blood is made.')\n",
      "9. ('Diabetes', 'REDIRECT Diabetes mellitus')\n",
      "10. ('Psychotic', 'Psychotic Disorders.')\n",
      "11. ('recessive', 'The disorder is X-linked recessive.')\n",
      "12. ('bronchiectasis', 'People can be born with bronchiectasis or they can develop it later.')\n"
     ]
    },
    {
     "name": "stderr",
     "output_type": "stream",
     "text": [
      "\n",
      "\n",
      " 38%|███▊      | 11/29 [01:10<01:40,  5.59s/it]\u001b[AINFO:root:Use pytorch device: cuda\n",
      "\n",
      "\n",
      "Batches: 100%|██████████| 1/1 [00:00<00:00, 99.68it/s]"
     ]
    },
    {
     "name": "stdout",
     "output_type": "stream",
     "text": [
      " \n",
      "query_sent:  The patient has trisomy 13.\n",
      "query_word:  trisomy\n",
      "Top substitutions:\n",
      "1. ('amyloidosis', 'Michael York who has amyloidosis, speaks from 4:00-60:00')\n",
      "2. ('bipolar', 'If one identical twin has bipolar disorder, there is a 40 to 70 percent chance that the other will develop bipolar disorder in their lifetime.')\n",
      "3. ('anemia', 'The infant has anemia   SIDS only happens at certain ages.')\n",
      "4. ('sarcoma', 'As a result, there are many subtypes of sarcoma.')\n",
      "5. ('cystic', 'The parent might not have cystic fibrosis but still might have the gene.')\n",
      "6. ('chromosomal', \"It is also possible for chromosomal problems to happen because of a problem with a parent's genes.\")\n",
      "7. ('bulimia', 'Most people who have bulimia are between the ages of 10 to 25.')\n",
      "8. ('subtypes', 'There is a debate on the subtypes.')\n",
      "9. ('osteosarcoma', \"Examples of bone tumors include osteosarcoma and Ewing's sarcoma.\")\n",
      "10. ('leukemia', 'Chronic leukemia grows slowly.')\n",
      "11. ('diploid', 'Humans are diploid organisms.')\n",
      "12. ('trichomoniasis', 'Most people with trichomoniasis do not have any symptoms.')\n"
     ]
    },
    {
     "name": "stderr",
     "output_type": "stream",
     "text": [
      "\n",
      "\n",
      " 41%|████▏     | 12/29 [01:15<01:27,  5.17s/it]\u001b[AINFO:root:Use pytorch device: cuda\n",
      "\n",
      "\n",
      "Batches: 100%|██████████| 1/1 [00:00<00:00, 53.20it/s]"
     ]
    },
    {
     "name": "stdout",
     "output_type": "stream",
     "text": [
      " \n",
      "query_sent:  The patient has trisomy 21.\n",
      "query_word:  trisomy\n",
      "Top substitutions:\n",
      "1. ('amyloidosis', 'Michael York who has amyloidosis, speaks from 4:00-60:00')\n",
      "2. ('leukemia', 'Chronic leukemia grows slowly.')\n",
      "3. ('bipolar', 'If one identical twin has bipolar disorder, there is a 40 to 70 percent chance that the other will develop bipolar disorder in their lifetime.')\n",
      "4. ('bulimia', 'Most people who have bulimia are between the ages of 10 to 25.')\n",
      "5. ('anemia', 'The infant has anemia   SIDS only happens at certain ages.')\n",
      "6. ('sarcoma', 'As a result, there are many subtypes of sarcoma.')\n",
      "7. ('diploid', 'Humans are diploid organisms.')\n",
      "8. ('cystic', 'The parent might not have cystic fibrosis but still might have the gene.')\n",
      "9. ('chromosomal', \"It is also possible for chromosomal problems to happen because of a problem with a parent's genes.\")\n",
      "10. ('polyuria', 'This causes polyuria.')\n",
      "11. ('subtypes', 'There is a debate on the subtypes.')\n",
      "12. ('osteosarcoma', \"Examples of bone tumors include osteosarcoma and Ewing's sarcoma.\")\n"
     ]
    },
    {
     "name": "stderr",
     "output_type": "stream",
     "text": [
      "\n",
      "\n",
      " 45%|████▍     | 13/29 [01:22<01:31,  5.72s/it]\u001b[AINFO:root:Use pytorch device: cuda\n",
      "\n",
      "\n",
      "Batches: 100%|██████████| 1/1 [00:00<00:00, 92.27it/s]"
     ]
    },
    {
     "name": "stdout",
     "output_type": "stream",
     "text": [
      " \n",
      "query_sent:  Rarely very low blood pressure may be the only sign of anaphylaxis.\n",
      "query_word:  anaphylaxis\n",
      "Top substitutions:\n",
      "1. ('anaphylactic', 'There is no reason why it should not be used if a person is having an anaphylactic reaction.')\n",
      "2. ('angioedema', 'It is possible to have angioedema without hives.')\n",
      "3. ('anaphylatoxins', 'It is caused by the release (degranulation) of substances from mast cells or basophils because of anaphylatoxins.')\n",
      "4. ('anorexia', 'Four signs of anorexia are listed in the manual.')\n",
      "5. ('amyloidosis', 'Michael York who has amyloidosis, speaks from 4:00-60:00')\n",
      "6. ('ischemia', 'Mesenteric ischemia is a medical condition.')\n",
      "7. ('narcolepsy', 'This is the most common symptom of narcolepsy.')\n",
      "8. ('phobias', 'Causes and risk factors phobias is very.')\n",
      "9. ('Epistaxis', 'REDIRECT Epistaxis')\n",
      "10. ('anthrax', 'If not treated, anthrax often leads to death.')\n",
      "11. ('neurosarcoidosis', 'If it does, it is called neurosarcoidosis.')\n",
      "12. ('anorexics', 'To try to lose weight, anorexics do not eat enough.')\n"
     ]
    },
    {
     "name": "stderr",
     "output_type": "stream",
     "text": [
      "\n",
      "\n",
      " 48%|████▊     | 14/29 [01:28<01:31,  6.09s/it]\u001b[AINFO:root:Use pytorch device: cuda\n",
      "\n",
      "\n",
      "Batches: 100%|██████████| 1/1 [00:00<00:00, 96.17it/s]"
     ]
    },
    {
     "name": "stdout",
     "output_type": "stream",
     "text": [
      " \n",
      "query_sent:  Worldwide, 0.05-2% of the population is estimated to have anaphylaxis at some point in life, and rates appear to be increasing.\n",
      "query_word:  anaphylaxis\n",
      "Top substitutions:\n",
      "1. ('angioedema', 'It is possible to have angioedema without hives.')\n",
      "2. ('amyloidosis', 'Michael York who has amyloidosis, speaks from 4:00-60:00')\n",
      "3. ('anorexia', 'People do not have to show all four signs for the doctor to decide that they have anorexia.')\n",
      "4. ('anaphylatoxins', 'It is caused by the release (degranulation) of substances from mast cells or basophils because of anaphylatoxins.')\n",
      "5. ('ketoacidosis', 'Although ketoacidosis – acidification of the blood due to pathological levels of ketones – was historically proposed as a side effect, nutritional ketosis simply cannot achieve the level of ketones required to induce this life-threatening state.')\n",
      "6. ('anaphylactic', 'However, half of the people who die of anaphylaxis have had no anaphylactic reaction before.')\n",
      "7. ('allergic', 'For example, treatment of the immune system (immunotherapy) with Hymenoptera venoms is able to make 80–90% of adults and 98% of children stop having allergic reactions to bees, wasps, hornets, yellow jackets, and fire ants.')\n",
      "8. ('Epistaxis', 'REDIRECT Epistaxis')\n",
      "9. ('anaemia', 'People affected may develop anaemia due to loss of blood.')\n",
      "10. ('antibody', 'U.S. researchers have found the children produce an antibody which attacks the malaria-causing parasite.')\n",
      "11. ('anthrax', 'There are 89 different strains (kinds) of anthrax.')\n",
      "12. ('autistic', 'Similar to the outcomes in the autistic parents studies, most children having autistic siblings/ twins were found out to be showing autistic signs.')\n"
     ]
    },
    {
     "name": "stderr",
     "output_type": "stream",
     "text": [
      "\n",
      "\n",
      " 52%|█████▏    | 15/29 [01:36<01:32,  6.61s/it]\u001b[AINFO:root:Use pytorch device: cuda\n",
      "\n",
      "\n",
      "Batches: 100%|██████████| 1/1 [00:00<00:00, 96.39it/s]"
     ]
    },
    {
     "name": "stdout",
     "output_type": "stream",
     "text": [
      " \n",
      "query_sent:  On a mechanistic level, anaphylaxis is caused by the release of mediators from certain types of white blood cells triggered either by immunologic or non-immunologic mechanisms.\n",
      "query_word:  anaphylaxis\n",
      "Top substitutions:\n",
      "1. ('anaphylactic', 'The risk of having another anaphylactic reaction decreases as a person avoids the trigger for longer and longer.')\n",
      "2. ('anorexia', 'Many people think that anorexia is caused by wanting to be thin like models in magazines.')\n",
      "3. ('angioedema', 'A form of angioedema happens in families and has different triggers, complications, and treatments.')\n",
      "4. ('ischemia', 'Mesenteric ischemia is a medical condition.')\n",
      "5. ('anaphylatoxins', 'It is caused by the release (degranulation) of substances from mast cells or basophils because of anaphylatoxins.')\n",
      "6. ('antihistamines', 'Doctors often give antihistamines (which destroy histamine) and steroids along with epinephrine.')\n",
      "7. ('ataxia', 'Instead, ataxia is caused by a neurological problem.')\n",
      "8. ('Epistaxis', 'REDIRECT Epistaxis')\n",
      "9. ('agranulocytosis', 'If the agranulocytosis is because of a lack of neutrophils (called neutropenia), it is especially bad.')\n",
      "10. ('narcolepsy', 'Some scientists think that narcolepsy is caused by a lack of hypocretin.')\n",
      "11. ('anorexics', 'To try to lose weight, anorexics do not eat enough.')\n",
      "12. ('allergic', 'Anaphylaxis is a serious allergic reaction.')\n"
     ]
    },
    {
     "name": "stderr",
     "output_type": "stream",
     "text": [
      "\n",
      "\n",
      " 55%|█████▌    | 16/29 [01:43<01:27,  6.71s/it]\u001b[AINFO:root:Use pytorch device: cuda\n",
      "\n",
      "\n",
      "Batches: 100%|██████████| 1/1 [00:00<00:00, 97.51it/s]"
     ]
    },
    {
     "name": "stdout",
     "output_type": "stream",
     "text": [
      " \n",
      "query_sent:  Previous systemic reactions, which are anything more than a local reaction around the site of the sting, are a risk factor for future anaphylaxis; however, half of fatalities have had no previous systemic reaction.\n",
      "query_word:  anaphylaxis\n",
      "Top substitutions:\n",
      "1. ('angioedema', 'It is possible to have angioedema without hives.')\n",
      "2. ('anorexia', 'People do not have to show all four signs for the doctor to decide that they have anorexia.')\n",
      "3. ('migraine', 'The exact causes of menstrual migraine are not known for sure but there is a link between falling levels of the female hormone estrogen and the onset of a migraine attack.')\n",
      "4. ('anaphylactic', 'The risk of having another anaphylactic reaction decreases as a person avoids the trigger for longer and longer.')\n",
      "5. ('anaphylatoxins', 'It is caused by the release (degranulation) of substances from mast cells or basophils because of anaphylatoxins.')\n",
      "6. ('allergic', 'Anaphylaxis is a serious allergic reaction.')\n",
      "7. ('Epistaxis', 'REDIRECT Epistaxis')\n",
      "8. ('reaction', 'The risk of having another anaphylactic reaction decreases as a person avoids the trigger for longer and longer.')\n",
      "9. ('antihistamines', 'Doctors often give antihistamines (which destroy histamine) and steroids along with epinephrine.')\n",
      "10. ('anaesthetics', 'The dentists, doctors, and surgeons use drugs called anaesthetics to make people not feel pain, or to make people become unconscious.')\n",
      "11. ('narcolepsy', 'It is estimated that between 25 and 50 people, per 100,000 suffer from narcolepsy.')\n",
      "12. ('gout', 'X-rays are not useful for treating acute gout attacks.')\n"
     ]
    },
    {
     "name": "stderr",
     "output_type": "stream",
     "text": [
      "\n",
      "\n",
      " 59%|█████▊    | 17/29 [01:50<01:21,  6.82s/it]\u001b[AINFO:root:Use pytorch device: cuda\n",
      "\n",
      "\n",
      "Batches: 100%|██████████| 1/1 [00:00<00:00, 99.04it/s]"
     ]
    },
    {
     "name": "stdout",
     "output_type": "stream",
     "text": [
      " \n",
      "query_sent:  In a person who died from anaphylaxis, autopsy may show an \"empty heart\" attributed to reduced venous return from vasodilation and redistribution of intravascular volume from the central to the peripheral compartment.\n",
      "query_word:  anaphylaxis\n",
      "Top substitutions:\n",
      "1. ('amyloidosis', 'Michael York who has amyloidosis, speaks from 4:00-60:00')\n",
      "2. ('anaphylactic', 'The risk of having another anaphylactic reaction decreases as a person avoids the trigger for longer and longer.')\n",
      "3. ('narcolepsy', 'It is estimated that between 25 and 50 people, per 100,000 suffer from narcolepsy.')\n",
      "4. ('anorexia', 'People do not have to show all four signs for the doctor to decide that they have anorexia.')\n",
      "5. ('anaphylatoxins', 'It is caused by the release (degranulation) of substances from mast cells or basophils because of anaphylatoxins.')\n",
      "6. ('episodic', 'Some people who start off getting episodic migraines may start to get chronic migraines later.')\n",
      "7. ('angioedema', 'It is possible to have angioedema without hives.')\n",
      "8. ('Epistaxis', 'REDIRECT Epistaxis')\n",
      "9. ('cataplexy', 'People who have cataplexy will sometimes see that some of their muscles suddenly fail them.')\n",
      "10. ('seizures', 'Many people have died from seizures.')\n",
      "11. ('iatrogenic', 'For example, if a person can get iatrogenic CJD if they get a blood transfusion or a cornea transplant from someone who has CJD.')\n",
      "12. ('anthrax', 'If not treated, anthrax often leads to death.')\n"
     ]
    },
    {
     "name": "stderr",
     "output_type": "stream",
     "text": [
      "\n",
      "\n",
      " 62%|██████▏   | 18/29 [01:58<01:17,  7.03s/it]\u001b[AINFO:root:Use pytorch device: cuda\n",
      "\n",
      "\n",
      "Batches: 100%|██████████| 1/1 [00:00<00:00, 96.47it/s]"
     ]
    },
    {
     "name": "stdout",
     "output_type": "stream",
     "text": [
      " \n",
      "query_sent:  Anaphylaxis can occur in response to almost any foreign substance.\n",
      "query_word:  Anaphylaxis\n",
      "Top substitutions:\n",
      "1. ('Asphyxia', 'Asphyxia can injure or kill people.')\n",
      "2. ('Narcolepsy', 'Narcolepsy affects the way the nerves work.')\n",
      "3. ('Angioedema', 'Angioedema may be caused by an allergic reaction.')\n",
      "4. ('Trichomoniasis', \"Trichomoniasis is only spread through sex, or if two people's genitals touch.\")\n",
      "5. ('Cyanosis', 'Cyanosis is a medical problem.')\n",
      "6. ('Syphilis', 'Syphilis that is not complicated can usually be treated and cured by antibiotic medications.')\n",
      "7. ('Anosmia', 'Anosmia is losing the the sense of smell.')\n",
      "8. ('Neurosyphilis', 'Neurosyphilis can also appear later, usually four to 25 years after a person first got syphilis.')\n",
      "9. ('Anthrax', 'Anthrax, or splenic fever, is a disease.')\n",
      "10. ('Cataplexy', 'Cataplexy often affects people who have narcolepsy.')\n",
      "11. ('Hyperhidrosis', 'Hyperhidrosis: when a person sweats too much.')\n",
      "12. ('Paraplegia', 'Paraplegia is paralysis of the legs and lower half of the body.')\n"
     ]
    },
    {
     "name": "stderr",
     "output_type": "stream",
     "text": [
      "\n",
      "\n",
      " 66%|██████▌   | 19/29 [02:05<01:10,  7.01s/it]\u001b[AINFO:root:Use pytorch device: cuda\n",
      "\n",
      "\n",
      "Batches: 100%|██████████| 1/1 [00:00<00:00, 91.58it/s]"
     ]
    },
    {
     "name": "stdout",
     "output_type": "stream",
     "text": [
      " \n",
      "query_sent:  Many foods can trigger anaphylaxis; this may occur upon the first known ingestion.\n",
      "query_word:  anaphylaxis\n",
      "Top substitutions:\n",
      "1. ('anorexia', 'People who develop anorexia tend to be perfectionistic.')\n",
      "2. ('Anxiety', 'Anxiety is one of the most common symptoms and can lead the individual to believe that if a task is not completed, something bad may happen.')\n",
      "3. ('anaphylatoxins', 'It is caused by the release (degranulation) of substances from mast cells or basophils because of anaphylatoxins.')\n",
      "4. ('anaphylactic', 'The risk of having another anaphylactic reaction decreases as a person avoids the trigger for longer and longer.')\n",
      "5. ('seizures', 'This can cause seizures.')\n",
      "6. ('angioedema', 'It is possible to have angioedema without hives.')\n",
      "7. ('Epistaxis', 'REDIRECT Epistaxis')\n",
      "8. ('anosmia', 'In some cases, accupuncture was successfully used to treat anosmia.')\n",
      "9. ('antihistamines', 'Doctors often give antihistamines (which destroy histamine) and steroids along with epinephrine.')\n",
      "10. ('Anterograde', 'Being drunk can cause Anterograde amnesia.')\n",
      "11. ('anaemia', 'People affected may develop anaemia due to loss of blood.')\n",
      "12. ('allergic', 'Anaphylaxis is a serious allergic reaction.')\n"
     ]
    },
    {
     "name": "stderr",
     "output_type": "stream",
     "text": [
      "\n",
      "\n",
      " 69%|██████▉   | 20/29 [02:13<01:05,  7.25s/it]\u001b[AINFO:root:Use pytorch device: cuda\n",
      "\n",
      "\n",
      "Batches: 100%|██████████| 1/1 [00:00<00:00, 56.45it/s]"
     ]
    },
    {
     "name": "stdout",
     "output_type": "stream",
     "text": [
      " \n",
      "query_sent:  People prone to anaphylaxis are advised to have an \"allergy action plan.\"\n",
      "query_word:  anaphylaxis\n",
      "Top substitutions:\n",
      "1. ('anaphylactic', 'The risk of having another anaphylactic reaction decreases as a person avoids the trigger for longer and longer.')\n",
      "2. ('amyloidosis', 'Michael York who has amyloidosis, speaks from 4:00-60:00')\n",
      "3. ('anorexia', 'Another symptom of autism spectrum disorder is OCD, which has also been linked to anorexia.')\n",
      "4. ('narcolepsy', 'Cataplexy often affects people who have narcolepsy.')\n",
      "5. ('anaphylatoxins', 'It is caused by the release (degranulation) of substances from mast cells or basophils because of anaphylatoxins.')\n",
      "6. ('angioedema', 'It is possible to have angioedema without hives.')\n",
      "7. ('Epistaxis', 'REDIRECT Epistaxis')\n",
      "8. ('cataplexy', 'People who have cataplexy will sometimes see that some of their muscles suddenly fail them.')\n",
      "9. ('allergic', 'Anaphylaxis is a serious allergic reaction.')\n",
      "10. ('anosmia', 'In general, anosmia which has its cause in the brain cannot be treated.')\n",
      "11. ('phobias', 'People with phobias realize that their anxiety is much more severe than normal fear would be.')\n",
      "12. ('agoraphobia', 'Other anxiety disorders include agoraphobia and panic disorder.')\n"
     ]
    },
    {
     "name": "stderr",
     "output_type": "stream",
     "text": [
      "\n",
      "\n",
      " 72%|███████▏  | 21/29 [02:18<00:54,  6.76s/it]\u001b[AINFO:root:Use pytorch device: cuda\n",
      "\n",
      "\n",
      "Batches: 100%|██████████| 1/1 [00:00<00:00, 82.30it/s]"
     ]
    },
    {
     "name": "stdout",
     "output_type": "stream",
     "text": [
      " \n",
      "query_sent:  The antitoxin could cause anaphylaxis.\n",
      "query_word:  anaphylaxis\n",
      "Top substitutions:\n",
      "1. ('anaphylactic', 'The risk of having another anaphylactic reaction decreases as a person avoids the trigger for longer and longer.')\n",
      "2. ('angioedema', 'It is possible to have angioedema without hives.')\n",
      "3. ('antihistamines', 'Doctors often give antihistamines (which destroy histamine) and steroids along with epinephrine.')\n",
      "4. ('anaphylatoxins', 'It is caused by the release (degranulation) of substances from mast cells or basophils because of anaphylatoxins.')\n",
      "5. ('peritonitis', 'This last complication may cause peritonitis.')\n",
      "6. ('anorexia', 'People do not have to show all four signs for the doctor to decide that they have anorexia.')\n",
      "7. ('seizures', 'This can cause seizures.')\n",
      "8. ('Epistaxis', 'REDIRECT Epistaxis')\n",
      "9. ('hyperkalemia', 'Many medications can cause hyperkalemia, and it is much more likely to occur in people kidney problems.')\n",
      "10. ('sepsis', 'This delivery system can cause sepsis and thrombosis.')\n",
      "11. ('Anxiety', 'REDIRECT Anxiety disorder')\n",
      "12. ('dizziness', 'This can cause dizziness and fainting.')\n"
     ]
    },
    {
     "name": "stderr",
     "output_type": "stream",
     "text": [
      "\n",
      "\n",
      " 76%|███████▌  | 22/29 [02:24<00:45,  6.54s/it]\u001b[AINFO:root:Use pytorch device: cuda\n",
      "\n",
      "\n",
      "Batches: 100%|██████████| 1/1 [00:00<00:00, 67.78it/s]"
     ]
    },
    {
     "name": "stdout",
     "output_type": "stream",
     "text": [
      " \n",
      "query_sent:  A food allergy explains the anaphylaxis.\n",
      "query_word:  anaphylaxis\n",
      "Top substitutions:\n",
      "1. ('anaphylactic', 'The risk of having another anaphylactic reaction decreases as a person avoids the trigger for longer and longer.')\n",
      "2. ('angioedema', 'It is possible to have angioedema without hives.')\n",
      "3. ('anorexia', 'There are various treatments for anorexia.')\n",
      "4. ('allergy', 'redirect allergy')\n",
      "5. ('anaphylatoxins', 'It is caused by the release (degranulation) of substances from mast cells or basophils because of anaphylatoxins.')\n",
      "6. ('ataxia', \"Acquired means that something happened during the person's life to cause the ataxia.\")\n",
      "7. ('narcolepsy', 'Some scientists think that narcolepsy is caused by a lack of hypocretin.')\n",
      "8. ('Epistaxis', 'REDIRECT Epistaxis')\n",
      "9. ('agranulocytosis', 'If the agranulocytosis is because of a lack of neutrophils (called neutropenia), it is especially bad.')\n",
      "10. ('migraine', 'Abdominal migraine usually affects children starting at about age 7, but it may affect younger children and older children, and it may also sometimes affect adults.')\n",
      "11. ('phobia', 'The phobia is also related to fears of nausea.')\n",
      "12. ('SIDS', 'Nobody knows what causes SIDS.')\n"
     ]
    },
    {
     "name": "stderr",
     "output_type": "stream",
     "text": [
      "\n",
      "\n",
      " 79%|███████▉  | 23/29 [02:29<00:35,  5.88s/it]\u001b[AINFO:root:Use pytorch device: cuda\n",
      "\n",
      "\n",
      "Batches: 100%|██████████| 1/1 [00:00<00:00, 86.39it/s]"
     ]
    },
    {
     "name": "stdout",
     "output_type": "stream",
     "text": [
      " \n",
      "query_sent:  They die of dysentery.\n",
      "query_word:  dysentery\n",
      "Top substitutions:\n",
      "1. ('encephalitis', 'It is not usually considered life-threatening but in 1976 a girl of 5 years was prescribed with steroids at Great Ormond Street Hospital to lessen her acute arthritic pain and died at home on 30th December after a swift attack of encephalitis.')\n",
      "2. ('diarrhea', 'Child deaths from diarrhea can be prevented in different ways.')\n",
      "3. ('cholera', 'Between 1900 and 1920, in India, up to eight million people died of cholera.')\n",
      "4. ('appendicitis', 'Most serious appendicitis happens to younger children and elder adults.')\n",
      "5. ('Diverticulitis', 'Diverticulitis is a disease of the digestive system.')\n",
      "6. ('endocarditis', 'In rare cases, Psittacosis can cause endocarditis - swelling of joints, and swelling of the cornea.')\n",
      "7. ('seizures', 'Many people have died from seizures.')\n",
      "8. ('trichomoniasis', 'These problems do not happen to everyone with trichomoniasis.')\n",
      "9. ('narcolepsy', 'It is estimated that between 25 and 50 people, per 100,000 suffer from narcolepsy.')\n",
      "10. ('epilepsy', 'People who suffer from epilepsy are not mentally ill.')\n",
      "11. ('rhabdomyolysis', 'Use of fibrates and statins at the same time makes rhabdomyolysis happen much more often.')\n",
      "12. ('rheumatic', 'Wolfgang Mozart, the famous composer famously died of rheumatic fever.')\n"
     ]
    },
    {
     "name": "stderr",
     "output_type": "stream",
     "text": [
      "\n",
      "\n",
      " 83%|████████▎ | 24/29 [02:36<00:31,  6.25s/it]\u001b[AINFO:root:Use pytorch device: cuda\n",
      "\n",
      "\n",
      "Batches: 100%|██████████| 1/1 [00:00<00:00, 97.47it/s]"
     ]
    },
    {
     "name": "stdout",
     "output_type": "stream",
     "text": [
      " \n",
      "query_sent:  Henry II moved in support of Richard, and Henry the Young King died from dysentery at the end of the campaign.\n",
      "query_word:  dysentery\n",
      "Top substitutions:\n",
      "1. ('seizures', 'Many people have died from seizures.')\n",
      "2. ('cholera', 'Between 1900 and 1920, in India, up to eight million people died of cholera.')\n",
      "3. ('rhabdomyolysis', 'Use of fibrates and statins at the same time makes rhabdomyolysis happen much more often.')\n",
      "4. ('narcolepsy', 'It is estimated that between 25 and 50 people, per 100,000 suffer from narcolepsy.')\n",
      "5. ('polydipsia', 'Because the person is urinating so much, they get dehydrated easily and get very thirsty (polydipsia).')\n",
      "6. ('pellagra', 'A person can die from pellagra if it is not treated.')\n",
      "7. ('rheumatic', 'Wolfgang Mozart, the famous composer famously died of rheumatic fever.')\n",
      "8. ('endocarditis', 'In rare cases, Psittacosis can cause endocarditis - swelling of joints, and swelling of the cornea.')\n",
      "9. ('diarrhea', 'Child deaths from diarrhea can be prevented in different ways.')\n",
      "10. ('ketosis', 'Nevertheless, there are no studies directly monitoring the side effects of ketosis yet, hence it’s too early to conclude that the diet is completely safe for everyone.')\n",
      "11. ('cystic', '65 roses \" is how some children refer to their condition since cystic fibrosis is difficult for a young child to say.')\n",
      "12. ('trichomoniasis', 'Every year, about 248 million more people get trichomoniasis.')\n"
     ]
    },
    {
     "name": "stderr",
     "output_type": "stream",
     "text": [
      "\n",
      "\n",
      " 86%|████████▌ | 25/29 [02:43<00:26,  6.66s/it]\u001b[AINFO:root:Use pytorch device: cuda\n",
      "\n",
      "\n",
      "Batches: 100%|██████████| 1/1 [00:00<00:00, 96.30it/s]"
     ]
    },
    {
     "name": "stdout",
     "output_type": "stream",
     "text": [
      " \n",
      "query_sent:  Once at Richmond, Madison began drafting the Report, though he was delayed by a weeklong battle with dysentery.\n",
      "query_word:  dysentery\n",
      "Top substitutions:\n",
      "1. ('encephalitis', 'In 2013, encephalitis killed about 77,000 people in the world.')\n",
      "2. ('syphilis', 'However, syphilis is still very dangerous.')\n",
      "3. ('Chlamydia', 'REDIRECT Chlamydia infection')\n",
      "4. ('rhabdomyolysis', 'Rhabdomyosarcoma should not be confused with rhabdomyolysis, which is often called \" rhabdo \" for short.')\n",
      "5. ('trichomoniasis', 'These problems do not happen to everyone with trichomoniasis.')\n",
      "6. ('polydipsia', 'Because the person is urinating so much, they get dehydrated easily and get very thirsty (polydipsia).')\n",
      "7. ('Neurosyphilis', 'Neurosyphilis can also appear later, usually four to 25 years after a person first got syphilis.')\n",
      "8. ('dysthymia', 'However, even though both disorders have similar symptoms, these symptoms are usually less severe with dysthymia.')\n",
      "9. ('Encephalopathy', 'Encephalopathy means problem of the brain.')\n",
      "10. ('narcolepsy', 'People with narcolepsy tend to suddenly fall asleep.')\n",
      "11. ('defecation', 'If the tips that are mentioned above do not help enough and the fissure continues to crack open, the cause could be the use of toilet paper after defecation.')\n",
      "12. ('dyskinesia', 'But some people get tardive dyskinesia after taking these medicines for only 6 weeks.')\n"
     ]
    },
    {
     "name": "stderr",
     "output_type": "stream",
     "text": [
      "\n",
      "\n",
      " 90%|████████▉ | 26/29 [02:51<00:20,  6.81s/it]\u001b[AINFO:root:Use pytorch device: cuda\n",
      "\n",
      "\n",
      "Batches: 100%|██████████| 1/1 [00:00<00:00, 95.46it/s]"
     ]
    },
    {
     "name": "stdout",
     "output_type": "stream",
     "text": [
      " \n",
      "query_sent:  Psoriasis varies in severity from small, localized patches to complete body coverage.\n",
      "query_word:  Psoriasis\n",
      "Top substitutions:\n",
      "1. ('Melanoma', 'Melanoma is prominent in New Zealand and Australia due to the hole in the ozone layer and the many beaches.')\n",
      "2. ('Psychosis', 'Psychosis is not a disease but rather a name for a number of symptoms, that can be caused by different diseases and conditions.')\n",
      "3. ('Leprosy', 'Leprosy is an Contagious disease.')\n",
      "4. ('Syphilis', 'Syphilis that is not complicated can usually be treated and cured by antibiotic medications.')\n",
      "5. ('Schizophrenia', 'Schizophrenia usually appears earlier in men.')\n",
      "6. ('Narcolepsy', 'Narcolepsy affects the way the nerves work.')\n",
      "7. ('Impetigo', 'Impetigo is a very contagious bacterial skin infection.')\n",
      "8. ('Neurosyphilis', 'Neurosyphilis can also appear later, usually four to 25 years after a person first got syphilis.')\n",
      "9. ('Nocardiosis', 'Nocardiosis is a disease caused by the bacterium Nocardia Asteroides.')\n",
      "10. ('Leishmaniasis', 'Leishmaniasis can be partly prevented by sleeping under nets treated with insecticide.')\n",
      "11. ('Catatonia', 'Catatonia can also be caused by many different medical disorders.')\n",
      "12. ('Pyromania', 'Pyromania is an impulse control disorder involving and obsession with fire and explosives.')\n"
     ]
    },
    {
     "name": "stderr",
     "output_type": "stream",
     "text": [
      "\n",
      "\n",
      " 93%|█████████▎| 27/29 [02:58<00:13,  6.90s/it]\u001b[AINFO:root:Use pytorch device: cuda\n",
      "\n",
      "\n",
      "Batches: 100%|██████████| 1/1 [00:00<00:00, 95.74it/s]"
     ]
    },
    {
     "name": "stdout",
     "output_type": "stream",
     "text": [
      " \n",
      "query_sent:  Psoriasis is generally thought to be a genetic disease that is triggered by environmental factors.\n",
      "query_word:  Psoriasis\n",
      "Top substitutions:\n",
      "1. ('Psychosis', 'Psychosis is not a disease but rather a name for a number of symptoms, that can be caused by different diseases and conditions.')\n",
      "2. ('Melanoma', 'Melanoma is prominent in New Zealand and Australia due to the hole in the ozone layer and the many beaches.')\n",
      "3. ('Syphilis', 'Syphilis that is not complicated can usually be treated and cured by antibiotic medications.')\n",
      "4. ('Schizophrenia', 'Schizophrenia usually appears earlier in men.')\n",
      "5. ('Leprosy', 'Leprosy is an Contagious disease.')\n",
      "6. ('Nocardiosis', 'Nocardiosis is a disease caused by the bacterium Nocardia Asteroides.')\n",
      "7. ('Psychopathy', 'Psychopathy is a personality disorder or antisocial personality disorder.')\n",
      "8. ('Neurosyphilis', 'Neurosyphilis can also appear later, usually four to 25 years after a person first got syphilis.')\n",
      "9. ('Narcolepsy', 'Narcolepsy is a sleep disorder.')\n",
      "10. ('Ataxia', 'Ataxia is not a diagnosis.')\n",
      "11. ('Impetigo', 'Impetigo is a very contagious bacterial skin infection.')\n",
      "12. ('Psittacosis', 'Psittacosis is a bacterial disease that can be caught from birds such as parrots, pigeons, and parakeets.')\n"
     ]
    },
    {
     "name": "stderr",
     "output_type": "stream",
     "text": [
      "\n",
      "\n",
      " 97%|█████████▋| 28/29 [03:05<00:07,  7.08s/it]\u001b[AINFO:root:Use pytorch device: cuda\n",
      "\n",
      "\n",
      "Batches: 100%|██████████| 1/1 [00:00<00:00, 100.30it/s]"
     ]
    },
    {
     "name": "stdout",
     "output_type": "stream",
     "text": [
      " \n",
      "query_sent:  There are five main types of psoriasis: plaque, guttate, inverse, pustular, and erythrodermic.\n",
      "query_word:  psoriasis\n",
      "Top substitutions:\n",
      "1. ('leprosy', 'The symptoms of leprosy are irregular spots and patches on the skin.')\n",
      "2. ('sarcoidosis', 'In some cases, pulmonary fibrosis is a complication of sarcoidosis.')\n",
      "3. ('acne', 'There are lots of acne treatment methods available, including natural treatments.')\n",
      "4. ('cellulite', 'The appearance of cellulite has been linked to hormonal changes, changes in diet, stress, and poor blood circulation.')\n",
      "5. ('psoriatic', 'Other kinds of arthritis include psoriatic arthritis and septic arthritis (when an area is invaded by bacteria).')\n",
      "6. ('Melanoma', 'Melanoma is prominent in New Zealand and Australia due to the hole in the ozone layer and the many beaches.')\n",
      "7. ('rosacea', 'There are four types of rosacea, three involving human skin and the fourth affecting eyes.')\n",
      "8. ('angioedema', 'In most cases, the cause of angioedema is never found.')\n",
      "9. ('osteoporosis', 'There are three kinds of osteoporosis.')\n",
      "10. ('amyloidosis', 'There are many different types of amyloidosis, each caused by formation of amyloid fibrils from different soluble precursor proteins in different patients.')\n",
      "11. ('leishmaniasis', 'The differences in the type of tissue affected are responsible for the different visible types of leishmaniasis.')\n",
      "12. ('eczema', 'It most often refers to eczema.')\n"
     ]
    },
    {
     "name": "stderr",
     "output_type": "stream",
     "text": [
      "\n",
      "\n",
      "100%|██████████| 29/29 [03:12<00:00,  6.63s/it]\u001b[A"
     ]
    },
    {
     "name": "stdout",
     "output_type": "stream",
     "text": [
      " \n",
      "query_sent:  If one twin has psoriasis, the other twin is three times more likely to be affected if the twins are identical than if they are non-identical.\n",
      "query_word:  psoriasis\n",
      "Top substitutions:\n",
      "1. ('schizophrenia', 'Prevention is difficult because there is no reliable way to find out in advance who will get schizophrenia.')\n",
      "2. ('angioedema', 'It is possible to have angioedema without hives.')\n",
      "3. ('psychosis', 'Also, if a person has psychosis that lasts longer than their mania, they may have schizoaffective disorder.')\n",
      "4. ('xeroderma', 'People with xeroderma pigmentosum are about 1,000 times more likely to get skin cancer.')\n",
      "5. ('acne', 'More females are getting acne than males (9.8% versus 9.0%).')\n",
      "6. ('rosacea', 'Most people with rosacea have only mild redness and are never officially diagnosed or treated.')\n",
      "7. ('bipolar', 'If one identical twin has bipolar disorder, there is a 40 to 70 percent chance that the other will develop bipolar disorder in their lifetime.')\n",
      "8. ('psoriatic', 'Other kinds of arthritis include psoriatic arthritis and septic arthritis (when an area is invaded by bacteria).')\n",
      "9. ('anorexia', 'Doctors use the Diagnostic and Statistical Manual of Mental Disorders to make a medical diagnosis and decide if a person has anorexia or not.')\n",
      "10. ('bulimia', 'Most people who have bulimia are between the ages of 10 to 25.')\n",
      "11. ('phobia', 'Anxiety conditions include phobia, social anxiety disorder and generalized anxiety disorder.')\n",
      "12. ('trichomoniasis', 'Every year, about 248 million more people get trichomoniasis.')\n"
     ]
    },
    {
     "name": "stderr",
     "output_type": "stream",
     "text": [
      "\n"
     ]
    }
   ],
   "source": [
    "for query_sent, query_word in tqdm(sentences):\n",
    "    output_sr_ss(query_sent, query_word, k=50)"
   ]
  },
  {
   "cell_type": "code",
   "execution_count": 15,
   "metadata": {},
   "outputs": [
    {
     "name": "stderr",
     "output_type": "stream",
     "text": [
      "  0%|          | 0/5 [00:00<?, ?it/s]INFO:root:Use pytorch device: cuda\n",
      "\n",
      "Batches: 100%|██████████| 1/1 [00:00<00:00, 11.87it/s]\n",
      " 20%|██        | 1/5 [00:04<00:16,  4.13s/it]INFO:root:Use pytorch device: cuda\n",
      "\n",
      "Batches: 100%|██████████| 1/1 [00:00<00:00, 104.21it/s]"
     ]
    },
    {
     "name": "stdout",
     "output_type": "stream",
     "text": [
      " \n",
      "query_sent:  High doses may lead to muscles contractions.\n",
      "query_word:  contractions\n",
      "Top substitutions:\n",
      "1. ('spasms', 'The twitching is caused by the spasms.')\n",
      "2. ('paralysis', 'Studies suggest that many people get sleep paralysis at least once in their lives.')\n",
      "3. ('pain', 'This can cause weakness and muscle pain.')\n",
      "4. ('movements', 'This medicine helps slow some of the restless movements of chorea.')\n",
      "5. ('seizures', 'Coma, many seizures, or long delirium   If no treatment is given, death often occurs.')\n",
      "6. ('twitches', 'Hypnic jerks are one form of involuntary muscle twitches called myoclonus.')\n",
      "7. ('twitching', 'The twitching is caused by the spasms.')\n",
      "8. ('muscle', 'The condition leads to general muscle stiffness and spasms in other parts of the body.')\n",
      "9. ('weakness', 'This results in muscular weakness. \"')\n",
      "10. ('jerks', 'Benzodiazepines can make muscle jerks happen less often.')\n",
      "11. ('work', 'Stress can also make the cremasteric reflex work.')\n",
      "12. ('cells', 'Statins can cause damage to muscle cells.')\n"
     ]
    },
    {
     "name": "stderr",
     "output_type": "stream",
     "text": [
      "\n",
      " 40%|████      | 2/5 [00:08<00:12,  4.31s/it]INFO:root:Use pytorch device: cuda\n",
      "\n",
      "Batches: 100%|██████████| 1/1 [00:00<00:00, 104.02it/s]"
     ]
    },
    {
     "name": "stdout",
     "output_type": "stream",
     "text": [
      " \n",
      "query_sent:  High doses may lead to convulsions.\n",
      "query_word:  convulsions\n",
      "Top substitutions:\n",
      "1. ('seizures', 'This can cause seizures.')\n",
      "2. ('encephalitis', 'In 2013, encephalitis killed about 77,000 people in the world.')\n",
      "3. ('hallucinations', 'Certain drugs can cause hallucinations.')\n",
      "4. ('myoclonus', 'Hypnic jerks are one form of involuntary muscle twitches called myoclonus.')\n",
      "5. ('vertigo', 'BPVC causes vertigo.')\n",
      "6. ('dyskinesia', 'But some other people can get tardive dyskinesia too.')\n",
      "7. ('neurological', 'Some forms of chorea are not linked to neurological conditions, though.')\n",
      "8. ('anticonvulsant', 'For example, patients who have seizures may be given anticonvulsant medications.')\n",
      "9. ('anticonvulsants', 'Other medicines that can help with psychiatric symptoms and movements are benzodiazepines and anticonvulsants usually taken for seizures.')\n",
      "10. ('cerebellar', 'For example, if a person has a brain tumor in their cerebellum, they may get cerebellar ataxia.')\n",
      "11. ('migraine', 'Other doctors believe BPVC is related to migraine headaches, but most children with BPVC do not get headaches.')\n",
      "12. ('palsy', 'There are several types of cerebral palsy.')\n"
     ]
    },
    {
     "name": "stderr",
     "output_type": "stream",
     "text": [
      "\n",
      " 60%|██████    | 3/5 [00:14<00:09,  4.71s/it]INFO:root:Use pytorch device: cuda\n",
      "\n",
      "Batches: 100%|██████████| 1/1 [00:00<00:00, 39.04it/s]"
     ]
    },
    {
     "name": "stdout",
     "output_type": "stream",
     "text": [
      " \n",
      "query_sent:  To reduce the encephalocele cyst.\n",
      "query_word:  encephalocele\n",
      "Top substitutions:\n",
      "1. ('encephalitis', 'This is called \" secondary encephalitis. \"')\n",
      "2. ('encephalopathy', 'Transmissible spongiform encephalopathy')\n",
      "3. ('encephalomyelitis', 'Neurological disorders: These are problems with the brain and the nerves, like Guillain–Barré syndrome and Post-dengue acute disseminated encephalomyelitis.')\n",
      "4. ('cerebellum', 'Spinal cord injuries   Problems that damage parts of the cerebellum.')\n",
      "5. ('ciliopathy', 'It is a ciliopathy.')\n",
      "6. ('meningoencephalitis', 'For example:   Meningovascular syphilis, which causes seizures   General Paresis: In this brain disease, syphilis causes chronic meningoencephalitis - an infection of both the meninges and the brain which does not go away.')\n",
      "7. ('ciliopathies', 'The underlying cause of the ciliopathies may be defects in the mechanism of cilia in the cell.')\n",
      "8. ('prosencephalon', 'Cyclopia is characterized by a failure of the prosencephalon to separate the two orbits (eyes).')\n",
      "9. ('neurosarcoidosis', 'If it does, it is called neurosarcoidosis.')\n",
      "10. ('cephalic', 'It is a type of cephalic disorder.')\n",
      "11. ('cranium', 'Also, mountain climbers at high altitude have been known to experience cerebral oedema primarily due to reduced air pressure acting on the cranium.')\n",
      "12. ('agranulocytosis', 'If the agranulocytosis is because of a lack of neutrophils (called neutropenia), it is especially bad.')\n"
     ]
    },
    {
     "name": "stderr",
     "output_type": "stream",
     "text": [
      "\n",
      " 80%|████████  | 4/5 [00:22<00:05,  5.73s/it]INFO:root:Use pytorch device: cuda\n",
      "\n",
      "Batches: 100%|██████████| 1/1 [00:00<00:00, 100.57it/s]"
     ]
    },
    {
     "name": "stdout",
     "output_type": "stream",
     "text": [
      " \n",
      "query_sent:  Epistaxis in children is usually from Little's area, which is on the septal wall anteriorly.\n",
      "query_word:  Epistaxis\n",
      "Top substitutions:\n",
      "1. ('anaphylaxis', 'Epinephrine is the best treatment for anaphylaxis.')\n",
      "2. ('Erythema', 'Erythema ab igne is a rash of the skin, which is usually caused by the long-term exposure to heat or infrared radiation, and which is not a burn.')\n",
      "3. ('Epidemic', 'Epidemic typhus')\n",
      "4. ('Anosmia', 'Anosmia is losing the the sense of smell.')\n",
      "5. ('Prognathism', 'Prognathism: part of the face sticks out more than normal usually the lower jaw.')\n",
      "6. ('Episodic', 'Episodic migraine (EM) is when a person has migraine symptoms for 14 days or less in one month, while chronic migraine (CM) is when a person has migraine symptoms for 15 or more days in one month.')\n",
      "7. ('Narcolepsy', 'Narcolepsy affects the way the nerves work.')\n",
      "8. ('Angioedema', 'Angioedema may be caused by an allergic reaction.')\n",
      "9. ('Agoraphobia', 'Agoraphobia is a medical condition that causes anxiety.')\n",
      "10. ('Catalepsy', 'Catalepsy is a nervous condition.')\n",
      "11. ('Epiglottitis', 'Epiglottitis usually happens in children.')\n",
      "12. ('Neurosyphilis', 'Neurosyphilis can also appear later, usually four to 25 years after a person first got syphilis.')\n"
     ]
    },
    {
     "name": "stderr",
     "output_type": "stream",
     "text": [
      "\n",
      "100%|██████████| 5/5 [00:29<00:00,  5.96s/it]"
     ]
    },
    {
     "name": "stdout",
     "output_type": "stream",
     "text": [
      " \n",
      "query_sent:  Once epistaxis occurs, the importance of the first treatment for the haemostasis should be emphasized.\n",
      "query_word:  epistaxis\n",
      "Top substitutions:\n",
      "1. ('anaphylaxis', 'Epinephrine is the best and first treatment used for anaphylaxis.')\n",
      "2. ('angioedema', 'It is possible to have angioedema without hives.')\n",
      "3. ('episodic', 'Some people who start off getting episodic migraines may start to get chronic migraines later.')\n",
      "4. ('phobias', 'Causes and risk factors phobias is very.')\n",
      "5. ('ectoparasite', 'The mite is an ectoparasite.')\n",
      "6. ('anosmia', 'In some cases, accupuncture was successfully used to treat anosmia.')\n",
      "7. ('trichomoniasis', 'Treatment for trichomoniasis is usually metronidazole (Flagyl), which kills protozoa like Trichomonas vaginalis.')\n",
      "8. ('Psittacosis', 'In rare cases, Psittacosis can cause endocarditis - swelling of joints, and swelling of the cornea.')\n",
      "9. ('anaphylactic', 'They usually have fewer anaphylactic episodes, which are less severe, as they get older.')\n",
      "10. ('prosopagnosia', 'Doctors can check patients for prosopagnosia by using PET and fMRI scans to see if their brain reacts when they see faces.')\n",
      "11. ('cataplexy', 'There is also a less common form without cataplexy.')\n"
     ]
    },
    {
     "name": "stderr",
     "output_type": "stream",
     "text": [
      "\n"
     ]
    }
   ],
   "source": [
    "for query_sent, query_word in tqdm(sentences):\n",
    "    output_sr_ss(query_sent, query_word, k=50)"
   ]
  },
  {
   "cell_type": "code",
   "execution_count": 19,
   "metadata": {},
   "outputs": [
    {
     "name": "stderr",
     "output_type": "stream",
     "text": [
      "INFO:root:Use pytorch device: cuda\n",
      "Batches: 100%|██████████| 1/1 [00:00<00:00, 97.54it/s]\n"
     ]
    },
    {
     "name": "stdout",
     "output_type": "stream",
     "text": [
      " \n",
      "query_sent:  He was diagnosed with cardiomyopathy in 2005 and had a pacemaker implanted.\n",
      "query_word:  cardiomyopathy\n",
      "Top substitutions:\n",
      "1. ('arrhythmia', 'Heart   Heart disease   Cardiac arrhythmia')\n",
      "2. ('ventricular', 'This is called idiopathic ventricular tachycardia.')\n",
      "3. ('Myocarditis', 'Myocarditis, also known as inflammatory cardiomyopathy, is inflammation and infection of the heart muscle.')\n",
      "4. ('tachycardia', 'Some people with ventricular tachycardia do not have any symptoms, especially if the V-tach lasts for only a few seconds.')\n",
      "5. ('cardiogenic', 'It can also be caused by cardiogenic shock, where the heart is not getting enough blood to pump out to the rest of the body.')\n",
      "6. ('dystrophy', 'There is no cure for myotonic dystrophy.')\n",
      "7. ('myocardial', 'redirect myocardial infarction')\n",
      "8. ('rhabdomyosarcoma', 'For example, adults with rhabdomyosarcoma usually have tumors that grow faster and are harder to treat.')\n",
      "9. ('leukemia', 'Chronic leukemia grows slowly.')\n",
      "10. ('bradycardia', 'Also, if bradycardia gets very bad, the heart will be unable to pump enough blood and oxygen to the body.')\n",
      "11. ('Endocarditis', 'Endocarditis most often affects the heart valves.')\n",
      "12. ('thyroid', '2000: 28-year-old Colombian-American actress and model Sofía Vergara was diagnosed with thyroid cancer.')\n"
     ]
    }
   ],
   "source": [
    "query_sent = \"He was diagnosed with cardiomyopathy in 2005 and had a pacemaker implanted.\"\n",
    "query_word = \"cardiomyopathy\"\n",
    "output_sr_ss(query_sent, query_word, k=50)"
   ]
  },
  {
   "cell_type": "markdown",
   "metadata": {},
   "source": [
    "## Original BERT"
   ]
  },
  {
   "cell_type": "markdown",
   "metadata": {},
   "source": [
    "### Ranking > selection"
   ]
  },
  {
   "cell_type": "code",
   "execution_count": 12,
   "metadata": {},
   "outputs": [],
   "source": [
    "# Load data (deserialize)\n",
    "with open('./simplewiki_KDTree_bertcased256.pickle', 'rb') as handle:\n",
    "    tree_copy = pickle.load(handle)"
   ]
  },
  {
   "cell_type": "code",
   "execution_count": 13,
   "metadata": {
    "scrolled": true
   },
   "outputs": [
    {
     "name": "stderr",
     "output_type": "stream",
     "text": [
      "  1%|          | 1/87 [00:07<11:16,  7.87s/it]"
     ]
    },
    {
     "name": "stdout",
     "output_type": "stream",
     "text": [
      " \n",
      "query_sent:  The antibiotic we gave you in case you had meningitis can turn your tears reddish.\n",
      "query_word:  meningitis\n",
      "Top substitutions:\n",
      "1. ('pharyngitis', 'Most of the time, it is caused by viral pharyngitis.')\n",
      "2. ('meningococcal', 'Dengue can also have some of the same symptoms as other diseases, like malaria, leptospirosis, typhoid fever, and meningococcal disease.')\n",
      "3. ('meningoencephalitis', 'A stiff neck is a sign that the person has either meningitis (inflammation of the meninges, which cover the brain) or meningoencephalitis (swelling of both the meninges and the brain).')\n",
      "4. ('appendicitis', 'Therefore immediate treatment in hospital is needed for appendicitis.')\n",
      "5. ('bronchitis', 'The medicine used to treat bronchitis may not be the same as those used to treat bronchiolitis.')\n",
      "6. ('diphtheria', 'Infected people who do not know they have diphtheria are called carriers of diphtheria, because they can spread the infection without being sick themselves.')\n",
      "7. ('meningioma', 'astrocytoma   glioblastoma multiforme   oliogodendroglioma   ependymoma   primary CNS lymphoma   meningioma   The treatment varies based on the type of tumor.')\n",
      "8. ('pancreatitis', 'Causes include perforation of the intestinal tract, pancreatitis, pelvic inflammatory disease, stomach ulcer, cirrhosis, or a ruptured appendix.')\n",
      "9. ('bronchiectasis', 'Some people with bronchiectasis have sinusitis that does not go away.')\n",
      "10. ('bronchiolitis', 'The medicine used to treat bronchitis may not be the same as those used to treat bronchiolitis.')\n",
      "11. ('conjunctivitis', 'In rare cases, people may get conjunctivitis or other problems with their eyes.')\n",
      "12. ('meningiomas', 'For meningiomas, surgical removal of the tumor alone is often sufficient.')\n"
     ]
    },
    {
     "name": "stderr",
     "output_type": "stream",
     "text": [
      "\r",
      "  2%|▏         | 2/87 [00:16<11:33,  8.15s/it]"
     ]
    },
    {
     "name": "stdout",
     "output_type": "stream",
     "text": [
      " \n",
      "query_sent:  They swap spit, virus travels to his brain, leads to meningitis, leads to increased intracranial pressure.\n",
      "query_word:  meningitis\n",
      "Top substitutions:\n",
      "1. ('conjunctivitis', 'People who do have symptoms usually have a low fever, conjunctivitis, joint pain (mainly in the hands and feet), and a rash.')\n",
      "2. ('bronchitis', 'They can be bronchitis or pneumonia.')\n",
      "3. ('pharyngitis', 'Secondary bacterial infections may occur resulting in sinusitis, pharyngitis, or an ear infection.')\n",
      "4. ('sinusitis', 'Brain tumor   Lyme disease   Influenza   Brain metastasis   Foodborne Intoxication   Sinusitis   Meningitis   Encephalitis   In many cases headaches can be relieved naturally.')\n",
      "5. ('meningococcal', 'Dengue can also have some of the same symptoms as other diseases, like malaria, leptospirosis, typhoid fever, and meningococcal disease.')\n",
      "6. ('hypoglycemia', 'Causes of pallor may include migraines, headache, hypoglycemia, anemia or scarlet fever.')\n",
      "7. ('pancreatitis', 'Causes include perforation of the intestinal tract, pancreatitis, pelvic inflammatory disease, stomach ulcer, cirrhosis, or a ruptured appendix.')\n",
      "8. ('tracheitis', 'Croup also can be laryngeal diphtheria, bacterial tracheitis, laryngotracheobronchitis, and laryngotracheobronchopneumonitis.')\n",
      "9. ('lymphangitis', 'Lymphangitis is sometimes considered a type of vasculitis.')\n",
      "10. ('peritonitis', 'If the appendix ruptures (splits) the result is painful peritonitis, and sepsis.')\n",
      "11. ('bronchiolitis', 'The medicine used to treat bronchitis may not be the same as those used to treat bronchiolitis.')\n",
      "12. ('appendicitis', 'Therefore immediate treatment in hospital is needed for appendicitis.')\n"
     ]
    },
    {
     "name": "stderr",
     "output_type": "stream",
     "text": [
      "\r",
      "  3%|▎         | 3/87 [00:23<10:55,  7.81s/it]"
     ]
    },
    {
     "name": "stdout",
     "output_type": "stream",
     "text": [
      " \n",
      "query_sent:  The leaves and bark are used for controlling blood pressure and gingivitis.\n",
      "query_word:  gingivitis\n",
      "Top substitutions:\n",
      "1. ('endocarditis', 'Other CVDs are stroke, hypertensive heart disease, rheumatic heart disease, cardiomyopathy, atrial fibrillation, congenital heart disease, endocarditis, aortic aneurysms, and peripheral artery disease.')\n",
      "2. ('glomerulonephritis', 'Chronic renal failure can be a sign of other diseases, like IgA nephritis, glomerulonephritis, chronic pyelonephritis, and urinary retention.')\n",
      "3. ('conjunctivitis', 'People who do have symptoms usually have a low fever, conjunctivitis, joint pain (mainly in the hands and feet), and a rash.')\n",
      "4. ('cirrhosis', 'Causes include perforation of the intestinal tract, pancreatitis, pelvic inflammatory disease, stomach ulcer, cirrhosis, or a ruptured appendix.')\n",
      "5. ('pancreatitis', 'Causes include perforation of the intestinal tract, pancreatitis, pelvic inflammatory disease, stomach ulcer, cirrhosis, or a ruptured appendix.')\n",
      "6. ('sinusitis', 'Brain tumor   Lyme disease   Influenza   Brain metastasis   Foodborne Intoxication   Sinusitis   Meningitis   Encephalitis   In many cases headaches can be relieved naturally.')\n",
      "7. ('hypoglycemia', 'Causes of pallor may include migraines, headache, hypoglycemia, anemia or scarlet fever.')\n",
      "8. ('rhinitis', 'Atopic diseases include asthma, eczema, and allergic rhinitis.')\n",
      "9. ('appendicitis', 'It can be caused by different things, including food poisoning, indigestion, constipation, gastritis, an ulcer, hunger, appendicitis, stomach cancer or diverticulitis.')\n",
      "10. ('vasculitis', 'Lymphangitis is sometimes considered a type of vasculitis.')\n",
      "11. ('diverticulitis', 'The resection of the colon is the procedure most often used to treat severe diverticulitis.')\n",
      "12. ('fibromyalgia', 'Other illnesses that often happen with BPD include diabetes, high blood pressure, chronic back pain, arthritis, and fibromyalgia.')\n"
     ]
    },
    {
     "name": "stderr",
     "output_type": "stream",
     "text": [
      "\r",
      "  5%|▍         | 4/87 [00:30<10:24,  7.53s/it]"
     ]
    },
    {
     "name": "stdout",
     "output_type": "stream",
     "text": [
      " \n",
      "query_sent:  Unable to function, the muscles weaken and exhibit atrophy.\n",
      "query_word:  atrophy\n",
      "Top substitutions:\n",
      "1. ('dystrophy', 'There is no cure for muscular dystrophy.')\n",
      "2. ('osteoporosis', 'Osteoporosis is the weakening of bones in the body.')\n",
      "3. ('hypertrophy', 'The exercise downregulates the pathways which induce muscle hypertrophy, or an increase in muscle size.')\n",
      "4. ('myopathy', 'Muscle cramps, stiffness, and spasm can also be associated with myopathy.')\n",
      "5. ('osteoarthritis', 'Osteoarthritis is when the cartilage in between two bones breaks down.')\n",
      "6. ('ischemia', 'Other symptoms may result from decreased blood supply to other organs such as stroke or mesenteric ischemia.')\n",
      "7. ('hemorrhagic', 'Most commonly this is a stroke or mini-stroke and sometimes can be a hemorrhagic stroke.')\n",
      "8. ('atherosclerosis', 'Some people develop atherosclerosis faster than others.')\n",
      "9. ('endocarditis', 'In rare cases, Psittacosis can cause endocarditis - swelling of joints, and swelling of the cornea.')\n",
      "10. ('diphtheria', 'A second type of diphtheria can affect the skin.')\n",
      "11. ('leukodystrophy', 'In a leukodystrophy, there are problems with the growth or the development of this cover.')\n",
      "12. ('hemorrhages', 'These types of strokes include lacunar and other ischemic strokes and minor hemorrhages.')\n"
     ]
    },
    {
     "name": "stderr",
     "output_type": "stream",
     "text": [
      "\r",
      "  6%|▌         | 5/87 [00:39<10:40,  7.81s/it]"
     ]
    },
    {
     "name": "stdout",
     "output_type": "stream",
     "text": [
      " \n",
      "query_sent:  If you don't exercise it, it'll atrophy, just like anything else.\n",
      "query_word:  atrophy\n",
      "Top substitutions:\n",
      "1. ('dystrophy', 'There is no cure for muscular dystrophy.')\n",
      "2. ('rupture', 'The abcess can rupture filling the abdomen with the infection.')\n",
      "3. ('osteoarthritis', 'Osteoarthritis is when the cartilage in between two bones breaks down.')\n",
      "4. ('hypermetabolism', 'The condition usually results from infection, injury (accident, surgery), hypoperfusion and hypermetabolism.')\n",
      "5. ('osteoporosis', 'Elderly people are more likely to develop osteoporosis than younger people.')\n",
      "6. ('atherosclerosis', 'Some people develop atherosclerosis faster than others.')\n",
      "7. ('metastasize', 'Can it Metastasize (Spread)?')\n",
      "8. ('intensify', 'Often, however, scratching can intensify itching and even cause further damage to the skin, dubbed the \" itch-scratch-itch cycle \" .')\n",
      "9. ('diphtheria', 'A second type of diphtheria can affect the skin.')\n",
      "10. ('hypertrophy', 'The exercise downregulates the pathways which induce muscle hypertrophy, or an increase in muscle size.')\n",
      "11. ('inflamed', 'We only speak of hemorrhoids (or piles) when they become swollen or inflamed.')\n",
      "12. ('constrict', 'This causes the whole blood vessel to constrict which means makes the blood vessel narrower.')\n"
     ]
    },
    {
     "name": "stderr",
     "output_type": "stream",
     "text": [
      "\r",
      "  7%|▋         | 6/87 [00:44<09:43,  7.20s/it]"
     ]
    },
    {
     "name": "stdout",
     "output_type": "stream",
     "text": [
      " \n",
      "query_sent:  Infection stresses his already weakened system, makes his SMA worse.\n",
      "query_word:  SMA\n",
      "Top substitutions:\n",
      "1. ('cjd', 'The type of changes that show on the EEG will depend on the type of CJD the patient has, and how far along their disease is.')\n",
      "2. ('bmi', ';Signs of anorexia   #People with anorexia do not want to keep a body weight and BMI that is normal for their age and height.')\n",
      "3. ('bpd', 'Treating BPD is very difficult and takes a long time.')\n",
      "4. ('pcos', 'PCOS is a complex and heterogeneous problem of uncertain etiology, although there is major evidence that the PCOS can be classified as a genetic health problem.')\n",
      "5. ('smx', 'A three-day treatment with trimethoprim, TMP/SMX, or a fluoroquinolone is usually enough.')\n",
      "6. ('avm', 'The most problems related to an AVM, are headaches and seizures, cranial nerve deficits , backaches, neckaches and eventual nausea.')\n",
      "7. ('pah', 'Unfortunately, calcium channel blockers have been largely misused, being prescribed to many patients with non-vasoreactive PAH, leading to excess morbidity and mortality.')\n",
      "8. ('sids', \"Also, if parents share a room with their infant but do not share a bed, they can cut their baby's risk of SIDS in half.\")\n",
      "9. ('pap', 'Experts recommend that women get the vaccine and normal pap smears.')\n",
      "10. ('esr', 'Both the white blood cells and ESR may be elevated due to gout in the absence of infection.')\n",
      "11. ('hdl', 'Low HDL is hard to treat with medicines, but goes up with more exercise!')\n",
      "12. ('bdd', 'How bad each person\\'s BDD was, was assessed using the \" Yale-Brown Obsessive Compulsive Scale \" , modified for BDD.')\n"
     ]
    },
    {
     "name": "stderr",
     "output_type": "stream",
     "text": [
      "\r",
      "  8%|▊         | 7/87 [00:50<08:55,  6.70s/it]"
     ]
    },
    {
     "name": "stdout",
     "output_type": "stream",
     "text": [
      " \n",
      "query_sent:  One of his arms and both feet became enlarged and at some point during his childhood he fell and damaged his hip, resulting in permanent lameness.\n",
      "query_word:  lameness\n",
      "Top substitutions:\n",
      "1. ('arthritis', 'Extensive tophi may lead to chronic arthritis due to bone erosion.')\n",
      "2. ('weakness', 'The symptom of muscle weakness usually begins around the age of four in boys and worsens quickly.')\n",
      "3. ('stiffness', \"In chikungunya's chronic phase, almost everyone with the virus (87% - 98%) gets very bad joint pain or stiffness.\")\n",
      "4. ('failure', 'It involves major shock and kidney failure because of the skeletal muscles being crushed.')\n",
      "5. ('pain', 'It causes pain in the joints and muscles of the upper body.')\n",
      "6. ('problems', 'Some causes are infections, such as encephalitis; autoimmune diseases; damage to the brain from strokes; and metabolic problems.')\n",
      "7. ('spasticity', \"Over time, the way to take care of cerebral palsy has changed from fixing a person's physical problems such as spasticity in one leg or arm.\")\n",
      "8. ('amputation', 'Air and fluid-filled internal organs are most commonly affected, but the blast wave may also cause external injuries such as traumatic amputation.')\n",
      "9. ('spasms', 'The condition leads to general muscle stiffness and spasms in other parts of the body.')\n",
      "10. ('fractures', 'Chest wall injuries include rib fractures and flail chest.')\n",
      "11. ('dysfunction', 'This may be due to systolic or diastolic malfunction of the left ventricle or due to valvular dysfunction such as mitral regurgitation or mitral stenosis.')\n",
      "12. ('hypertension', 'This causes pulmonary venous hypertension.')\n"
     ]
    },
    {
     "name": "stderr",
     "output_type": "stream",
     "text": [
      "\r",
      "  9%|▉         | 8/87 [00:58<09:17,  7.05s/it]"
     ]
    },
    {
     "name": "stdout",
     "output_type": "stream",
     "text": [
      " \n",
      "query_sent:  But SARS explains the cough, causes hypoperfusion, which explains the ischemic bowel.\n",
      "query_word:  hypoperfusion\n",
      "Top substitutions:\n",
      "1. ('hypoglycemia', 'Very bad hypoglycemia can look exactly like a stroke.')\n",
      "2. ('hypovolemic', 'In medicine, this is called hypovolemic shock.')\n",
      "3. ('hypovolemia', 'Some of the known causes of POTS include:   Genetics   Recently being sick with a virus   Chronic diabetes   Hypovolemia (not having enough blood in the body).')\n",
      "4. ('hemorrhagic', 'Most commonly this is a stroke or mini-stroke and sometimes can be a hemorrhagic stroke.')\n",
      "5. ('hypoxia', 'It relieves pressure on the right side of the heart, but at the cost of lower oxygen levels in blood (hypoxia).')\n",
      "6. ('hypoxemic', 'Stage 2 the patient is tachypneic, hypocapnic and hypoxemic; develops moderate liver dysfunction and possible hematologic abnormalities.')\n",
      "7. ('hypotension', 'Doctors can treat hypotension by treating whatever is causing the low blood pressure.')\n",
      "8. ('hypoxic', 'It can be one of five different types, arterial, venous, hypoxic, thromboembolic, or miscellaneous.')\n",
      "9. ('hypermetabolism', 'The condition usually results from infection, injury (accident, surgery), hypoperfusion and hypermetabolism.')\n",
      "10. ('hypertension', 'This causes pulmonary venous hypertension.')\n",
      "11. ('endotracheal', 'With treatment, less than 0.2% of people need endotracheal intubation(a tube placed into the airway).')\n",
      "12. ('hemorrhage', 'In serious cases, the blood vessels rupture and there is bleeding within the brain (intracranial hemorrhage).')\n"
     ]
    },
    {
     "name": "stderr",
     "output_type": "stream",
     "text": [
      "\r",
      " 10%|█         | 9/87 [01:05<09:06,  7.00s/it]"
     ]
    },
    {
     "name": "stdout",
     "output_type": "stream",
     "text": [
      " \n",
      "query_sent:  There's a slight hypoperfusion in the anterior cortex.\n",
      "query_word:  hypoperfusion\n",
      "Top substitutions:\n",
      "1. ('hemorrhage', 'In serious cases, the blood vessels rupture and there is bleeding within the brain (intracranial hemorrhage).')\n",
      "2. ('hypoxia', 'Cerebral hypoxia (lack of oxygen to the brain) makes a person lose consciousness and stop breathing, and this makes the heart stop completely.')\n",
      "3. ('hypothyroidism', 'Hypothyroidism, especially when the hypothyroidism is very bad.')\n",
      "4. ('hemorrhages', 'The three most common types of bleeding problems in the brain are epidural hematomas, subdural hematomas, and subarachnoid hemorrhages.')\n",
      "5. ('hypovolemic', 'In medicine, this is called hypovolemic shock.')\n",
      "6. ('tachycardia', 'This is called postural tachycardia.')\n",
      "7. ('nystagmus', 'When a child with BPVC is not having other symptoms, they may have positional nystagmus, which happens when the head is in a certain position.')\n",
      "8. ('dyskinesia', 'But there are certain groups of people who are more likely to get tardive dyskinesia.')\n",
      "9. ('paroxysmal', 'For a doctor to diagnose Benign Paroxysmal Vertigo of Childhood, all of these things must be true:   The child has had at least five attacks of vertigo.')\n",
      "10. ('excitotoxicity', 'Tilt the scale towards glutamate, which occurs in stroke, seizures and neurodegeneration, and you get excitotoxicity.')\n",
      "11. ('hypovolemia', 'Some of the known causes of POTS include:   Genetics   Recently being sick with a virus   Chronic diabetes   Hypovolemia (not having enough blood in the body).')\n",
      "12. ('atherosclerosis', 'Some people develop atherosclerosis faster than others.')\n"
     ]
    },
    {
     "name": "stderr",
     "output_type": "stream",
     "text": [
      "\r",
      " 11%|█▏        | 10/87 [01:14<09:47,  7.63s/it]"
     ]
    },
    {
     "name": "stdout",
     "output_type": "stream",
     "text": [
      " \n",
      "query_sent:  The condition usually results from infection, injury (accident, surgery), hypoperfusion and hypermetabolism.\n",
      "query_word:  hypoperfusion\n",
      "Top substitutions:\n",
      "1. ('hypovolemia', 'Some of the known causes of POTS include:   Genetics   Recently being sick with a virus   Chronic diabetes   Hypovolemia (not having enough blood in the body).')\n",
      "2. ('atherosclerosis', 'Causes of cerebrovascular disease can be divided into: atherosclerosis, embolism, aneurysms, low flow states, and other rare causes.')\n",
      "3. ('infarction', 'Sometimes if a doctor thinks a person has atherosclerosis she may do tests to find atherosclerosis before it causes symptoms of ischemia or infarction.')\n",
      "4. ('hypoxia', 'It relieves pressure on the right side of the heart, but at the cost of lower oxygen levels in blood (hypoxia).')\n",
      "5. ('hypermetabolism', 'The condition usually results from infection, injury (accident, surgery), hypoperfusion and hypermetabolism.')\n",
      "6. ('hemorrhagic', 'Most commonly this is a stroke or mini-stroke and sometimes can be a hemorrhagic stroke.')\n",
      "7. ('hypovolemic', 'In medicine, this is called hypovolemic shock.')\n",
      "8. ('hypoxemia', 'The Venice 2003 Revised Classification system can be summarized as follows:   WHO Group I - Pulmonary arterial hypertension (PAH)   WHO Group II - Pulmonary hypertension associated with left heart disease   WHO Group III - Pulmonary hypertension associated with lung diseases and/or hypoxemia   WHO Group IV - Pulmonary hypertension due to chronic thrombotic and/or embolic disease   WHO Group V - Miscellaneous   The terms primary and secondary pulmonary hypertension (PPH and SPH) were formerly used to classify the disease.')\n",
      "9. ('hypotension', 'Doctors can treat hypotension by treating whatever is causing the low blood pressure.')\n",
      "10. ('hypothyroidism', 'Heart disease, hypothyroidism (reduced hormone secretion by the thyroid), and diabetes are other problems that may be present.')\n",
      "11. ('hemorrhages', 'These types of strokes include lacunar and other ischemic strokes and minor hemorrhages.')\n",
      "12. ('regurgitation', 'This may be due to systolic or diastolic malfunction of the left ventricle or due to valvular dysfunction such as mitral regurgitation or mitral stenosis.')\n"
     ]
    },
    {
     "name": "stderr",
     "output_type": "stream",
     "text": [
      "\r",
      " 13%|█▎        | 11/87 [01:21<09:23,  7.42s/it]"
     ]
    },
    {
     "name": "stdout",
     "output_type": "stream",
     "text": [
      " \n",
      "query_sent:  Myelofibrosis fits, but testing takes at least 48 hours.\n",
      "query_word:  Myelofibrosis\n",
      "Top substitutions:\n",
      "1. ('osteoporosis', 'There is no cure for osteoporosis.')\n",
      "2. ('myeloma', 'Some symptoms of the multiple myeloma are bone pain, renal failure, recurring infections and anemia.')\n",
      "3. ('fibromyalgia', 'Fibromyalgia affects mostly women, though men can also be affected.')\n",
      "4. ('sarcoidosis', 'Sarcoidosis may involve the brain.')\n",
      "5. ('endometriosis', 'The doctor may see endometriosis tissue during laparoscopy.')\n",
      "6. ('hypoglycemia', 'Hypoglycemia is treated by returning the blood sugar levels back to normal.')\n",
      "7. ('edema', 'Macular edema is treated with focal laser treatment.')\n",
      "8. ('thrombosis', 'This might be due to thrombosis.')\n",
      "9. ('cystic', 'There is no cure for cystic fibrosis.')\n",
      "10. ('hemorrhoids', 'Hemorrhoids are diagnosed by a doctor.')\n",
      "11. ('angioedema', 'This is called hereditary angioedema.')\n",
      "12. ('myelodysplastic', 'Myelodysplastic syndromes affect the bone marrow stem cells.')\n"
     ]
    },
    {
     "name": "stderr",
     "output_type": "stream",
     "text": [
      "\r",
      " 14%|█▍        | 12/87 [01:27<09:00,  7.21s/it]"
     ]
    },
    {
     "name": "stdout",
     "output_type": "stream",
     "text": [
      " \n",
      "query_sent:  Biopsy showed non-specific inflammation, which suggests IBD.\n",
      "query_word:  IBD\n",
      "Top substitutions:\n",
      "1. ('cjd', 'Doctors may suspect CJD when a person has certain symptoms.')\n",
      "2. ('copd', '3% of all disability is related to COPD.')\n",
      "3. ('fmd', 'While the disease is widespread around the world, North America, Central America, Australia, New Zealand, Japan, Chile, and many countries in Europe are considered free of FMD.')\n",
      "4. ('bpd', 'The cause for BPD is not known.')\n",
      "5. ('avm', 'Nevertheless, in more than half of patients with AVM, hemorrhage is the first symptom.')\n",
      "6. ('tbi', 'Research since the early 1990s has improved TBI survival.')\n",
      "7. ('sids', 'The risk of SIDS is highest in infants from two to four months old.')\n",
      "8. ('bdd', 'BDD was eliminated in 82% of cases at post treatment and 77% at follow-up.')\n",
      "9. ('mrsa', 'Because penicillin and cephalosporin are the most important drugs that doctors use to treat Staphylococcus aureus infections, doctors may not be able to cure people with MRSA.')\n",
      "10. ('gdm', 'Some women with GDM are treated with drugs.')\n",
      "11. ('mci', 'There is no special treatment for MCI.')\n",
      "12. ('pdd', \"A child's parents might begin to notice signs of PDD when the child is a baby, and it usually appears before the child is three years old.\")\n"
     ]
    },
    {
     "name": "stderr",
     "output_type": "stream",
     "text": [
      "\r",
      " 15%|█▍        | 13/87 [01:33<08:18,  6.74s/it]"
     ]
    },
    {
     "name": "stdout",
     "output_type": "stream",
     "text": [
      " \n",
      "query_sent:  The biopsy revealed it's melanoma.\n",
      "query_word:  melanoma\n",
      "Top substitutions:\n",
      "1. ('carcinoma', 'Merkel-cell carcinoma usually shows up on the head, neck, perianal and eyelid.')\n",
      "2. ('adenocarcinoma', 'Other types of anal carcinoma are adenocarcinoma, lymphoma, sarcoma or melanoma.')\n",
      "3. ('thrombosis', 'This might be due to thrombosis.')\n",
      "4. ('hematoma', 'Possible metabolic causes are such as liver failure or kidney failure; and chronic subdural hematoma.')\n",
      "5. ('sarcomas', 'Liposarcomas, like all sarcomas, are rare.')\n",
      "6. ('sarcoma', 'Other types of anal carcinoma are adenocarcinoma, lymphoma, sarcoma or melanoma.')\n",
      "7. ('tumours', 'The doctor may want to perform a rectal examination which will help detect internal hemorrhoids, tumours, polyps, or abscesses.')\n",
      "8. ('granulomatous', 'Sarcoidosis is a granulomatous disorder that can affect multiple organs.')\n",
      "9. ('fibrosis', 'The parent might not have cystic fibrosis but still might have the gene.')\n",
      "10. ('carcinomas', 'The majority of these are basal cell carcinomas.')\n",
      "11. ('cellulitis', 'The only symptom is mild cellulitis.')\n",
      "12. ('melanocytic', 'Names given to types of birthmarks are: stork bites, Mongolian blue spots, strawberry marks, café au lait spots, nevus congenital melanocytic nevi, and port-wine stains.')\n"
     ]
    },
    {
     "name": "stderr",
     "output_type": "stream",
     "text": [
      "\r",
      " 16%|█▌        | 14/87 [01:42<08:50,  7.27s/it]"
     ]
    },
    {
     "name": "stdout",
     "output_type": "stream",
     "text": [
      " \n",
      "query_sent:  What's interesting is that mom's melanoma spread to the baby in utero, which means it's metastatic, which means it's late stage.\n",
      "query_word:  melanoma\n",
      "Top substitutions:\n",
      "1. ('carcinoma', 'Merkel-cell carcinoma usually shows up on the head, neck, perianal and eyelid.')\n",
      "2. ('rhabdomyosarcoma', 'Prognosis also depends on the type of rhabdomyosarcoma a person has, what kind of treatment they get, whether their cancer has spread, and many other things.')\n",
      "3. ('hematoma', 'Possible metabolic causes are such as liver failure or kidney failure; and chronic subdural hematoma.')\n",
      "4. ('fibrosis', 'The parent might not have cystic fibrosis but still might have the gene.')\n",
      "5. ('endometriosis', 'Having endometriosis can make it hard to have a baby.')\n",
      "6. ('granulomatous', 'Sarcoidosis is a granulomatous disorder that can affect multiple organs.')\n",
      "7. ('myeloma', 'There are three types:   Leukemia   Lymphoma   Multiple myeloma   A doctor will do some tests to find out if a person has a blood cancer.')\n",
      "8. ('sarcoma', 'Clear cell sarcoma of the soft tissues in adults is not related to the pediatric tumor known as clear cell sarcoma of the kidney.')\n",
      "9. ('tumours', 'The doctor may want to perform a rectal examination which will help detect internal hemorrhoids, tumours, polyps, or abscesses.')\n",
      "10. ('thrombosis', 'This delivery system can cause sepsis and thrombosis.')\n",
      "11. ('encephalitis', 'Two examples are autoimmune encephalitis and acute disseminated encephalitis.')\n",
      "12. ('melanocytic', 'Names given to types of birthmarks are: stork bites, Mongolian blue spots, strawberry marks, café au lait spots, nevus congenital melanocytic nevi, and port-wine stains.')\n"
     ]
    },
    {
     "name": "stderr",
     "output_type": "stream",
     "text": [
      "\r",
      " 17%|█▋        | 15/87 [01:48<08:35,  7.16s/it]"
     ]
    },
    {
     "name": "stdout",
     "output_type": "stream",
     "text": [
      " \n",
      "query_sent:  How many people with a late stage melanoma are as healthy as she is?\n",
      "query_word:  melanoma\n",
      "Top substitutions:\n",
      "1. ('rhabdomyosarcoma', 'Prognosis also depends on the type of rhabdomyosarcoma a person has, what kind of treatment they get, whether their cancer has spread, and many other things.')\n",
      "2. ('glaucoma', 'If a person who has glaucoma does not get help from a doctor, they will not be able to see.')\n",
      "3. ('sarcomas', 'Liposarcomas, like all sarcomas, are rare.')\n",
      "4. ('sarcoma', \"People with Ewing's sarcoma usually feel pain, and may have a lump.\")\n",
      "5. ('myeloma', 'Some symptoms of the multiple myeloma are bone pain, renal failure, recurring infections and anemia.')\n",
      "6. ('syphilis', 'Doctors might also try to get patients with syphilis to tell their sexual partners to get treatment.')\n",
      "7. ('hypoglycemia', 'Very bad hypoglycemia can look exactly like a stroke.')\n",
      "8. ('hematoma', 'Possible metabolic causes are such as liver failure or kidney failure; and chronic subdural hematoma.')\n",
      "9. ('fibrosis', 'A person with cystic fibrosis is not contagious (they cannot give it to anyone else).')\n",
      "10. ('tumours', 'The doctor may want to perform a rectal examination which will help detect internal hemorrhoids, tumours, polyps, or abscesses.')\n",
      "11. ('anaphylaxis', 'Doctors can prescribe EpiPens to people who know they have allergies, so they can treat themselves for anaphylaxis.')\n",
      "12. ('angioedema', 'People with angioedema may feel like their skin is burning instead of itching.')\n"
     ]
    },
    {
     "name": "stderr",
     "output_type": "stream",
     "text": [
      "\r",
      " 18%|█▊        | 16/87 [01:55<08:18,  7.03s/it]"
     ]
    },
    {
     "name": "stdout",
     "output_type": "stream",
     "text": [
      " \n",
      "query_sent:  His family history of melanoma may have affected his cellular outlook.\n",
      "query_word:  melanoma\n",
      "Top substitutions:\n",
      "1. ('cirrhosis', 'Liver damage by cirrhosis cannot be repaired.')\n",
      "2. ('carcinoma', 'Primary biliary cirrhosis, a disease of unknown etiology   Hepatocellular carcinoma')\n",
      "3. ('cystic', 'The parent might not have cystic fibrosis but still might have the gene.')\n",
      "4. ('granulomatous', 'Sarcoidosis is a granulomatous disorder that can affect multiple organs.')\n",
      "5. ('myeloma', 'Some symptoms of the multiple myeloma are bone pain, renal failure, recurring infections and anemia.')\n",
      "6. ('sarcomas', 'Liposarcomas, like all sarcomas, are rare.')\n",
      "7. ('melanocytic', 'Names given to types of birthmarks are: stork bites, Mongolian blue spots, strawberry marks, café au lait spots, nevus congenital melanocytic nevi, and port-wine stains.')\n",
      "8. ('fibrosis', 'The parent might not have cystic fibrosis but still might have the gene.')\n",
      "9. ('thrombosis', 'This might be due to thrombosis.')\n",
      "10. ('rhabdomyosarcoma', 'Prognosis also depends on the type of rhabdomyosarcoma a person has, what kind of treatment they get, whether their cancer has spread, and many other things.')\n",
      "11. ('glaucoma', 'A family history of glaucoma is a risk factor.')\n",
      "12. ('astrocytoma', 'Malignant tumors like anaplastic astrocytoma and glioblastoma multiforme require more aggressive therapy.')\n"
     ]
    },
    {
     "name": "stderr",
     "output_type": "stream",
     "text": [
      "\r",
      " 20%|█▉        | 17/87 [02:04<08:52,  7.61s/it]"
     ]
    },
    {
     "name": "stdout",
     "output_type": "stream",
     "text": [
      " \n",
      "query_sent:  If the kid's dad died young of melanoma, how come the overprotective mom never took him to a dermatologist?\n",
      "query_word:  melanoma\n",
      "Top substitutions:\n",
      "1. ('rhabdomyosarcoma', 'Prognosis also depends on the type of rhabdomyosarcoma a person has, what kind of treatment they get, whether their cancer has spread, and many other things.')\n",
      "2. ('scleroderma', 'Common causes of pulmonary arterial hypertension (PAH) include HIV, scleroderma and other autoimmune disorders, cirrhosis and portal hypertension, sickle cell disease, congenital heart disease, thyroid diseases, and others.')\n",
      "3. ('melanocytic', 'Names given to types of birthmarks are: stork bites, Mongolian blue spots, strawberry marks, café au lait spots, nevus congenital melanocytic nevi, and port-wine stains.')\n",
      "4. ('hemorrhagic', 'Having extra blood will help a person if their blood pressure is getting very low (like it does in dengue shock syndrome) or if they do not have enough red blood cells in their blood (because they are bleeding from dengue hemorrhagic fever).')\n",
      "5. ('sarcoma', 'Other types of anal carcinoma are adenocarcinoma, lymphoma, sarcoma or melanoma.')\n",
      "6. ('hematoma', 'Possible metabolic causes are such as liver failure or kidney failure; and chronic subdural hematoma.')\n",
      "7. ('carcinoma', 'More information about : Hepatocellular Carcinoma   Aflatoxin exposure   Hepatitis B or C.   Cirrhosis   Diabetes')\n",
      "8. ('fibrosis', 'The parent might not have cystic fibrosis but still might have the gene.')\n",
      "9. ('encephalitis', 'Some causes are infections, such as encephalitis; autoimmune diseases; damage to the brain from strokes; and metabolic problems.')\n",
      "10. ('pancreatitis', 'Causes include perforation of the intestinal tract, pancreatitis, pelvic inflammatory disease, stomach ulcer, cirrhosis, or a ruptured appendix.')\n",
      "11. ('granulomatous', 'Sarcoidosis is a granulomatous disorder that can affect multiple organs.')\n",
      "12. ('tumours', 'The doctor may want to perform a rectal examination which will help detect internal hemorrhoids, tumours, polyps, or abscesses.')\n"
     ]
    },
    {
     "name": "stderr",
     "output_type": "stream",
     "text": [
      "\r",
      " 21%|██        | 18/87 [02:12<08:40,  7.55s/it]"
     ]
    },
    {
     "name": "stdout",
     "output_type": "stream",
     "text": [
      " \n",
      "query_sent:  He could have had a granuloma in his sinuses that bled, which could have been caused by Wegener's.\n",
      "query_word:  granuloma\n",
      "Top substitutions:\n",
      "1. ('hematoma', 'Possible metabolic causes are such as liver failure or kidney failure; and chronic subdural hematoma.')\n",
      "2. ('fibrosis', 'The parent might not have cystic fibrosis but still might have the gene.')\n",
      "3. ('carcinoma', 'Gouty tophi, especially when not in a joint, can be mistaken for basal cell carcinoma, or other cancers.')\n",
      "4. ('sarcoma', \"People with Ewing's sarcoma usually feel pain, and may have a lump.\")\n",
      "5. ('melanoma', 'In everyday use, people often talk about melanoma, but there are other forms of skin cancer, too.')\n",
      "6. ('glomerulonephritis', 'Renal cell carcinoma   Cystitis   Bladder cancer   Pyelonephritis   Prostate cancer   Urethritis   Wilms tumor   Kidney stones   Glomerulonephritis   Possibly, allergies.')\n",
      "7. ('granulocyte', 'These are lymphoid cells and young granulocyte cells (which are called myelocytes).')\n",
      "8. ('polyp', 'The conditions that cause a temporary loss of this sense include:   Upper respiratory tract infection, for example a common cold   Blocking the nose, for example through seasonal allergies, or a nasal polyp.')\n",
      "9. ('hematomas', 'Subdural hematomas can happen right away after a bad injury to the head.')\n",
      "10. ('cellulitis', 'The only symptom is mild cellulitis.')\n",
      "11. ('granulocytes', 'Agranulocytosis is a medical condition where there are very few granulocytes (a kind of white blood cell) in the blood.')\n",
      "12. ('thrombosis', 'This might be due to thrombosis.')\n"
     ]
    },
    {
     "name": "stderr",
     "output_type": "stream",
     "text": [
      "\r",
      " 22%|██▏       | 19/87 [02:17<07:49,  6.91s/it]"
     ]
    },
    {
     "name": "stdout",
     "output_type": "stream",
     "text": [
      " \n",
      "query_sent:  MRI showed a granuloma in his liver.\n",
      "query_word:  granuloma\n",
      "Top substitutions:\n",
      "1. ('hematoma', 'Possible metabolic causes are such as liver failure or kidney failure; and chronic subdural hematoma.')\n",
      "2. ('sarcoma', \"Examples of bone tumors include osteosarcoma and Ewing's sarcoma.\")\n",
      "3. ('carcinoma', 'Merkel-cell carcinoma usually shows up on the head, neck, perianal and eyelid.')\n",
      "4. ('glomerulonephritis', 'Renal cell carcinoma   Cystitis   Bladder cancer   Pyelonephritis   Prostate cancer   Urethritis   Wilms tumor   Kidney stones   Glomerulonephritis   Possibly, allergies.')\n",
      "5. ('melanoma', 'Other types of anal carcinoma are adenocarcinoma, lymphoma, sarcoma or melanoma.')\n",
      "6. ('fibrosis', 'The parent might not have cystic fibrosis but still might have the gene.')\n",
      "7. ('granulocyte', 'These are lymphoid cells and young granulocyte cells (which are called myelocytes).')\n",
      "8. ('tumours', 'The doctor may want to perform a rectal examination which will help detect internal hemorrhoids, tumours, polyps, or abscesses.')\n",
      "9. ('hematomas', 'In cases of large hematomas or those localized in certain organs (  , the brain), a physician may perform a puncture of the hematoma to allow the blood to exit.')\n",
      "10. ('cellulitis', 'The only symptom is mild cellulitis.')\n",
      "11. ('botulism', 'Major causes are stroke, trauma, poliomyelitis, amyotrophic lateral sclerosis (ALS), botulism, spina bifida, multiple sclerosis, and Guillain-Barré syndrome.')\n",
      "12. ('glioma', 'Glioma related tumors are another kmown cause.')\n"
     ]
    },
    {
     "name": "stderr",
     "output_type": "stream",
     "text": [
      "\r",
      " 23%|██▎       | 20/87 [02:24<07:53,  7.07s/it]"
     ]
    },
    {
     "name": "stdout",
     "output_type": "stream",
     "text": [
      " \n",
      "query_sent:  We can nuke them with a mild course of chemo and then remove the granuloma.\n",
      "query_word:  granuloma\n",
      "Top substitutions:\n",
      "1. ('hematoma', 'The picture at the top of this page shows an epidural hematoma.')\n",
      "2. ('mycoplasma', 'Many common antibiotics such as penicillin that target cell walls do not affect mycoplasma.')\n",
      "3. ('hematomas', 'In most cases, hematomas spontaneously revert.')\n",
      "4. ('carcinoma', 'Merkel-cell carcinoma usually shows up on the head, neck, perianal and eyelid.')\n",
      "5. ('plasmodium', 'Weeks or months later, the Plasmodium can leave the liver to the blood, and the person will get sick again.')\n",
      "6. ('melanoma', 'Malignant melanoma   The common appearance is an asymmetrical area, with an irregular border, color variation, and often greater than 6 mm diameter.')\n",
      "7. ('granulocytes', 'Agranulocytosis is a medical condition where there are very few granulocytes (a kind of white blood cell) in the blood.')\n",
      "8. ('mucosal', 'The stapler will also excise mucosal tissue to block the blood flow to the remaining hemorrhoids.')\n",
      "9. ('tumours', 'The doctor may want to perform a rectal examination which will help detect internal hemorrhoids, tumours, polyps, or abscesses.')\n",
      "10. ('granulocyte', 'These are lymphoid cells and young granulocyte cells (which are called myelocytes).')\n",
      "11. ('cellulitis', 'The only symptom is mild cellulitis.')\n",
      "12. ('hamartomas', 'Many types of the disease includes myxomas, fibromas, rhabdomyomas, and hamartomas.')\n"
     ]
    },
    {
     "name": "stderr",
     "output_type": "stream",
     "text": [
      "\r",
      " 24%|██▍       | 21/87 [02:31<07:39,  6.96s/it]"
     ]
    },
    {
     "name": "stdout",
     "output_type": "stream",
     "text": [
      " \n",
      "query_sent:  Time to scan her for infections that could cause granulomas.\n",
      "query_word:  granulomas\n",
      "Top substitutions:\n",
      "1. ('granulomatous', 'Sarcoidosis is a granulomatous disorder that can affect multiple organs.')\n",
      "2. ('fibrosis', 'The parent might not have cystic fibrosis but still might have the gene.')\n",
      "3. ('glomerulonephritis', 'Renal cell carcinoma   Cystitis   Bladder cancer   Pyelonephritis   Prostate cancer   Urethritis   Wilms tumor   Kidney stones   Glomerulonephritis   Possibly, allergies.')\n",
      "4. ('hematoma', 'Possible metabolic causes are such as liver failure or kidney failure; and chronic subdural hematoma.')\n",
      "5. ('mycoplasma', 'Many common antibiotics such as penicillin that target cell walls do not affect mycoplasma.')\n",
      "6. ('hematomas', 'Subdural hematomas can also be chronic.')\n",
      "7. ('thrombosis', 'This delivery system can cause sepsis and thrombosis.')\n",
      "8. ('carcinoma', 'Primary biliary cirrhosis, a disease of unknown etiology   Hepatocellular carcinoma')\n",
      "9. ('tumours', 'The doctor may want to perform a rectal examination which will help detect internal hemorrhoids, tumours, polyps, or abscesses.')\n",
      "10. ('hamartomas', 'Many types of the disease includes myxomas, fibromas, rhabdomyomas, and hamartomas.')\n",
      "11. ('granulocyte', 'These are lymphoid cells and young granulocyte cells (which are called myelocytes).')\n",
      "12. ('granulocytes', 'Agranulocytosis is a medical condition where there are very few granulocytes (a kind of white blood cell) in the blood.')\n"
     ]
    },
    {
     "name": "stderr",
     "output_type": "stream",
     "text": [
      "\r",
      " 25%|██▌       | 22/87 [02:38<07:37,  7.05s/it]"
     ]
    },
    {
     "name": "stdout",
     "output_type": "stream",
     "text": [
      " \n",
      "query_sent:  But the calcified pineal could be sarcoidosis.\n",
      "query_word:  sarcoidosis\n",
      "Top substitutions:\n",
      "1. ('pneumoconiosis', 'Pneumoconiosis   Silicosis')\n",
      "2. ('subarachnoid', 'About half of all people with subarachnoid hemorrhages die from them.')\n",
      "3. ('rhabdomyosarcoma', 'What type of rhabdomyosarcoma does the person have?')\n",
      "4. ('sarcoma', 'It is a type of soft-tissue sarcoma.')\n",
      "5. ('meningococcemia', 'Septicemia   Meningococcemia   Bubonic Plague   Pneumonic plague   Black death   Google Health - Plague    HowStuffWorks - \" Septicemic Plague \"')\n",
      "6. ('candidiasis', 'REDIRECT Candidiasis')\n",
      "7. ('prostatitis', 'A prostatitis diagnosis is assigned at 8% of all urologist and 1% of all primary care physician visits in the USA.')\n",
      "8. ('cystocele', 'In some cases a doctor may use surgical mesh to fix the cystocele.')\n",
      "9. ('multinodular', 'These most commonly caused by Graves disease, but they can also be caused by inflammation or a multinodular goitre.')\n",
      "10. ('fibrosis', 'In some cases, pulmonary fibrosis is a complication of sarcoidosis.')\n",
      "11. ('sebaceous', 'They are filled with sebum and can turn into a sebaceous tumor if left untreated.')\n",
      "12. ('haemoptysis', 'This is called haemoptysis.')\n"
     ]
    },
    {
     "name": "stderr",
     "output_type": "stream",
     "text": [
      "\r",
      " 26%|██▋       | 23/87 [02:44<07:11,  6.73s/it]"
     ]
    },
    {
     "name": "stdout",
     "output_type": "stream",
     "text": [
      " \n",
      "query_sent:  Sarcoidosis could be in his brain and lungs.\n",
      "query_word:  Sarcoidosis\n",
      "Top substitutions:\n",
      "1. ('ischemia', 'If the ischemia lasts long enough, the heart muscle that is not getting enough oxygen dies.')\n",
      "2. ('pneumothorax', 'Complex pneumothorax will need medical attention.')\n",
      "3. ('osteoporosis', 'There is no cure for osteoporosis.')\n",
      "4. ('pneumoconiosis', 'Pneumoconiosis   Silicosis')\n",
      "5. ('fibrosis', 'In some cases, pulmonary fibrosis is a complication of sarcoidosis.')\n",
      "6. ('rhabdomyosarcoma', 'Prognosis also depends on the type of rhabdomyosarcoma a person has, what kind of treatment they get, whether their cancer has spread, and many other things.')\n",
      "7. ('hemorrhage', 'A subarachnoid hemorrhage is bleeding into the subarachnoid space (the space between the arachnoid and the pia mater).')\n",
      "8. ('neurosarcoidosis', 'If it does, it is called neurosarcoidosis.')\n",
      "9. ('bronchiectasis', 'People with bronchiectasis may also cough up blood.')\n",
      "10. ('glomerulonephritis', 'Renal cell carcinoma   Cystitis   Bladder cancer   Pyelonephritis   Prostate cancer   Urethritis   Wilms tumor   Kidney stones   Glomerulonephritis   Possibly, allergies.')\n",
      "11. ('hemorrhagic', 'Most commonly this is a stroke or mini-stroke and sometimes can be a hemorrhagic stroke.')\n",
      "12. ('peritonitis', 'If it is not treated, it may lead to peritonitis and shock.')\n"
     ]
    },
    {
     "name": "stderr",
     "output_type": "stream",
     "text": [
      "\r",
      " 28%|██▊       | 24/87 [02:50<06:45,  6.44s/it]"
     ]
    },
    {
     "name": "stdout",
     "output_type": "stream",
     "text": [
      " \n",
      "query_sent:  The PET scan was negative for sarcoidosis.\n",
      "query_word:  sarcoidosis\n",
      "Top substitutions:\n",
      "1. ('fibrosis', 'In some cases, pulmonary fibrosis is a complication of sarcoidosis.')\n",
      "2. ('glomerulonephritis', 'Renal cell carcinoma   Cystitis   Bladder cancer   Pyelonephritis   Prostate cancer   Urethritis   Wilms tumor   Kidney stones   Glomerulonephritis   Possibly, allergies.')\n",
      "3. ('bronchiectasis', 'Antibiotics are used to treat bronchiectasis.')\n",
      "4. ('thrombosis', 'This delivery system can cause sepsis and thrombosis.')\n",
      "5. ('osteoporosis', 'There is no cure for osteoporosis.')\n",
      "6. ('prostatitis', 'Antibiotics usually resolve acute prostatitis infections in a very short period of time.')\n",
      "7. ('tumours', 'The doctor may want to perform a rectal examination which will help detect internal hemorrhoids, tumours, polyps, or abscesses.')\n",
      "8. ('endometriosis', 'The doctor may see endometriosis tissue during laparoscopy.')\n",
      "9. ('sarcoma', 'Leiomyosarcoma is one of the more common types of soft-tissue sarcoma, representing 10 percent to 20 percent of new cases.')\n",
      "10. ('cystic', 'The parent might not have cystic fibrosis but still might have the gene.')\n",
      "11. ('cellulitis', 'The only symptom is mild cellulitis.')\n",
      "12. ('mononucleosis', 'There is however no specific treatment for infectious mononucleosis.')\n"
     ]
    },
    {
     "name": "stderr",
     "output_type": "stream",
     "text": [
      "\r",
      " 29%|██▊       | 25/87 [02:56<06:22,  6.17s/it]"
     ]
    },
    {
     "name": "stdout",
     "output_type": "stream",
     "text": [
      " \n",
      "query_sent:  Sarcoidosis isn't infectious or environmental.\n",
      "query_word:  Sarcoidosis\n",
      "Top substitutions:\n",
      "1. ('encephalitis', 'Encephalitis can happen when a person gets a bacterial infection, like bacterial meningitis.')\n",
      "2. ('mesothelioma', 'Mesothelioma is a deadly form of cancer.')\n",
      "3. ('mononucleosis', 'There is however no specific treatment for infectious mononucleosis.')\n",
      "4. ('candidiasis', 'A weakened, unhealthy, or young immune system may allow candidiasis to develop.')\n",
      "5. ('sepsis', 'Normally the immune system of the body is able to fight the germs and overcome the infection, but in sepsis something goes wrong.')\n",
      "6. ('cysticercosis', 'Cysticercosis is a tissue infection caused by the young form of the pork tapeworm.')\n",
      "7. ('neurosarcoidosis', 'Neurosarcoidosis is sarcoidosis in the brain.')\n",
      "8. ('nephritis', 'Nephritis is often caused by infections, and toxins, but is most commonly caused by autoimmune disorders that affect the major organs like kidneys.')\n",
      "9. ('rhabdomyosarcoma', 'Prognosis also depends on the type of rhabdomyosarcoma a person has, what kind of treatment they get, whether their cancer has spread, and many other things.')\n",
      "10. ('trypanosomiasis', 'The disease is also known as American trypanosomiasis.')\n",
      "11. ('adenocarcinoma', 'Adenocarcinoma starts from glandular cells that are present at the lining of the esophagus and stomach.')\n",
      "12. ('metastasis', 'Metastasis makes cures more difficult, or in many cases impossible.')\n"
     ]
    },
    {
     "name": "stderr",
     "output_type": "stream",
     "text": [
      "\r",
      " 30%|██▉       | 26/87 [03:00<05:40,  5.59s/it]"
     ]
    },
    {
     "name": "stdout",
     "output_type": "stream",
     "text": [
      " \n",
      "query_sent:  The donor had hemosiderosis.\n",
      "query_word:  hemosiderosis\n",
      "Top substitutions:\n",
      "1. ('thrombosis', 'This delivery system can cause sepsis and thrombosis.')\n",
      "2. ('glomerulonephritis', 'Renal cell carcinoma   Cystitis   Bladder cancer   Pyelonephritis   Prostate cancer   Urethritis   Wilms tumor   Kidney stones   Glomerulonephritis   Possibly, allergies.')\n",
      "3. ('encephalitis', 'Two examples are autoimmune encephalitis and acute disseminated encephalitis.')\n",
      "4. ('cirrhosis', 'Liver damage by cirrhosis cannot be repaired.')\n",
      "5. ('mononucleosis', 'There is however no specific treatment for infectious mononucleosis.')\n",
      "6. ('fibrosis', 'The parent might not have cystic fibrosis but still might have the gene.')\n",
      "7. ('hemorrhagic', 'When a person has bleeding, leaking plasma, and not enough platelets, they have dengue hemorrhagic fever.')\n",
      "8. ('granulomatous', 'Sarcoidosis is a granulomatous disorder that can affect multiple organs.')\n",
      "9. ('arteriosclerosis', 'The effects of arteriosclerosis can lead to lack of regular blood flow.')\n",
      "10. ('autoimmune', 'Its use is limited because it triggers an autoimmune response.')\n",
      "11. ('hemolytic', 'Acute myeloid leukemia   Malaria   Chronic lymphocytic leukemia   Autoimmune hemolytic anemia   Polycythemia vera   Chronic myeloid leukemia   Myelofibrosis   Typhoid fever   Infectious mononucleosis   Cirrhosis, often as a result of Portal hypertension.')\n",
      "12. ('hemophilia', 'To treat this, an affected person can get a blood donation from someone without hemophilia.')\n"
     ]
    },
    {
     "name": "stderr",
     "output_type": "stream",
     "text": [
      "\r",
      " 31%|███       | 27/87 [03:07<05:57,  5.96s/it]"
     ]
    },
    {
     "name": "stdout",
     "output_type": "stream",
     "text": [
      " \n",
      "query_sent:  The largest risk factors for spontaneous bleeding are high blood pressure and amyloidosis.\n",
      "query_word:  amyloidosis\n",
      "Top substitutions:\n",
      "1. ('granulomatous', 'Sarcoidosis is a granulomatous disorder that can affect multiple organs.')\n",
      "2. ('cirrhosis', 'Many years of infection may cause cirrhosis.')\n",
      "3. ('thrombosis', 'This delivery system can cause sepsis and thrombosis.')\n",
      "4. ('myelogenous', 'Acute myelogenous leukemia (AML) is seen more commonly in adults than in children.')\n",
      "5. ('carcinoma', 'Primary biliary cirrhosis, a disease of unknown etiology   Hepatocellular carcinoma')\n",
      "6. ('carcinomas', 'Squamous cell carcinomas most often start in the tongue.')\n",
      "7. ('glomerulonephritis', 'Streptococcal infections might also lead to swelling of the kidneys (acute glomerulonephritis).')\n",
      "8. ('neuropathy', 'Its symptoms are also similar to progressive inflammatory neuropathy.')\n",
      "9. ('encephalitis', 'Two examples are autoimmune encephalitis and acute disseminated encephalitis.')\n",
      "10. ('endometriosis', 'A doctor may try to treat endometriosis with medicine.')\n",
      "11. ('mononucleosis', 'There is however no specific treatment for infectious mononucleosis.')\n",
      "12. ('myxomas', 'Many types of the disease includes myxomas, fibromas, rhabdomyomas, and hamartomas.')\n"
     ]
    },
    {
     "name": "stderr",
     "output_type": "stream",
     "text": [
      "\r",
      " 32%|███▏      | 28/87 [03:15<06:38,  6.75s/it]"
     ]
    },
    {
     "name": "stdout",
     "output_type": "stream",
     "text": [
      " \n",
      "query_sent:  If you had amyloidosis, there'd be speckling on your cardiac ultrasound.\n",
      "query_word:  amyloidosis\n",
      "Top substitutions:\n",
      "1. ('hypothyroidism', 'If a person has hypothyroidism, their thyroid gland does not make enough hormones.')\n",
      "2. ('fibrosis', 'The parent might not have cystic fibrosis but still might have the gene.')\n",
      "3. ('cirrhosis', 'Liver damage by cirrhosis cannot be repaired.')\n",
      "4. ('carcinoma', 'Merkel-cell carcinoma usually shows up on the head, neck, perianal and eyelid.')\n",
      "5. ('endometriosis', 'Having endometriosis can make it hard to have a baby.')\n",
      "6. ('hemophilia', 'To treat this, an affected person can get a blood donation from someone without hemophilia.')\n",
      "7. ('myeloma', 'Some symptoms of the multiple myeloma are bone pain, renal failure, recurring infections and anemia.')\n",
      "8. ('rhabdomyosarcoma', 'Prognosis also depends on the type of rhabdomyosarcoma a person has, what kind of treatment they get, whether their cancer has spread, and many other things.')\n",
      "9. ('carcinomas', 'The majority of these are basal cell carcinomas.')\n",
      "10. ('angioedema', 'In most cases, the cause of angioedema is never found.')\n",
      "11. ('cystic', 'The parent might not have cystic fibrosis but still might have the gene.')\n",
      "12. ('thrombosis', 'This might be due to thrombosis.')\n"
     ]
    },
    {
     "name": "stderr",
     "output_type": "stream",
     "text": [
      "\r",
      " 33%|███▎      | 29/87 [03:25<07:18,  7.56s/it]"
     ]
    },
    {
     "name": "stdout",
     "output_type": "stream",
     "text": [
      " \n",
      "query_sent:  Biopsy showed deposits in the renal endothelium consistent with amyloidosis.\n",
      "query_word:  amyloidosis\n",
      "Top substitutions:\n",
      "1. ('cirrhosis', 'Primary biliary cirrhosis, a disease of unknown etiology   Hepatocellular carcinoma')\n",
      "2. ('carcinoma', 'Merkel-cell carcinoma usually shows up on the head, neck, perianal and eyelid.')\n",
      "3. ('fibrosis', 'The parent might not have cystic fibrosis but still might have the gene.')\n",
      "4. ('granulomatous', 'Sarcoidosis is a granulomatous disorder that can affect multiple organs.')\n",
      "5. ('glomerulonephritis', 'Renal cell carcinoma   Cystitis   Bladder cancer   Pyelonephritis   Prostate cancer   Urethritis   Wilms tumor   Kidney stones   Glomerulonephritis   Possibly, allergies.')\n",
      "6. ('myeloma', 'Some symptoms of the multiple myeloma are bone pain, renal failure, recurring infections and anemia.')\n",
      "7. ('endometriosis', 'The doctor may see endometriosis tissue during laparoscopy.')\n",
      "8. ('hematoma', 'Possible metabolic causes are such as liver failure or kidney failure; and chronic subdural hematoma.')\n",
      "9. ('carcinomas', 'The majority of these are basal cell carcinomas.')\n",
      "10. ('hemolytic', 'Acute myeloid leukemia   Malaria   Chronic lymphocytic leukemia   Autoimmune hemolytic anemia   Polycythemia vera   Chronic myeloid leukemia   Myelofibrosis   Typhoid fever   Infectious mononucleosis   Cirrhosis, often as a result of Portal hypertension.')\n",
      "11. ('agranulocytosis', 'If the agranulocytosis is because of a lack of neutrophils (called neutropenia), it is especially bad.')\n",
      "12. ('hemophilia', 'To treat this, an affected person can get a blood donation from someone without hemophilia.')\n"
     ]
    },
    {
     "name": "stderr",
     "output_type": "stream",
     "text": [
      "\r",
      " 34%|███▍      | 30/87 [03:31<06:53,  7.25s/it]"
     ]
    },
    {
     "name": "stdout",
     "output_type": "stream",
     "text": [
      " \n",
      "query_sent:  He needs a bone marrow transplant for the amyloidosis.\n",
      "query_word:  amyloidosis\n",
      "Top substitutions:\n",
      "1. ('fibrosis', 'The parent might not have cystic fibrosis but still might have the gene.')\n",
      "2. ('cirrhosis', 'Liver damage by cirrhosis cannot be repaired.')\n",
      "3. ('carcinoma', 'Merkel-cell carcinoma usually shows up on the head, neck, perianal and eyelid.')\n",
      "4. ('myeloma', 'Some symptoms of the multiple myeloma are bone pain, renal failure, recurring infections and anemia.')\n",
      "5. ('mononucleosis', 'There is however no specific treatment for infectious mononucleosis.')\n",
      "6. ('endometriosis', 'The doctor doing the surgery can look inside the body to find endometriosis tissue.')\n",
      "7. ('carcinomas', 'The majority of these are basal cell carcinomas.')\n",
      "8. ('sclerosis', 'Multiple sclerosis -Citizendium')\n",
      "9. ('haemophilia', 'Haemophilia A happens in about 1 in 5,000–10,000 male births.')\n",
      "10. ('hematomas', 'About 15% to 20% of people with epidural hematomas die from them.')\n",
      "11. ('ciliopathies', 'The underlying cause of the ciliopathies may be defects in the mechanism of cilia in the cell.')\n",
      "12. ('arteriosclerosis', 'Mönckeberg Arteriosclerosis.')\n"
     ]
    },
    {
     "name": "stderr",
     "output_type": "stream",
     "text": [
      "\r",
      " 36%|███▌      | 31/87 [03:41<07:21,  7.89s/it]"
     ]
    },
    {
     "name": "stdout",
     "output_type": "stream",
     "text": [
      " \n",
      "query_sent:  Do a bronchoscopy, it'll set off a laryngospasm.\n",
      "query_word:  laryngospasm\n",
      "Top substitutions:\n",
      "1. ('hypoglycemia', 'Very bad hypoglycemia can look exactly like a stroke.')\n",
      "2. ('glaucoma', 'If a person who has glaucoma does not get help from a doctor, they will not be able to see.')\n",
      "3. ('bronchiectasis', 'People with bronchiectasis have pain in their chests.')\n",
      "4. ('esophageal', 'One sign of esophageal candidiasis is painful swallowing.')\n",
      "5. ('hemorrhagic', 'Most commonly this is a stroke or mini-stroke and sometimes can be a hemorrhagic stroke.')\n",
      "6. ('pneumothorax', 'Complex pneumothorax will need medical attention.')\n",
      "7. ('dyskinesia', 'But some other people can get tardive dyskinesia too.')\n",
      "8. ('thrombosis', 'This might be due to thrombosis.')\n",
      "9. ('laryngeal', 'Croup also can be laryngeal diphtheria, bacterial tracheitis, laryngotracheobronchitis, and laryngotracheobronchopneumonitis.')\n",
      "10. ('osteoarthritis', 'The three most common kinds are osteoarthritis, rheumatoid arthritis, and gout.')\n",
      "11. ('laryngotracheitis', 'Some people call severe laryngotracheitis croup.')\n",
      "12. ('diphtheria', 'Croup also can be laryngeal diphtheria, bacterial tracheitis, laryngotracheobronchitis, and laryngotracheobronchopneumonitis.')\n"
     ]
    },
    {
     "name": "stderr",
     "output_type": "stream",
     "text": [
      "\r",
      " 37%|███▋      | 32/87 [03:47<06:51,  7.48s/it]"
     ]
    },
    {
     "name": "stdout",
     "output_type": "stream",
     "text": [
      " \n",
      "query_sent:  If she had porphyria, you would have seen purple urine.\n",
      "query_word:  porphyria\n",
      "Top substitutions:\n",
      "1. ('syphilis', 'Antibiotic medication breaks open syphilis bacteria to kill them.')\n",
      "2. ('porphyrins', 'They have disorders of certain enzymes which normally work in the production of porphyrins and heme.')\n",
      "3. ('anaphylaxis', 'Later, the name was changed to \" anaphylaxis \" because it sounded nicer.')\n",
      "4. ('polydipsia', 'Three of the early signs of hyperglycemia are \" the 3 polys \" : polydipsia (feeling very thirsty), polyphagia (feeling very hungry), and polyuria (urinating a lot).')\n",
      "5. ('pyelonephritis', 'In the upper urinary tract, it is known as pyelonephritis (a kidney infection).')\n",
      "6. ('cystocele', 'Some women can have repeated urine infections if they have a cystocele.')\n",
      "7. ('psoriasis', 'Washing with Psoriasis removes the dry skin, but then the skin underneath is raw.')\n",
      "8. ('metacyclic', 'The sandflies inject the infective stage, metacyclic promastigotes, during blood meals (1).')\n",
      "9. ('cyanosis', 'When a person has cyanosis, their skin and mucous membranes turn blue or purple.')\n",
      "10. ('trichomoniasis', \"Without treatment, trichomoniasis can stay in a woman's body for months to years.\")\n",
      "11. ('dehydration', 'Bad dehydration can hurt the kidneys.')\n",
      "12. ('chlamydia', 'The infection is not caused by the same bacteria that cause genital chlamydia.')\n"
     ]
    },
    {
     "name": "stderr",
     "output_type": "stream",
     "text": [
      "\r",
      " 38%|███▊      | 33/87 [03:55<06:48,  7.56s/it]"
     ]
    },
    {
     "name": "stdout",
     "output_type": "stream",
     "text": [
      " \n",
      "query_sent:  If you're wrong about porphyria, the treatment could box her kidneys.\n",
      "query_word:  porphyria\n",
      "Top substitutions:\n",
      "1. ('anaphylaxis', 'Doctors can prescribe EpiPens to people who know they have allergies, so they can treat themselves for anaphylaxis.')\n",
      "2. ('hypoglycemia', 'In the worst cases, when the blood sugar is very low, hypoglycemia is treated by giving sugar water intravenously (through a needle placed into a vein).')\n",
      "3. ('polycythemia', 'Gout often makes these other problems worse or harder to treat: polycythemia, lead poisoning, renal failure, hemolytic anemia, psoriasis, and solid organ transplants.')\n",
      "4. ('syphilis', 'Antibiotic medication breaks open syphilis bacteria to kill them.')\n",
      "5. ('hemophilia', 'To treat this, an affected person can get a blood donation from someone without hemophilia.')\n",
      "6. ('trichomoniasis', \"Without treatment, trichomoniasis can stay in a woman's body for months to years.\")\n",
      "7. ('psoriasis', 'Gout often makes these other problems worse or harder to treat: polycythemia, lead poisoning, renal failure, hemolytic anemia, psoriasis, and solid organ transplants.')\n",
      "8. ('cystocele', 'Even if cystocele is treated, there is about a 50% chance that it will happen again.')\n",
      "9. ('cyanosis', 'When a person has cyanosis, their skin and mucous membranes turn blue or purple.')\n",
      "10. ('pyelonephritis', 'Pyelonephritis is the most common cause of hospital acquired infections, accounting for approximately 40% of hospital-acquired infections.')\n",
      "11. ('coeliac', 'To relieve the effects of coeliac disease, one must stop eating gluten.')\n",
      "12. ('poliomyelitis', 'REDIRECT Poliomyelitis')\n"
     ]
    },
    {
     "name": "stderr",
     "output_type": "stream",
     "text": [
      "\r",
      " 39%|███▉      | 34/87 [04:02<06:30,  7.37s/it]"
     ]
    },
    {
     "name": "stdout",
     "output_type": "stream",
     "text": [
      " \n",
      "query_sent:  Also, many blind people have nystagmus, which is one reason that some wear dark glasses.\n",
      "query_word:  nystagmus\n",
      "Top substitutions:\n",
      "1. ('glaucoma', 'When sight is lost from glaucoma, it cannot be recovered.')\n",
      "2. ('dyskinesia', 'The person with tardive dyskinesia cannot stop or control these movements.')\n",
      "3. ('amblyopia', 'Amblyopia, more commonly called lazy eye, is a condition that affects the eye.')\n",
      "4. ('epilepsy', 'Many people with epilepsy have an aura before having a seizure.')\n",
      "5. ('astigmatism', 'Astigmatism does not affect the health of the eye, and eyes with astigmatism can be perfectly healthy.')\n",
      "6. ('hemiplegia', 'Symptoms might include: hemiplegia (an inability to move one or more limbs on one side of the body), aphasia (inability to understand or use language), or an inability to see one side of the visual field.')\n",
      "7. ('dysgraphia', 'People with dysgraphia can move their hand enough, and are also capable of understanding how to write.')\n",
      "8. ('hyperacusis', 'Loud sounds can make tinnitus for these people worse   Similarly to other hearing problems, hyperacusis can occur suddenly or gradually over time and is a problem that can affect people of all different ages in one or both ears.')\n",
      "9. ('dyslexia', 'A person can have dyslexia even if he or she is very smart or educated.')\n",
      "10. ('prosopagnosia', 'Doctors can check patients for prosopagnosia by using PET and fMRI scans to see if their brain reacts when they see faces.')\n",
      "11. ('bronchiectasis', 'People can be born with bronchiectasis or they can develop it later.')\n",
      "12. ('chorea', 'People with chorea move without being able to control those movements.')\n"
     ]
    },
    {
     "name": "stderr",
     "output_type": "stream",
     "text": [
      "\r",
      " 40%|████      | 35/87 [04:10<06:32,  7.54s/it]"
     ]
    },
    {
     "name": "stdout",
     "output_type": "stream",
     "text": [
      " \n",
      "query_sent:  There are two key forms of nystagmus: pathological and physiological, with variations within each type.\n",
      "query_word:  nystagmus\n",
      "Top substitutions:\n",
      "1. ('pneumothorax', 'A Pneumothorax can occur for no obvious reason (spontaneous).')\n",
      "2. ('rhabdomyosarcoma', 'The choice of how to treat rhabdomyosarcoma depends on many things.')\n",
      "3. ('glaucoma', 'There are two kinds of glaucoma, the kind that happens very fast, and the kind that happens slowly, over a long time.')\n",
      "4. ('astigmatism', 'Astigmatism does not affect the health of the eye, and eyes with astigmatism can be perfectly healthy.')\n",
      "5. ('neurosarcoidosis', 'If it does, it is called neurosarcoidosis.')\n",
      "6. ('pheochromocytomas', 'Most adrenal pheochromocytomas and all adrenocortical adenomas are benign tumors, which do not metastasize or destroy nearby tissues, but may cause significant health problems by unbalancing hormones.')\n",
      "7. ('myositis', 'Some conditions, such as myositis, can be considered both neuromuscular and musculoskeletal.')\n",
      "8. ('dysthymia', 'However, even though both disorders have similar symptoms, these symptoms are usually less severe with dysthymia.')\n",
      "9. ('scotoma', 'The lines may be gray or colored and the brightness may change from darker to lighter so that they appear to be flickering then the fortification scotoma may be called a scintillating scotoma.')\n",
      "10. ('prosopagnosia', 'Doctors can check patients for prosopagnosia by using PET and fMRI scans to see if their brain reacts when they see faces.')\n",
      "11. ('diphtheria', 'This type of diphtheria is called cutaneous diphtheria.')\n",
      "12. ('trichomoniasis', 'Most people with trichomoniasis do not have any symptoms.')\n"
     ]
    },
    {
     "name": "stderr",
     "output_type": "stream",
     "text": [
      "\r",
      " 41%|████▏     | 36/87 [04:17<06:24,  7.54s/it]"
     ]
    },
    {
     "name": "stdout",
     "output_type": "stream",
     "text": [
      " \n",
      "query_sent:  People with bronchiectasis may have bad breath indicative of active infection.\n",
      "query_word:  bronchiectasis\n",
      "Top substitutions:\n",
      "1. ('bronchiolitis', 'Many things can cause bronchiolitis.')\n",
      "2. ('bronchitis', 'The medicine used to treat bronchitis may not be the same as those used to treat bronchiolitis.')\n",
      "3. ('hypoglycemia', 'Very bad hypoglycemia can look exactly like a stroke.')\n",
      "4. ('diphtheria', 'People with cutaneous diphtheria may get ulcers, covered by a gray membrane, on their skin.')\n",
      "5. ('thrombosis', 'This delivery system can cause sepsis and thrombosis.')\n",
      "6. ('rheumatoid', 'People who have rheumatoid arthiritis and smoke are ten times more likely to have the disease.')\n",
      "7. ('hypertension', 'People with pulmonary hypertension have difficulty breathing.')\n",
      "8. ('tachycardia', 'Ventricular tachycardia can also cause low blood pressure.')\n",
      "9. ('glaucoma', 'A family history of glaucoma is a risk factor.')\n",
      "10. ('pancreatitis', 'Causes may include sepsis, pancreatitis, trauma, pneumonia, and aspiration.')\n",
      "11. ('pneumothorax', 'Some other symptoms of Pneumothorax are shortness of breath, rapid breathing, and coughing.')\n",
      "12. ('pharyngitis', 'The common cold primarily affects the nose, pharyngitis primarily affects the throat, and bronchitis primarily affects the lungs.')\n"
     ]
    },
    {
     "name": "stderr",
     "output_type": "stream",
     "text": [
      "\r",
      " 43%|████▎     | 37/87 [04:25<06:24,  7.69s/it]"
     ]
    },
    {
     "name": "stdout",
     "output_type": "stream",
     "text": [
      " \n",
      "query_sent:  Some people with bronchiectasis may produce frequent green/yellow sputum (up to 240ml (8 oz) daily).\n",
      "query_word:  bronchiectasis\n",
      "Top substitutions:\n",
      "1. ('bronchiolitis', 'Usually treatment for bronchiolitis is to make the person as comfortable as possible.')\n",
      "2. ('bronchitis', 'The medicine used to treat bronchitis may not be the same as those used to treat bronchiolitis.')\n",
      "3. ('diphtheria', 'People with cutaneous diphtheria may get ulcers, covered by a gray membrane, on their skin.')\n",
      "4. ('glaucoma', 'A family history of glaucoma is a risk factor.')\n",
      "5. ('bronchospasms', 'Some of the things that can cause bronchospasms are: consuming foods, taking medicines, allergic responses to insects, and hormone levels, particularly in women.')\n",
      "6. ('hypoglycemia', 'Very bad hypoglycemia can look exactly like a stroke.')\n",
      "7. ('rhabdomyosarcoma', 'For example, adults with rhabdomyosarcoma usually have tumors that grow faster and are harder to treat.')\n",
      "8. ('anaphylaxis', 'More than 90% of children who die from anaphylaxis have asthma.')\n",
      "9. ('thrombosis', 'This might be due to thrombosis.')\n",
      "10. ('angioedema', 'People with angioedema may feel like their skin is burning instead of itching.')\n",
      "11. ('atherosclerosis', 'People with atherosclerosis must also be watched by doctors to make sure they do not get ischemia or infarction.')\n",
      "12. ('vasculitis', 'Lymphangitis is sometimes considered a type of vasculitis.')\n"
     ]
    },
    {
     "name": "stderr",
     "output_type": "stream",
     "text": [
      "\r",
      " 44%|████▎     | 38/87 [04:34<06:26,  7.89s/it]"
     ]
    },
    {
     "name": "stdout",
     "output_type": "stream",
     "text": [
      " \n",
      "query_sent:  Bronchiectasis has both congenital and acquired causes, with the latter more frequent.\n",
      "query_word:  Bronchiectasis\n",
      "Top substitutions:\n",
      "1. ('endocarditis', 'Endocarditis most often affects the heart valves.')\n",
      "2. ('nephritis', 'Nephritis can produce glomerular injury, by disturbing the glomerular structure with inflammatory cell proliferation.')\n",
      "3. ('myelodysplastic', 'Myelodysplastic syndromes affect the bone marrow stem cells.')\n",
      "4. ('sarcoidosis', 'Sarcoidosis may involve the brain.')\n",
      "5. ('encephalitis', 'Encephalitis can cause serious symptoms, like seizures and strokes, and can be fatal.')\n",
      "6. ('bronchospasms', 'Bronchospasms can be caused by asthma, chronic bronchitis and anaphylaxis.')\n",
      "7. ('hypoglycemia', 'Hypoglycemia can cause many symptoms.')\n",
      "8. ('bronchiolitis', 'The disease Bronchiolitis is not the same as Bronchitis.')\n",
      "9. ('glaucoma', 'Glaucoma, particularly primary open-angle glaucoma, is associated with mutations in several different genes   Also, the likelihood of it happening is different in different populations.')\n",
      "10. ('acromegaly', 'Acromegaly is hard to diagnose when it is just beginning.')\n",
      "11. ('lymphangitis', 'Lymphangitis is sometimes considered a type of vasculitis.')\n",
      "12. ('vasculitis', 'Vasculitis is primarily caused by leukocyte migration and resultant damage.')\n"
     ]
    },
    {
     "name": "stderr",
     "output_type": "stream",
     "text": [
      "\r",
      " 45%|████▍     | 39/87 [04:41<06:16,  7.85s/it]"
     ]
    },
    {
     "name": "stdout",
     "output_type": "stream",
     "text": [
      " \n",
      "query_sent:  However, Satie's military career did not last very long; within a few months he was discharged after deliberately infecting himself with bronchitis.\n",
      "query_word:  bronchitis\n",
      "Top substitutions:\n",
      "1. ('bronchiolitis', 'The medicine used to treat bronchitis may not be the same as those used to treat bronchiolitis.')\n",
      "2. ('bronchiectasis', 'Some people with bronchiectasis have sinusitis that does not go away.')\n",
      "3. ('meningitis', 'For this reason, in certain countries, like Germany, doctors have to tell the authorities that someone might have meningitis.')\n",
      "4. ('pharyngitis', 'The common cold primarily affects the nose, pharyngitis primarily affects the throat, and bronchitis primarily affects the lungs.')\n",
      "5. ('diarrhea', 'Because digestion has suddenly stopped, the person may have nausea, diarrhea, or other gastrointestinal problems.')\n",
      "6. ('hypoglycemia', 'Causes of pallor may include migraines, headache, hypoglycemia, anemia or scarlet fever.')\n",
      "7. ('syphilis', 'Although some patients died from malaria, this was preferable to the almost-certain death from syphilis.')\n",
      "8. ('pancreatitis', 'Causes may include sepsis, pancreatitis, trauma, pneumonia, and aspiration.')\n",
      "9. ('diarrhoea', 'Lean and weak, swelling limbs, less developed muscles, dry skin, diarrhoea, etc.., are the symptoms of this disease.')\n",
      "10. ('bronchial', 'The lower respiratory tract consists of the trachea (wind pipe), bronchial tubes, the bronchioles, and the lungs.')\n",
      "11. ('appendicitis', 'It can be caused by different things, including food poisoning, indigestion, constipation, gastritis, an ulcer, hunger, appendicitis, stomach cancer or diverticulitis.')\n",
      "12. ('fibrosis', 'This sometimes happens when the lung is already injured somehow, like from diseases such as cancer or cystic fibrosis.')\n"
     ]
    },
    {
     "name": "stderr",
     "output_type": "stream",
     "text": [
      "\r",
      " 46%|████▌     | 40/87 [04:48<05:55,  7.57s/it]"
     ]
    },
    {
     "name": "stdout",
     "output_type": "stream",
     "text": [
      " \n",
      "query_sent:  In January 1876, his father died of bronchitis following a long period of depression.\n",
      "query_word:  bronchitis\n",
      "Top substitutions:\n",
      "1. ('bronchiolitis', 'The medicine used to treat bronchitis may not be the same as those used to treat bronchiolitis.')\n",
      "2. ('meningitis', 'For this reason, in certain countries, like Germany, doctors have to tell the authorities that someone might have meningitis.')\n",
      "3. ('tracheitis', 'Other uncommon complications include bacterial tracheitis (infection of the trachea), pneumonia (lung infection), and pulmonary edema (fluid in the lungs).')\n",
      "4. ('pharyngitis', 'The common cold primarily affects the nose, pharyngitis primarily affects the throat, and bronchitis primarily affects the lungs.')\n",
      "5. ('syphilis', 'Although some patients died from malaria, this was preferable to the almost-certain death from syphilis.')\n",
      "6. ('bronchial', 'The lower respiratory tract consists of the trachea (wind pipe), bronchial tubes, the bronchioles, and the lungs.')\n",
      "7. ('bronchiectasis', '3 out of 4 people with bronchiectasis often cough up a lot of sputum.')\n",
      "8. ('fever', 'Wolfgang Mozart, the famous composer famously died of rheumatic fever.')\n",
      "9. ('hypoglycemia', 'Causes of pallor may include migraines, headache, hypoglycemia, anemia or scarlet fever.')\n",
      "10. ('rheumatic', 'Wolfgang Mozart, the famous composer famously died of rheumatic fever.')\n",
      "11. ('anaemia', 'Other causes of jaundice are pernicious anaemia and diseases affecting the liver such as typhoid, malaria, yellow fever and tuberculosis.')\n",
      "12. ('bursitis', 'You can also have bursitis in your elbow, knee and toe.')\n"
     ]
    },
    {
     "name": "stderr",
     "output_type": "stream",
     "text": [
      "\r",
      " 47%|████▋     | 41/87 [04:55<05:37,  7.35s/it]"
     ]
    },
    {
     "name": "stdout",
     "output_type": "stream",
     "text": [
      " \n",
      "query_sent:  She died in The Hague on 20 March 1934, of complications from bronchitis at the age of 75, and was buried in Delft.\n",
      "query_word:  bronchitis\n",
      "Top substitutions:\n",
      "1. ('bronchiolitis', 'The medicine used to treat bronchitis may not be the same as those used to treat bronchiolitis.')\n",
      "2. ('bronchiectasis', 'Some people with bronchiectasis have sinusitis that does not go away.')\n",
      "3. ('pharyngitis', 'The common cold primarily affects the nose, pharyngitis primarily affects the throat, and bronchitis primarily affects the lungs.')\n",
      "4. ('meningitis', 'For this reason, in certain countries, like Germany, doctors have to tell the authorities that someone might have meningitis.')\n",
      "5. ('conjunctivitis', 'People who do have symptoms usually have a low fever, conjunctivitis, joint pain (mainly in the hands and feet), and a rash.')\n",
      "6. ('fibrosis', 'This sometimes happens when the lung is already injured somehow, like from diseases such as cancer or cystic fibrosis.')\n",
      "7. ('hypoglycemia', 'Causes of pallor may include migraines, headache, hypoglycemia, anemia or scarlet fever.')\n",
      "8. ('syphilis', 'Although some patients died from malaria, this was preferable to the almost-certain death from syphilis.')\n",
      "9. ('tracheitis', 'Other uncommon complications include bacterial tracheitis (infection of the trachea), pneumonia (lung infection), and pulmonary edema (fluid in the lungs).')\n",
      "10. ('fever', 'Wolfgang Mozart, the famous composer famously died of rheumatic fever.')\n",
      "11. ('thrombosis', 'This delivery system can cause sepsis and thrombosis.')\n",
      "12. ('pancreatitis', 'Causes include perforation of the intestinal tract, pancreatitis, pelvic inflammatory disease, stomach ulcer, cirrhosis, or a ruptured appendix.')\n"
     ]
    },
    {
     "name": "stderr",
     "output_type": "stream",
     "text": [
      "\r",
      " 48%|████▊     | 42/87 [05:02<05:24,  7.21s/it]"
     ]
    },
    {
     "name": "stdout",
     "output_type": "stream",
     "text": [
      " \n",
      "query_sent:  She died in The Hague on 20 March 1934, of complications from bronchitis at the age of 75.\n",
      "query_word:  bronchitis\n",
      "Top substitutions:\n",
      "1. ('bronchiolitis', 'The medicine used to treat bronchitis may not be the same as those used to treat bronchiolitis.')\n",
      "2. ('bronchiectasis', 'Some people with bronchiectasis have sinusitis that does not go away.')\n",
      "3. ('pharyngitis', 'The common cold primarily affects the nose, pharyngitis primarily affects the throat, and bronchitis primarily affects the lungs.')\n",
      "4. ('meningitis', 'For this reason, in certain countries, like Germany, doctors have to tell the authorities that someone might have meningitis.')\n",
      "5. ('conjunctivitis', 'People who do have symptoms usually have a low fever, conjunctivitis, joint pain (mainly in the hands and feet), and a rash.')\n",
      "6. ('fibrosis', 'It is often found in people with cystic fibrosis.')\n",
      "7. ('hypoglycemia', 'Causes of pallor may include migraines, headache, hypoglycemia, anemia or scarlet fever.')\n",
      "8. ('thrombosis', 'This delivery system can cause sepsis and thrombosis.')\n",
      "9. ('tracheitis', 'Other uncommon complications include bacterial tracheitis (infection of the trachea), pneumonia (lung infection), and pulmonary edema (fluid in the lungs).')\n",
      "10. ('syphilis', 'Although some patients died from malaria, this was preferable to the almost-certain death from syphilis.')\n",
      "11. ('pancreatitis', 'Causes may include sepsis, pancreatitis, trauma, pneumonia, and aspiration.')\n",
      "12. ('bronchial', 'The lower respiratory tract consists of the trachea (wind pipe), bronchial tubes, the bronchioles, and the lungs.')\n"
     ]
    },
    {
     "name": "stderr",
     "output_type": "stream",
     "text": [
      "\r",
      " 49%|████▉     | 43/87 [05:09<05:13,  7.12s/it]"
     ]
    },
    {
     "name": "stdout",
     "output_type": "stream",
     "text": [
      " \n",
      "query_sent:  Menuhin died in Martin Luther Hospital, Berlin, Germany, from complications of bronchitis.\n",
      "query_word:  bronchitis\n",
      "Top substitutions:\n",
      "1. ('bronchiolitis', 'The medicine used to treat bronchitis may not be the same as those used to treat bronchiolitis.')\n",
      "2. ('bronchiectasis', 'Some people with bronchiectasis have sinusitis that does not go away.')\n",
      "3. ('meningitis', 'For this reason, in certain countries, like Germany, doctors have to tell the authorities that someone might have meningitis.')\n",
      "4. ('tracheitis', 'Other uncommon complications include bacterial tracheitis (infection of the trachea), pneumonia (lung infection), and pulmonary edema (fluid in the lungs).')\n",
      "5. ('bronchial', 'The lower respiratory tract consists of the trachea (wind pipe), bronchial tubes, the bronchioles, and the lungs.')\n",
      "6. ('conjunctivitis', 'People who do have symptoms usually have a low fever, conjunctivitis, joint pain (mainly in the hands and feet), and a rash.')\n",
      "7. ('pharyngitis', 'Most of the time, it is caused by viral pharyngitis.')\n",
      "8. ('fibrosis', 'It is often found in people with cystic fibrosis.')\n",
      "9. ('rheumatic', 'Wolfgang Mozart, the famous composer famously died of rheumatic fever.')\n",
      "10. ('vasculitis', 'Lymphangitis is sometimes considered a type of vasculitis.')\n",
      "11. ('pancreatitis', 'Causes may include sepsis, pancreatitis, trauma, pneumonia, and aspiration.')\n",
      "12. ('appendicitis', 'Therefore immediate treatment in hospital is needed for appendicitis.')\n"
     ]
    },
    {
     "name": "stderr",
     "output_type": "stream",
     "text": [
      "\r",
      " 51%|█████     | 44/87 [05:16<05:00,  6.98s/it]"
     ]
    },
    {
     "name": "stdout",
     "output_type": "stream",
     "text": [
      " \n",
      "query_sent:  It is one of the rarest forms of synesthesia.\n",
      "query_word:  synesthesia\n",
      "Top substitutions:\n",
      "1. ('synesthetes', 'People who have synesthesia are called synesthetes.')\n",
      "2. ('psychosis', 'They may also experience psychosis, where they cannot tell what is real and what is not.')\n",
      "3. ('neuropathic', 'This is called neuropathic pain.')\n",
      "4. ('glaucoma', 'There are two kinds of glaucoma, the kind that happens very fast, and the kind that happens slowly, over a long time.')\n",
      "5. ('epilepsy', 'There are many different forms of seizures, and there are also many different forms of epilepsy.')\n",
      "6. ('paresthesia', 'The tingling feeling you get when you move is paresthesia.')\n",
      "7. ('hyperactivity', 'This can cause seizures and hyperactivity.')\n",
      "8. ('tachycardia', 'This is called postural tachycardia.')\n",
      "9. ('hallucinations', 'There can be other types of auditory hallucinations besides these three.')\n",
      "10. ('paresthesias', \"According to DSM-5, a person is having a panic attack if they suddenly start feeling very scared and have four or more of these symptoms:   Palpitations (a pounding heart) or fast heart rate   Sweating   Trembling or shaking   Feeling unable to breathe   Feeling of choking   Chest pain or discomfort   Nausea or other gastrointestinal problems   Feeling dizzy, unsteady, lightheaded, or faint   Feeling hot, or feeling chills   Paresthesias (numbness or tingling feelings)   Derealization (feelings of not being real) or depersonalization (feeling detached from oneself)   Fear of losing control or going crazy   Fear of dying   Panic attacks happen when the body's natural fight or flight response gets overprotective.\")\n",
      "11. ('synaesthesia', 'Synesthesia, or synaesthesia, is a condition where the brain mixes up the senses.')\n",
      "12. ('anesthesia', 'Bronchospasms are a serious potential complication of placing a breathing tube during general anesthesia.')\n"
     ]
    },
    {
     "name": "stderr",
     "output_type": "stream",
     "text": [
      "\r",
      " 52%|█████▏    | 45/87 [05:23<04:57,  7.08s/it]"
     ]
    },
    {
     "name": "stdout",
     "output_type": "stream",
     "text": [
      " \n",
      "query_sent:  An outbreak of tularemia occurred in Kosovo in 1999-2000.\n",
      "query_word:  tularemia\n",
      "Top substitutions:\n",
      "1. ('syphilis', 'In sub-Saharan Africa, syphilis causes up to 20% of perinatal deaths (deaths that happen soon after a baby is born).')\n",
      "2. ('encephalitis', 'In 2013, encephalitis killed about 77,000 people in the world.')\n",
      "3. ('staphylococcus', 'When it is caused by Staphylococcus aureus, the symptoms are generally high fever, low blood pressure, confusion, and malaise.')\n",
      "4. ('mononucleosis', 'Infectious mononucleosis can cause swollen lymph nodes in the neck and a sore throat, fever, and it can make the tonsils get bigger.')\n",
      "5. ('hemorrhagic', 'However, a small number of people get dengue hemorrhagic fever or dengue shock syndrome.')\n",
      "6. ('septicemic', 'Like the others, the septicemic plague spread from the East through trade routes on the Black Sea and down to the Mediterranean Sea.')\n",
      "7. ('anemia', 'Viruses that are believed to cause leukemia include:   Human immunodeficiency virus or HIV   Human T-lymphotropic virus   Fanconi anemia is also a risk factor for developing acute myelogenous leukemia.')\n",
      "8. ('melanoma', 'According to a report by the WHO, about 48,000 people die of melanoma every year.')\n",
      "9. ('candidiasis', 'A weakened, unhealthy, or young immune system may allow candidiasis to develop.')\n",
      "10. ('trichomoniasis', 'In the U.S., about 3.7 million people have trichomoniasis, and about 1.1 million more people get infected every year.')\n",
      "11. ('helicobacter', 'Most stomach cancer is caused by Helicobacter pylori infection.')\n",
      "12. ('falciparum', 'Falciparum malaria is the worst kind, and kills the most people.')\n"
     ]
    },
    {
     "name": "stderr",
     "output_type": "stream",
     "text": [
      "\r",
      " 53%|█████▎    | 46/87 [05:30<04:52,  7.14s/it]"
     ]
    },
    {
     "name": "stdout",
     "output_type": "stream",
     "text": [
      " \n",
      "query_sent:  Over the following summers, Martha's Vineyard was identified as the only place in the world where documented cases of tularemia resulted from lawn mowing.\n",
      "query_word:  tularemia\n",
      "Top substitutions:\n",
      "1. ('encephalitis', 'There are also vaccines for rabies, bacterial meningitis, Japanese encephalitis, Human Papillomavirus (HPV), and some other diseases that can cause encephalitis.')\n",
      "2. ('syphilis', 'In sub-Saharan Africa, syphilis causes up to 20% of perinatal deaths (deaths that happen soon after a baby is born).')\n",
      "3. ('diphtheria', 'Infected people who do not know they have diphtheria are called carriers of diphtheria, because they can spread the infection without being sick themselves.')\n",
      "4. ('hemorrhagic', 'However, a small number of people get dengue hemorrhagic fever or dengue shock syndrome.')\n",
      "5. ('staphylococcus', 'If the disease is not treated, someone with toxic shock syndrome caused by Staphylococcus aureus can go into a coma.')\n",
      "6. ('meningococcal', 'Dengue can also have some of the same symptoms as other diseases, like malaria, leptospirosis, typhoid fever, and meningococcal disease.')\n",
      "7. ('melanoma', 'According to a report by the WHO, about 48,000 people die of melanoma every year.')\n",
      "8. ('staphylococcal', 'Boil might mean:   Boiling, heating a liquid to the point where it turns into gas   Boil, a type of Staphylococcal infection')\n",
      "9. ('meningitis', 'There are over 2,600 cases of bacterial meningitis in the United States per year.')\n",
      "10. ('anemia', 'It can cause blackwater fever, jaundice, and symptoms of anemia.')\n",
      "11. ('bubonic', 'In the 20th century, some countries did research on the bacteria that causes bubonic plague.')\n",
      "12. ('hypoglycemia', 'In the worst cases, when the blood sugar is very low, hypoglycemia is treated by giving sugar water intravenously (through a needle placed into a vein).')\n"
     ]
    },
    {
     "name": "stderr",
     "output_type": "stream",
     "text": [
      "\r",
      " 54%|█████▍    | 47/87 [05:36<04:34,  6.85s/it]"
     ]
    },
    {
     "name": "stdout",
     "output_type": "stream",
     "text": [
      " \n",
      "query_sent:  Tularemia is not spread directly from person to person.\n",
      "query_word:  Tularemia\n",
      "Top substitutions:\n",
      "1. ('hypoglycemia', 'Hypoglycemia is treated by returning the blood sugar levels back to normal.')\n",
      "2. ('anemia', 'Aplastic Anemia can be treated by a medical professional.')\n",
      "3. ('sarcoidosis', 'Sarcoidosis may involve the brain.')\n",
      "4. ('acromegaly', 'Acromegaly is hard to diagnose when it is just beginning.')\n",
      "5. ('psittacosis', 'Psittacosis can be easily treated with antibiotics, especially with Tetracycline.')\n",
      "6. ('gonorrhea', 'Gonorrhea is a disease.')\n",
      "7. ('angioedema', 'Angioedema may be caused by an allergic reaction.')\n",
      "8. ('chorea', 'Chorea can develop as a complication of pregnancy.')\n",
      "9. ('myelodysplastic', 'Myelodysplastic syndromes affect the bone marrow stem cells.')\n",
      "10. ('endometriosis', 'Endometriosis can be treated by a doctor.')\n",
      "11. ('otitis', 'Otitis interna affects the inner ear.')\n",
      "12. ('tonsillitis', 'Tonsillitis is spread by human contact.')\n"
     ]
    },
    {
     "name": "stderr",
     "output_type": "stream",
     "text": [
      "\r",
      " 55%|█████▌    | 48/87 [05:43<04:25,  6.80s/it]"
     ]
    },
    {
     "name": "stdout",
     "output_type": "stream",
     "text": [
      " \n",
      "query_sent:  There is currently no effective treatment or cure for akinetopsia.\n",
      "query_word:  akinetopsia\n",
      "Top substitutions:\n",
      "1. ('pneumothorax', 'The most common symptoms of Pneumothorax are chest pains.')\n",
      "2. ('anaphylaxis', 'About 0.7% to 20% of people with anaphylaxis die from it.')\n",
      "3. ('haemophilia', 'Haemophilia B - not as severe, but much less common.')\n",
      "4. ('dyskinesia', 'The United States Food and Drug Administration (FDA) has not approved any medicines to treat the symptoms of tardive dyskinesia.')\n",
      "5. ('diphtheria', 'Croup due to diphtheria has become nearly unknown since most people are immunized.')\n",
      "6. ('subarachnoid', 'About half of all people with subarachnoid hemorrhages die from them.')\n",
      "7. ('trichomoniasis', 'Most people with trichomoniasis do not have any symptoms.')\n",
      "8. ('hypercholesterolemia', 'There are other kinds of medicines to treat hypercholesterolemia.')\n",
      "9. ('polydipsia', 'Three of the early signs of hyperglycemia are \" the 3 polys \" : polydipsia (feeling very thirsty), polyphagia (feeling very hungry), and polyuria (urinating a lot).')\n",
      "10. ('pyelonephritis', 'Pyelonephritis is the most common cause of hospital acquired infections, accounting for approximately 40% of hospital-acquired infections.')\n",
      "11. ('bronchiectasis', 'The most common symptom of bronchiectasis is a cough that does not go away.')\n",
      "12. ('prosopagnosia', 'Prosopagnosia is not curable or treatable.')\n"
     ]
    },
    {
     "name": "stderr",
     "output_type": "stream",
     "text": [
      "\r",
      " 56%|█████▋    | 49/87 [05:52<04:42,  7.44s/it]"
     ]
    },
    {
     "name": "stdout",
     "output_type": "stream",
     "text": [
      " \n",
      "query_sent:  Patients with akinetopsia struggle with many issues in their day-to-day life, depending on the severity of their condition.\n",
      "query_word:  akinetopsia\n",
      "Top substitutions:\n",
      "1. ('pneumothorax', 'The most common symptoms of Pneumothorax are chest pains.')\n",
      "2. ('haemophilia', 'A person with haemophilia is called a haemophiliac.')\n",
      "3. ('polydipsia', 'Three of the early signs of hyperglycemia are \" the 3 polys \" : polydipsia (feeling very thirsty), polyphagia (feeling very hungry), and polyuria (urinating a lot).')\n",
      "4. ('dyskinesia', 'Most people who get tardive dyskinesia are people who have schizophrenia, schizoaffective disorder, or bipolar disorder, and have been on antipsychotic medicines for a long time.')\n",
      "5. ('anaphylaxis', 'One study of children with anaphylaxis found that 60% had a history of previous atopic diseases.')\n",
      "6. ('atherosclerosis', 'People with atherosclerosis must also be watched by doctors to make sure they do not get ischemia or infarction.')\n",
      "7. ('diphtheria', 'People with cutaneous diphtheria may get ulcers, covered by a gray membrane, on their skin.')\n",
      "8. ('trichomoniasis', 'Most people with trichomoniasis do not have any symptoms.')\n",
      "9. ('amblyopia', 'Amblyopia, more commonly called lazy eye, is a condition that affects the eye.')\n",
      "10. ('pyelonephritis', 'A UTI in the upper urinary tract is known as pyelonephritis or kidney infection.')\n",
      "11. ('cystocele', 'Other things that may cause cystocele is having a hysterectomy, a family history of cystocele and being overweight.')\n",
      "12. ('leukodystrophy', 'In a leukodystrophy, there are problems with the growth or the development of this cover.')\n"
     ]
    },
    {
     "name": "stderr",
     "output_type": "stream",
     "text": [
      "\r",
      " 57%|█████▋    | 50/87 [06:01<04:53,  7.94s/it]"
     ]
    },
    {
     "name": "stdout",
     "output_type": "stream",
     "text": [
      " \n",
      "query_sent:  Besides simple perception, akinetopsia also disturbs visuomotor tasks, such as reaching for objects and catching objects.\n",
      "query_word:  akinetopsia\n",
      "Top substitutions:\n",
      "1. ('pneumothorax', 'Some other symptoms of Pneumothorax are shortness of breath, rapid breathing, and coughing.')\n",
      "2. ('dyskinesia', 'People that have this very high risk include:   People with fetal alcohol syndrome   People with other developmental disabilities   People with brain diseases or injuries   The symptoms of tardive dyskinesia are movements of the face, lips, tongue, torso, arms, and legs.')\n",
      "3. ('dyslexia', 'One thing that causes dyslexia is a problem with the central hearing nerve.')\n",
      "4. ('aphasia', 'As with other types of aphasia, the symptoms that accompany PPA depend on what parts of the left hemisphere are significantly damaged.')\n",
      "5. ('epilepsy', 'In most cases, epilepsy is caused by scars in the brain.')\n",
      "6. ('prosopagnosia', 'People with this type of prosopagnosia never develop the ability to recognize faces.')\n",
      "7. ('hemiplegia', 'Symptoms might include: hemiplegia (an inability to move one or more limbs on one side of the body), aphasia (inability to understand or use language), or an inability to see one side of the visual field.')\n",
      "8. ('nystagmus', 'When a child with BPVC is not having other symptoms, they may have positional nystagmus, which happens when the head is in a certain position.')\n",
      "9. ('hyperacusis', 'Loud sounds can make tinnitus for these people worse   Similarly to other hearing problems, hyperacusis can occur suddenly or gradually over time and is a problem that can affect people of all different ages in one or both ears.')\n",
      "10. ('dysarthria', 'People with cerebellar ataxia may have trouble with actions like these:   Controlling how hard their muscles contract, how fast, and in what direction   Getting their muscles to work together (asynergy)   Walking (gait abnormality)   Moving their eyes   Swallowing (dysphagia)   Saying words (dysarthria)   Judging how far away something is (dysmetria)   Reacting quickly   Sensory ataxia is caused by the loss of proprioception (knowing where parts of the body are).')\n",
      "11. ('neurosyphilis', 'Late neurosyphilis can cause many serious problems.')\n",
      "12. ('amblyopia', 'Amblyopia, more commonly called lazy eye, is a condition that affects the eye.')\n"
     ]
    },
    {
     "name": "stderr",
     "output_type": "stream",
     "text": [
      "\r",
      " 59%|█████▊    | 51/87 [06:11<05:10,  8.64s/it]"
     ]
    },
    {
     "name": "stdout",
     "output_type": "stream",
     "text": [
      " \n",
      "query_sent:  Inconspicuous akinetopsia can be selectively and temporarily induced using transcranial magnetic stimulation (TMS) of area V5 of the visual cortex in healthy subjects.\n",
      "query_word:  akinetopsia\n",
      "Top substitutions:\n",
      "1. ('dyskinesia', 'Tardive dyskinesia is usually caused by taking antipsychotic medicines in high doses, or for a long time.')\n",
      "2. ('epilepsy', 'In most cases, epilepsy is caused by scars in the brain.')\n",
      "3. ('encephalitis', \"Viral encephalitis can also be caused by a latent virus - a virus that hides from the body's immune system the brain's nerve cells.\")\n",
      "4. ('pneumothorax', 'Some other symptoms of Pneumothorax are shortness of breath, rapid breathing, and coughing.')\n",
      "5. ('aphasia', 'As with other types of aphasia, the symptoms that accompany PPA depend on what parts of the left hemisphere are significantly damaged.')\n",
      "6. ('prosopagnosia', 'Prosopagnosia can be caused by lesions (broken parts of body tissue) in the lower part of the brain.')\n",
      "7. ('pheochromocytomas', 'Most adrenal pheochromocytomas and all adrenocortical adenomas are benign tumors, which do not metastasize or destroy nearby tissues, but may cause significant health problems by unbalancing hormones.')\n",
      "8. ('encephalomyopathic', 'Symptoms can be any combination of myopathic, hepatopathic, or encephalomyopathic.')\n",
      "9. ('trichomoniasis', 'These problems do not happen to everyone with trichomoniasis.')\n",
      "10. ('nystagmus', 'When a child with BPVC is not having other symptoms, they may have positional nystagmus, which happens when the head is in a certain position.')\n",
      "11. ('neurosarcoidosis', 'If it does, it is called neurosarcoidosis.')\n",
      "12. ('adrenoleukodystrophy', 'Adrenoleukodystrophy is a disease that is linked on the X chromosome.')\n"
     ]
    },
    {
     "name": "stderr",
     "output_type": "stream",
     "text": [
      "\r",
      " 60%|█████▉    | 52/87 [06:18<04:41,  8.04s/it]"
     ]
    },
    {
     "name": "stdout",
     "output_type": "stream",
     "text": [
      " \n",
      "query_sent:  Only in a few cases and after many years does it cause demyelination.\n",
      "query_word:  demyelination\n",
      "Top substitutions:\n",
      "1. ('hyperglycemia', 'The goal is to try to dilute the sugar in the blood, and decrease the high levels of hyperglycemia.')\n",
      "2. ('dehydration', 'Sometimes, low blood pressure is caused by dehydration.')\n",
      "3. ('neutrophils', 'If the agranulocytosis is because of a lack of neutrophils (called neutropenia), it is especially bad.')\n",
      "4. ('methemoglobinemia', 'It can cause methemoglobinemia, which means there is higher than normal level of methemoglobin in the blood.')\n",
      "5. ('ketoacidosis', 'These tests will show high blood sugar, which does not happen with other forms of ketoacidosis.')\n",
      "6. ('chloroquine', 'The most important resistance is chloroquine-resistance.')\n",
      "7. ('glycogen', \"Glycogen storage disease type II (Pompe's Disease) is a disease that causes glycogen to accumulate in lysosomes.\")\n",
      "8. ('anaphylatoxins', 'It is caused by the release (degranulation) of substances from mast cells or basophils because of anaphylatoxins.')\n",
      "9. ('porphyrins', 'They have disorders of certain enzymes which normally work in the production of porphyrins and heme.')\n",
      "10. ('azithromycin', 'Usually, people need just one dose of penicillin G or azithromycin.')\n",
      "11. ('immunoglobulin', 'Often patients are given one dose of immunoglobulin and a certain number of vaccines, over a determined period of time, usually a month.')\n",
      "12. ('virulence', 'The aerobiological stability of UL was a major concern, being sensitive to sun light, and losing virulence over time after release.')\n"
     ]
    },
    {
     "name": "stderr",
     "output_type": "stream",
     "text": [
      "\r",
      " 61%|██████    | 53/87 [06:25<04:25,  7.82s/it]"
     ]
    },
    {
     "name": "stdout",
     "output_type": "stream",
     "text": [
      " \n",
      "query_sent:  Ho was diagnosed with cardiomyopathy in 2005 and had a pacemaker implanted.\n",
      "query_word:  cardiomyopathy\n",
      "Top substitutions:\n",
      "1. ('tachycardia', 'If a person has pulseless ventricular tachycardia, they need to be shocked with a defibrillator.')\n",
      "2. ('cardiotoxicity', 'Large doses of quinine can cause:   skin rashes   deafness   sleepiness   blindness   anaphylactic shock   disturbances in abnormal heart rhythm   death from cardiotoxicity.')\n",
      "3. ('cardiopulmonary', 'Then - like in any situation where a person suddenly becomes unconscious and has no pulse - cardiopulmonary resuscitation (CPR) should be started right away.')\n",
      "4. ('bradycardia', 'Also, if bradycardia gets very bad, the heart will be unable to pump enough blood and oxygen to the body.')\n",
      "5. ('idiopathic', 'The chance of sudden death is highest for people who:   Have ischemic cardiomyopathy (their heart muscle was damaged by not getting enough oxygen); and   Have ventricular tachycardia that comes and goes   The chance of sudden death is lowest for people with idiopathic ventricular tachycardia.')\n",
      "6. ('glaucoma', 'A family history of glaucoma is a risk factor.')\n",
      "7. ('polyneuropathy', 'The most common of these is polyneuropathy which affects the feet and legs.')\n",
      "8. ('dystrophy', 'There is no cure for myotonic dystrophy.')\n",
      "9. ('scoliosis', 'Other risk factors are scoliosis, injury and several types of surgery.')\n",
      "10. ('bronchiectasis', 'People with bronchiectasis have pain in their chests.')\n",
      "11. ('neuropathy', 'Diabetic neuropathy, damage to blood vessels near nerves can result in reduced blood flow.')\n",
      "12. ('rhabdomyosarcoma', 'Prognosis also depends on the type of rhabdomyosarcoma a person has, what kind of treatment they get, whether their cancer has spread, and many other things.')\n"
     ]
    },
    {
     "name": "stderr",
     "output_type": "stream",
     "text": [
      "\r",
      " 62%|██████▏   | 54/87 [06:33<04:12,  7.64s/it]"
     ]
    },
    {
     "name": "stdout",
     "output_type": "stream",
     "text": [
      " \n",
      "query_sent:  He was diagnosed with cardiomyopathy in 2005 and had a pacemaker implanted.\n",
      "query_word:  cardiomyopathy\n",
      "Top substitutions:\n",
      "1. ('tachycardia', 'If a person has pulseless ventricular tachycardia, they need to be shocked with a defibrillator.')\n",
      "2. ('cardiotoxicity', 'Large doses of quinine can cause:   skin rashes   deafness   sleepiness   blindness   anaphylactic shock   disturbances in abnormal heart rhythm   death from cardiotoxicity.')\n",
      "3. ('idiopathic', 'The chance of sudden death is highest for people who:   Have ischemic cardiomyopathy (their heart muscle was damaged by not getting enough oxygen); and   Have ventricular tachycardia that comes and goes   The chance of sudden death is lowest for people with idiopathic ventricular tachycardia.')\n",
      "4. ('bradycardia', 'Also, if bradycardia gets very bad, the heart will be unable to pump enough blood and oxygen to the body.')\n",
      "5. ('cardiopulmonary', 'Emergency treatment of respiratory failure is very similar to that of cardiopulmonary resuscitation.')\n",
      "6. ('bronchiectasis', 'People with bronchiectasis have pain in their chests.')\n",
      "7. ('thrombophilia', 'Factors that increase the risk of a stroke include old age, high blood pressure, a previous stroke, diabetes, high cholesterol, smoking, atrial fibrillation, migraine with aura, and thrombophilia (a tendency to thrombosis).')\n",
      "8. ('dystrophy', 'There is no cure for myotonic dystrophy.')\n",
      "9. ('scoliosis', 'Other risk factors are scoliosis, injury and several types of surgery.')\n",
      "10. ('neuropathy', 'Diabetic neuropathy, damage to blood vessels near nerves can result in reduced blood flow.')\n",
      "11. ('cardiogenic', 'It can also be caused by cardiogenic shock, where the heart is not getting enough blood to pump out to the rest of the body.')\n",
      "12. ('glaucoma', 'A family history of glaucoma is a risk factor.')\n"
     ]
    },
    {
     "name": "stderr",
     "output_type": "stream",
     "text": [
      "\r",
      " 63%|██████▎   | 55/87 [06:39<03:50,  7.20s/it]"
     ]
    },
    {
     "name": "stdout",
     "output_type": "stream",
     "text": [
      " \n",
      "query_sent:  His echocardiogram was negative for cardiomyopathy.\n",
      "query_word:  cardiomyopathy\n",
      "Top substitutions:\n",
      "1. ('tachycardia', 'Postural Orthostatic Tachycardia Syndrome - from Dysautonomia International (includes detailed information about POTS, research, and finding doctors and support across the world)')\n",
      "2. ('idiopathic', 'The chance of sudden death is highest for people who:   Have ischemic cardiomyopathy (their heart muscle was damaged by not getting enough oxygen); and   Have ventricular tachycardia that comes and goes   The chance of sudden death is lowest for people with idiopathic ventricular tachycardia.')\n",
      "3. ('cardiotoxicity', 'Large doses of quinine can cause:   skin rashes   deafness   sleepiness   blindness   anaphylactic shock   disturbances in abnormal heart rhythm   death from cardiotoxicity.')\n",
      "4. ('dystrophy', 'There is no cure for myotonic dystrophy.')\n",
      "5. ('neuropathy', 'Diabetic neuropathy, damage to blood vessels near nerves can result in reduced blood flow.')\n",
      "6. ('polyneuropathy', 'The four patterns of this condition are polyneuropathy, mononeuropathy, nononeuritis mp and autonomic nerve damage.')\n",
      "7. ('bradycardia', 'Also, if bradycardia gets very bad, the heart will be unable to pump enough blood and oxygen to the body.')\n",
      "8. ('cardiogenic', 'This is called cardiogenic pulmonary edema.')\n",
      "9. ('myotonic', 'There is no cure for myotonic dystrophy.')\n",
      "10. ('scoliosis', 'Other risk factors are scoliosis, injury and several types of surgery.')\n",
      "11. ('fibromyalgia', 'Other possible issues include varicose veins, sleep troubles, conditions involving blood sugar, ADHD or fibromyalgia.')\n",
      "12. ('cardiopulmonary', 'Emergency treatment of respiratory failure is very similar to that of cardiopulmonary resuscitation.')\n"
     ]
    },
    {
     "name": "stderr",
     "output_type": "stream",
     "text": [
      "\r",
      " 64%|██████▍   | 56/87 [06:45<03:37,  7.00s/it]"
     ]
    },
    {
     "name": "stdout",
     "output_type": "stream",
     "text": [
      " \n",
      "query_sent:  And a subsequent biopsy revealed irreversible cardiomyopathy.\n",
      "query_word:  cardiomyopathy\n",
      "Top substitutions:\n",
      "1. ('tachycardia', 'Postural Orthostatic Tachycardia Syndrome - from Dysautonomia International (includes detailed information about POTS, research, and finding doctors and support across the world)')\n",
      "2. ('polyneuropathy', 'The four patterns of this condition are polyneuropathy, mononeuropathy, nononeuritis mp and autonomic nerve damage.')\n",
      "3. ('cardiopulmonary', 'Emergency treatment of respiratory failure is very similar to that of cardiopulmonary resuscitation.')\n",
      "4. ('neuropathy', 'Its symptoms are also similar to progressive inflammatory neuropathy.')\n",
      "5. ('scoliosis', 'Other risk factors are scoliosis, injury and several types of surgery.')\n",
      "6. ('idiopathic', 'This is called idiopathic ventricular tachycardia.')\n",
      "7. ('thrombosis', 'This might be due to thrombosis.')\n",
      "8. ('endocarditis', 'In rare cases, Psittacosis can cause endocarditis - swelling of joints, and swelling of the cornea.')\n",
      "9. ('fibromyalgia', 'Other possible issues include varicose veins, sleep troubles, conditions involving blood sugar, ADHD or fibromyalgia.')\n",
      "10. ('hepatic', 'Unfortunately, a small number of patients develop Fulminant hepatic failure, which is very serious.')\n",
      "11. ('cardiogenic', 'This is called cardiogenic pulmonary edema.')\n",
      "12. ('rhabdomyosarcoma', 'Prognosis also depends on the type of rhabdomyosarcoma a person has, what kind of treatment they get, whether their cancer has spread, and many other things.')\n"
     ]
    },
    {
     "name": "stderr",
     "output_type": "stream",
     "text": [
      "\r",
      " 66%|██████▌   | 57/87 [06:50<03:09,  6.31s/it]"
     ]
    },
    {
     "name": "stdout",
     "output_type": "stream",
     "text": [
      " \n",
      "query_sent:  The kid has severe cardiomyopathy.\n",
      "query_word:  cardiomyopathy\n",
      "Top substitutions:\n",
      "1. ('tachycardia', 'The chance of sudden death is highest for people who:   Have ischemic cardiomyopathy (their heart muscle was damaged by not getting enough oxygen); and   Have ventricular tachycardia that comes and goes   The chance of sudden death is lowest for people with idiopathic ventricular tachycardia.')\n",
      "2. ('bronchiectasis', 'People with bronchiectasis have pain in their chests.')\n",
      "3. ('idiopathic', 'The chance of sudden death is highest for people who:   Have ischemic cardiomyopathy (their heart muscle was damaged by not getting enough oxygen); and   Have ventricular tachycardia that comes and goes   The chance of sudden death is lowest for people with idiopathic ventricular tachycardia.')\n",
      "4. ('glomerulonephritis', 'Chronic renal failure can be a sign of other diseases, like IgA nephritis, glomerulonephritis, chronic pyelonephritis, and urinary retention.')\n",
      "5. ('osteoarthritis', 'Both osteoarthritis and rheumatoid arthritis affect women more often than men.')\n",
      "6. ('dyskinesia', 'The person with tardive dyskinesia cannot stop or control these movements.')\n",
      "7. ('dystrophy', 'There is no cure for myotonic dystrophy.')\n",
      "8. ('thrombosis', 'This might be due to thrombosis.')\n",
      "9. ('polyneuropathy', 'The four patterns of this condition are polyneuropathy, mononeuropathy, nononeuritis mp and autonomic nerve damage.')\n",
      "10. ('cardiotoxicity', 'Large doses of quinine can cause:   skin rashes   deafness   sleepiness   blindness   anaphylactic shock   disturbances in abnormal heart rhythm   death from cardiotoxicity.')\n",
      "11. ('scoliosis', 'Other risk factors are scoliosis, injury and several types of surgery.')\n",
      "12. ('neuropathy', 'Diabetic neuropathy, damage to blood vessels near nerves can result in reduced blood flow.')\n"
     ]
    },
    {
     "name": "stderr",
     "output_type": "stream",
     "text": [
      "\r",
      " 67%|██████▋   | 58/87 [06:57<03:09,  6.53s/it]"
     ]
    },
    {
     "name": "stdout",
     "output_type": "stream",
     "text": [
      " \n",
      "query_sent:  Which means it could be a hematological problem plus cardiomyopathy\n",
      "query_word:  cardiomyopathy\n",
      "Top substitutions:\n",
      "1. ('tachycardia', 'Postural Orthostatic Tachycardia Syndrome - from Dysautonomia International (includes detailed information about POTS, research, and finding doctors and support across the world)')\n",
      "2. ('lymphoma', 'In lymphoma, these lymphocytes start to multiply in an abnormal way.')\n",
      "3. ('neuropathy', 'Diabetic neuropathy, damage to blood vessels near nerves can result in reduced blood flow.')\n",
      "4. ('bradycardia', 'Also, if bradycardia gets very bad, the heart will be unable to pump enough blood and oxygen to the body.')\n",
      "5. ('polyneuropathy', 'The four patterns of this condition are polyneuropathy, mononeuropathy, nononeuritis mp and autonomic nerve damage.')\n",
      "6. ('encephalopathy', ',other forms like encephalopathy or delirium may develop relatively slowly, over a number of years.')\n",
      "7. ('eclampsia', 'Where this is unavailable, eclampsia, obstetric fistula, infant mortality, or maternal death can result.')\n",
      "8. ('fibromyalgia', 'Other possible issues include varicose veins, sleep troubles, conditions involving blood sugar, ADHD or fibromyalgia.')\n",
      "9. ('scoliosis', 'Other risk factors are scoliosis, injury and several types of surgery.')\n",
      "10. ('hematoma', 'Possible metabolic causes are such as liver failure or kidney failure; and chronic subdural hematoma.')\n",
      "11. ('rhabdomyosarcoma', 'Prognosis also depends on the type of rhabdomyosarcoma a person has, what kind of treatment they get, whether their cancer has spread, and many other things.')\n",
      "12. ('rhabdomyomas', 'Many types of the disease includes myxomas, fibromas, rhabdomyomas, and hamartomas.')\n"
     ]
    },
    {
     "name": "stderr",
     "output_type": "stream",
     "text": [
      "\r",
      " 68%|██████▊   | 59/87 [07:04<03:09,  6.76s/it]"
     ]
    },
    {
     "name": "stdout",
     "output_type": "stream",
     "text": [
      " \n",
      "query_sent:  An acute myocardial infarction, happens when a blood vessel in the heart suddenly becomes blocked.\n",
      "query_word:  myocardial\n",
      "Top substitutions:\n",
      "1. ('ventricular', 'If ventricular fibrillation continues for long enough, the blood will stop circulating around the body.')\n",
      "2. ('coronary', 'This can cause the heart’s blood vessels to get narrower suddenly (this is called \" coronary artery spasm \" ).')\n",
      "3. ('aortic', 'Since pulmonary venous hypertension is synonymous with congestive heart failure, the treatment is to optimize left ventricular function by the use of diuretics, beta blockers, ACE inhibitors, etc., or to repair/replace the mitral valve or aortic valve.')\n",
      "4. ('myocardium', 'The most important thing is to save as much myocardium (heart muscle) as possible and prevent more complications.')\n",
      "5. ('cardiomyopathy', 'Problems caused by this may include heart failure due to cardiomyopathy or cardiac arrest.')\n",
      "6. ('infarction', 'This can cause a myocardial infarction (a heart attack) to happen.')\n",
      "7. ('tachycardia', 'Ventricular tachycardia can also lead to ventricular fibrillation, asystole (where the heart stops beating), and sudden death.')\n",
      "8. ('cardiogenic', 'It can also be caused by cardiogenic shock, where the heart is not getting enough blood to pump out to the rest of the body.')\n",
      "9. ('venous', 'This causes pulmonary venous hypertension.')\n",
      "10. ('cardiopulmonary', 'Emergency treatment of respiratory failure is very similar to that of cardiopulmonary resuscitation.')\n",
      "11. ('hepatic', 'Liver failure or Hepatic failure is when the liver is no longer able to work.')\n",
      "12. ('bradycardia', 'Also, if bradycardia gets very bad, the heart will be unable to pump enough blood and oxygen to the body.')\n"
     ]
    },
    {
     "name": "stderr",
     "output_type": "stream",
     "text": [
      "\r",
      " 69%|██████▉   | 60/87 [07:10<02:53,  6.42s/it]"
     ]
    },
    {
     "name": "stdout",
     "output_type": "stream",
     "text": [
      " \n",
      "query_sent:  Patau syndrome is a syndrome caused by a chromosomal abnormality, in which some or all of the cells of the body contain extra genetic material from chromosome 13.\n",
      "query_word:  Patau\n",
      "Top substitutions:\n",
      "1. ('joubert', 'Joubert syndrome is a genetic birth defect.')\n",
      "2. ('rett', 'Rett syndrome is an almost entirely female based disorder which affects girls.')\n",
      "3. ('tourette', \"Tourette's is normally inherited, and starts in childhood.\")\n",
      "4. ('pompe', \"Glycogen storage disease type II (Pompe's Disease) is a disease that causes glycogen to accumulate in lysosomes.\")\n",
      "5. ('marfan', 'Aortic dissection is more common in those with a history of high blood pressure, a number of connective tissue diseases that affect blood vessel wall strength such as Marfan syndrome, a bicuspid aortic valve, and previous heart surgery.')\n",
      "6. ('lassa', 'Lassa fever or Lassa hemorrhagic fever (LHF) is a fever caused by the Lassa virus.')\n",
      "7. ('chagas', 'Chagas disease is a disease caused by the protozoan parasite Trypanosoma cruzi.')\n",
      "8. ('landry', \"Guillain–Barré syndrome (GBS), sometimes Landry's paralysis or Guillain–Barré–Strohl syndrome is a syndrome that causes weakness of the feet and hands.\")\n",
      "9. ('fontanel', 'When people start to get dehydrated, they may have these symptoms:   Thirst   Dry, sticky mouth   Feeling tired or sleepy   Not urinating as much as usual   Dry skin   Headache   Constipation   Feeling dizzy or lightheaded   No tears come out when the person cries   When dehydration gets severe (very bad), its symptoms include:   Being very thirsty   Feeling irritable and confused (infants and children may be very fussy or get very sleepy)   Very dry mouth and mucous membranes   Shriveled, dry skin that is less elastic than normal (it    Urinating very little, with darkly colored urine, or not urinating at all   Sunken eyes   In infants, the fontanel (the soft spot on the top of the head) may be sunken   Low blood pressure (blood pressure may also drop when the person sits up or stands up, making them feel dizzy or faint; this is called orthostasis)   Fast heartbeat (tachycardia)   Fast breathing (tachypnea)   Fever   In the most serious cases, delirium or unconsciousness   Severe dehydration is a medical emergency.')\n",
      "10. ('longo', \"Other surgical procedures include - stapled hemorrhoidopexy (PPH, Longo's procedure) and doppler-guided artery ligation\\xa0(DG-HAL/RAR or THD).\")\n",
      "11. ('pica', 'Pica ( ) is an eating disorder where a person wants to eat things that are not normal to eat, for example nails, rocks or feces.')\n",
      "12. ('savant', 'The savant syndrome is a rare condition in which people with neurodevelopmental disorders, notably autism spectrum disorders, and/or brain injuries, demonstrate profound and prodigious capacities and/or abilities far in excess of what would be considered normal.')\n"
     ]
    },
    {
     "name": "stderr",
     "output_type": "stream",
     "text": [
      "\r",
      " 70%|███████   | 61/87 [07:15<02:35,  5.98s/it]"
     ]
    },
    {
     "name": "stdout",
     "output_type": "stream",
     "text": [
      " \n",
      "query_sent:  Most cases of Patau syndrome are not inherited, but occur as random events during the formation of reproductive cells (eggs and sperm).\n",
      "query_word:  Patau\n",
      "Top substitutions:\n",
      "1. ('rett', 'People with Rett syndrome also have scoliosis.')\n",
      "2. ('marfan', 'Aortic dissection is more common in those with a history of high blood pressure, a number of connective tissue diseases that affect blood vessel wall strength such as Marfan syndrome, a bicuspid aortic valve, and previous heart surgery.')\n",
      "3. ('joubert', 'Mutations at 21 different loci have been found to cause Joubert syndrome.')\n",
      "4. ('pompe', \"Glycogen storage disease type II (Pompe's Disease) is a disease that causes glycogen to accumulate in lysosomes.\")\n",
      "5. ('tourette', \"Fewer than 15% of people with Tourette's have coprolalia.\")\n",
      "6. ('lassa', 'If a patient is diagnosed with Lassa fever, then the patient will be kept away from other people, to prevent the spread of the virus.')\n",
      "7. ('pica', 'A person with pica may also have a strong want to eat unusual things that are normally considered food but not in the normal way, for example, uncooked potatoes, flour or starch.')\n",
      "8. ('savant', 'The savant syndrome is a rare condition in which people with neurodevelopmental disorders, notably autism spectrum disorders, and/or brain injuries, demonstrate profound and prodigious capacities and/or abilities far in excess of what would be considered normal.')\n",
      "9. ('longo', \"Other surgical procedures include - stapled hemorrhoidopexy (PPH, Longo's procedure) and doppler-guided artery ligation\\xa0(DG-HAL/RAR or THD).\")\n",
      "10. ('spatz', 'First cases in the Czech Republic of the Hallervorden-Spatz Disease resulting from mutation in the Pantothenate Kinase 2 Gene Neuroendocrinology Letters No.3:26')\n",
      "11. ('menard', 'Phillips & Menard did a lot of research in 2006 about BDD suicides.')\n",
      "12. ('tophi', 'Gouty tophi, especially when not in a joint, can be mistaken for basal cell carcinoma, or other cancers.')\n"
     ]
    },
    {
     "name": "stderr",
     "output_type": "stream",
     "text": [
      "\r",
      " 71%|███████▏  | 62/87 [07:20<02:19,  5.59s/it]"
     ]
    },
    {
     "name": "stdout",
     "output_type": "stream",
     "text": [
      " \n",
      "query_sent:  But a baby with Patau syndrome has 3 copies of chromosome 13, instead of 2.\n",
      "query_word:  Patau\n",
      "Top substitutions:\n",
      "1. ('marfan', 'Aortic dissection is more common in those with a history of high blood pressure, a number of connective tissue diseases that affect blood vessel wall strength such as Marfan syndrome, a bicuspid aortic valve, and previous heart surgery.')\n",
      "2. ('tourette', \"Fewer than 15% of people with Tourette's have coprolalia.\")\n",
      "3. ('joubert', 'Mutations at 21 different loci have been found to cause Joubert syndrome.')\n",
      "4. ('pompe', \"Glycogen storage disease type II (Pompe's Disease) is a disease that causes glycogen to accumulate in lysosomes.\")\n",
      "5. ('rett', 'People with Rett syndrome also have scoliosis.')\n",
      "6. ('raynaud', ':Asthma   :Raynaud’s disease: is a circulatory disorder in which the smaller arteries that supply blood to the extremities - most often the hands, but it may also affect the, toes, the tip of the nose and the ears - become narrower reducing blood flow.')\n",
      "7. ('savant', 'The savant syndrome is a rare condition in which people with neurodevelopmental disorders, notably autism spectrum disorders, and/or brain injuries, demonstrate profound and prodigious capacities and/or abilities far in excess of what would be considered normal.')\n",
      "8. ('menard', 'Phillips & Menard did a lot of research in 2006 about BDD suicides.')\n",
      "9. ('landry', \"Guillain–Barré syndrome (GBS), sometimes Landry's paralysis or Guillain–Barré–Strohl syndrome is a syndrome that causes weakness of the feet and hands.\")\n",
      "10. ('binet', 'The term was made in the late 1800s by Alfred Binet.')\n",
      "11. ('spatz', 'First cases in the Czech Republic of the Hallervorden-Spatz Disease resulting from mutation in the Pantothenate Kinase 2 Gene Neuroendocrinology Letters No.3:26')\n",
      "12. ('tophus', 'A definitive diagnosis of gout is based upon the identification of monosodium urate (MSU) crystals in joint fluid or a tophus.')\n"
     ]
    },
    {
     "name": "stderr",
     "output_type": "stream",
     "text": [
      "\r",
      " 72%|███████▏  | 63/87 [07:24<02:06,  5.26s/it]"
     ]
    },
    {
     "name": "stdout",
     "output_type": "stream",
     "text": [
      " \n",
      "query_sent:  Nora is diagnosed with Trisomy 13.\n",
      "query_word:  Trisomy\n",
      "Top substitutions:\n",
      "1. ('autosomal', 'It is the second most common autosomal trisomy, after Down Syndrome, that carries to term.')\n",
      "2. ('recessive', 'The disorder is X-linked recessive.')\n",
      "3. ('chromosomal', \"The most common chromosomal disorder is Down syndrome ('Mongolism').\")\n",
      "4. ('cystic', 'The parent might not have cystic fibrosis but still might have the gene.')\n",
      "5. ('gestational', 'The doctor or nurse will ask certain questions to check if the mother is at high risk of getting gestational diabetes.')\n",
      "6. ('aneuploidy', 'Among those who survive birth, Down syndrome is the most common form of aneuploidy.')\n",
      "7. ('polyploidy', 'Trisomy   Polyploidy')\n",
      "8. ('allele', 'It is caused by a dominant allele.')\n",
      "9. ('anomalies', 'All other physical anomalies together occur in 6 per 1000 live births.')\n",
      "10. ('hormonal', 'This can mean many things because you can inherit your body type, shape, and hormonal function from your parents.')\n",
      "11. ('endometriosis', 'Having endometriosis can make it hard to have a baby.')\n",
      "12. ('genotype', 'About 65% of people with genotype 4 have a good, stable response with 48 weeks of treatment.')\n"
     ]
    },
    {
     "name": "stderr",
     "output_type": "stream",
     "text": [
      "\r",
      " 74%|███████▎  | 64/87 [07:28<01:52,  4.89s/it]"
     ]
    },
    {
     "name": "stdout",
     "output_type": "stream",
     "text": [
      " \n",
      "query_sent:  The patient has trisomy 13.\n",
      "query_word:  trisomy\n",
      "Top substitutions:\n",
      "1. ('autosomal', 'It is the second most common autosomal trisomy, after Down Syndrome, that carries to term.')\n",
      "2. ('chromosomal', \"The most common chromosomal disorder is Down syndrome ('Mongolism').\")\n",
      "3. ('genotype', 'About 65% of people with genotype 4 have a good, stable response with 48 weeks of treatment.')\n",
      "4. ('recessive', 'The disorder is X-linked recessive.')\n",
      "5. ('aneuploidy', 'Among those who survive birth, Down syndrome is the most common form of aneuploidy.')\n",
      "6. ('polyploidy', 'Trisomy   Polyploidy')\n",
      "7. ('genotypes', 'In people with genotypes 2 and 3, about 70-80% have a good, stable response with 24 weeks of treatment.')\n",
      "8. ('allele', 'It is caused by a dominant allele.')\n",
      "9. ('hypersomnia', 'Narcolepsy is an example of a primary hypersomnia.')\n",
      "10. ('cystic', 'The parent might not have cystic fibrosis but still might have the gene.')\n",
      "11. ('gestational', 'It is still unclear what causes gestational diabetes.')\n",
      "12. ('anomalies', 'All other physical anomalies together occur in 6 per 1000 live births.')\n"
     ]
    },
    {
     "name": "stderr",
     "output_type": "stream",
     "text": [
      "\r",
      " 75%|███████▍  | 65/87 [07:32<01:41,  4.63s/it]"
     ]
    },
    {
     "name": "stdout",
     "output_type": "stream",
     "text": [
      " \n",
      "query_sent:  The patient has trisomy 21.\n",
      "query_word:  trisomy\n",
      "Top substitutions:\n",
      "1. ('autosomal', 'It is the second most common autosomal trisomy, after Down Syndrome, that carries to term.')\n",
      "2. ('chromosomal', \"The most common chromosomal disorder is Down syndrome ('Mongolism').\")\n",
      "3. ('genotype', 'About 65% of people with genotype 4 have a good, stable response with 48 weeks of treatment.')\n",
      "4. ('recessive', 'The disorder is X-linked recessive.')\n",
      "5. ('aneuploidy', 'Among those who survive birth, Down syndrome is the most common form of aneuploidy.')\n",
      "6. ('polyploidy', 'Trisomy   Polyploidy')\n",
      "7. ('genotypes', 'In people with genotypes 2 and 3, about 70-80% have a good, stable response with 24 weeks of treatment.')\n",
      "8. ('hypersomnia', 'Narcolepsy is an example of a primary hypersomnia.')\n",
      "9. ('allele', 'It is caused by a dominant allele.')\n",
      "10. ('gestational', 'It is still unclear what causes gestational diabetes.')\n",
      "11. ('anomalies', 'All other physical anomalies together occur in 6 per 1000 live births.')\n",
      "12. ('endometriosis', 'Having endometriosis can make it hard to have a baby.')\n"
     ]
    },
    {
     "name": "stderr",
     "output_type": "stream",
     "text": [
      "\r",
      " 76%|███████▌  | 66/87 [07:38<01:44,  4.99s/it]"
     ]
    },
    {
     "name": "stdout",
     "output_type": "stream",
     "text": [
      " \n",
      "query_sent:  Rarely very low blood pressure may be the only sign of anaphylaxis.\n",
      "query_word:  anaphylaxis\n",
      "Top substitutions:\n",
      "1. ('hypoglycemia', 'Very bad hypoglycemia can look exactly like a stroke.')\n",
      "2. ('vasculitis', 'Lymphangitis is sometimes considered a type of vasculitis.')\n",
      "3. ('pneumothorax', 'Some other symptoms of Pneumothorax are shortness of breath, rapid breathing, and coughing.')\n",
      "4. ('bronchiectasis', 'People with bronchiectasis may also cough up blood.')\n",
      "5. ('hypotension', 'Doctors can treat hypotension by treating whatever is causing the low blood pressure.')\n",
      "6. ('encephalopathy', ',other forms like encephalopathy or delirium may develop relatively slowly, over a number of years.')\n",
      "7. ('anaphylactic', 'There is no reason why it should not be used if a person is having an anaphylactic reaction.')\n",
      "8. ('encephalitis', 'Usually, adults with encephalitis have a fever that starts suddenly, a headache, confusion, and sometimes seizures.')\n",
      "9. ('tachycardia', 'Ventricular tachycardia can also cause low blood pressure.')\n",
      "10. ('sepsis', 'With severe sepsis, one or more organs fail to work.')\n",
      "11. ('hemorrhagic', 'However, a small number of people get dengue hemorrhagic fever or dengue shock syndrome.')\n",
      "12. ('epilepticus', 'Sometimes patients have to be put into a coma to stop very bad status epilepticus.')\n"
     ]
    },
    {
     "name": "stderr",
     "output_type": "stream",
     "text": [
      "\r",
      " 77%|███████▋  | 67/87 [07:44<01:43,  5.17s/it]"
     ]
    },
    {
     "name": "stdout",
     "output_type": "stream",
     "text": [
      " \n",
      "query_sent:  Worldwide, 0.05-2% of the population is estimated to have anaphylaxis at some point in life, and rates appear to be increasing.\n",
      "query_word:  anaphylaxis\n",
      "Top substitutions:\n",
      "1. ('hypoglycemia', 'Because of this, severe (very bad) hypoglycemia can cause serious medical problems (like seizures) or even death if it is not treated quickly enough.')\n",
      "2. ('encephalitis', 'In 2013, encephalitis killed about 77,000 people in the world.')\n",
      "3. ('narcolepsy', 'It is estimated that between 25 and 50 people, per 100,000 suffer from narcolepsy.')\n",
      "4. ('trichomoniasis', 'Every year, about 248 million more people get trichomoniasis.')\n",
      "5. ('anaphylactic', 'However, half of the people who die of anaphylaxis have had no anaphylactic reaction before.')\n",
      "6. ('porphyria', 'When someone is affected by porphyria they will start to lose their hair about two weeks after having an attack.')\n",
      "7. ('diphtheria', 'Infected people who do not know they have diphtheria are called carriers of diphtheria, because they can spread the infection without being sick themselves.')\n",
      "8. ('emphysema', 'A history of exposure to cocaine, methamphetamine, alcohol leading to cirrhosis, and smoking leading to emphysema are considered significant.')\n",
      "9. ('anorexia', 'Doctors use the Diagnostic and Statistical Manual of Mental Disorders to make a medical diagnosis and decide if a person has anorexia or not.')\n",
      "10. ('allergies', 'Doctors can prescribe EpiPens to people who know they have allergies, so they can treat themselves for anaphylaxis.')\n",
      "11. ('polycythemia', 'Gout often makes these other problems worse or harder to treat: polycythemia, lead poisoning, renal failure, hemolytic anemia, psoriasis, and solid organ transplants.')\n",
      "12. ('neurosyphilis', 'Instead, people with neurosyphilis usually need to be given large doses of penicillin for at least 10 days.')\n"
     ]
    },
    {
     "name": "stderr",
     "output_type": "stream",
     "text": [
      "\r",
      " 78%|███████▊  | 68/87 [07:50<01:46,  5.58s/it]"
     ]
    },
    {
     "name": "stdout",
     "output_type": "stream",
     "text": [
      " \n",
      "query_sent:  On a mechanistic level, anaphylaxis is caused by the release of mediators from certain types of white blood cells triggered either by immunologic or non-immunologic mechanisms.\n",
      "query_word:  anaphylaxis\n",
      "Top substitutions:\n",
      "1. ('encephalitis', \"Viral encephalitis can also be caused by a latent virus - a virus that hides from the body's immune system the brain's nerve cells.\")\n",
      "2. ('anaphylactic', 'However, half of the people who die of anaphylaxis have had no anaphylactic reaction before.')\n",
      "3. ('hypoglycemia', 'Hypoglycemia can happen to anyone, at any age, but it usually happens in people who are diabetic.')\n",
      "4. ('neuropathy', 'Peripheral neuropathy happens when the nerves of the peripheral nervous system suffer damage due to disease, trauma to the nerves or through side effects of a certain illness.')\n",
      "5. ('eosinophilic', 'Eosinophilic pneumonia often occurs in response to infection with a parasite or after exposure to certain types of environmental factors.')\n",
      "6. ('bronchospasms', 'Some of the things that can cause bronchospasms are: consuming foods, taking medicines, allergic responses to insects, and hormone levels, particularly in women.')\n",
      "7. ('polycythemia', 'Acute myeloid leukemia   Malaria   Chronic lymphocytic leukemia   Autoimmune hemolytic anemia   Polycythemia vera   Chronic myeloid leukemia   Myelofibrosis   Typhoid fever   Infectious mononucleosis   Cirrhosis, often as a result of Portal hypertension.')\n",
      "8. ('narcolepsy', 'Some scientists think that narcolepsy is caused by a lack of hypocretin.')\n",
      "9. ('adenocarcinoma', 'Adenocarcinoma starts from glandular cells that are present at the lining of the esophagus and stomach.')\n",
      "10. ('pyelonephritis', 'Pyelonephritis is the most common cause of hospital acquired infections, accounting for approximately 40% of hospital-acquired infections.')\n",
      "11. ('trichomoniasis', 'If a woman is pregnant, trichomoniasis can cause her to have a premature infant, or an infant that weighs less than normal.')\n",
      "12. ('metastasis', 'Brain tumor   Lyme disease   Influenza   Brain metastasis   Foodborne Intoxication   Sinusitis   Meningitis   Encephalitis   In many cases headaches can be relieved naturally.')\n"
     ]
    },
    {
     "name": "stderr",
     "output_type": "stream",
     "text": [
      "\r",
      " 79%|███████▉  | 69/87 [07:56<01:40,  5.57s/it]"
     ]
    },
    {
     "name": "stdout",
     "output_type": "stream",
     "text": [
      " \n",
      "query_sent:  Previous systemic reactions, which are anything more than a local reaction around the site of the sting, are a risk factor for future anaphylaxis; however, half of fatalities have had no previous systemic reaction.\n",
      "query_word:  anaphylaxis\n",
      "Top substitutions:\n",
      "1. ('hypoglycemia', 'Because of this, severe (very bad) hypoglycemia can cause serious medical problems (like seizures) or even death if it is not treated quickly enough.')\n",
      "2. ('encephalitis', 'In 2013, encephalitis killed about 77,000 people in the world.')\n",
      "3. ('anaphylactic', 'The risk of having another anaphylactic reaction decreases as a person avoids the trigger for longer and longer.')\n",
      "4. ('anemia', 'Gout often makes these other problems worse or harder to treat: polycythemia, lead poisoning, renal failure, hemolytic anemia, psoriasis, and solid organ transplants.')\n",
      "5. ('arrhythmias', 'Large exposures can result in loss of consciousness, arrhythmias, seizures, or death.')\n",
      "6. ('metastasis', 'However, oral cancer can also happen because of metastasis.')\n",
      "7. ('emphysema', 'A history of exposure to cocaine, methamphetamine, alcohol leading to cirrhosis, and smoking leading to emphysema are considered significant.')\n",
      "8. ('symptomatic', 'Rates of symptomatic infections increase in the elderly due to a weakening immune system.')\n",
      "9. ('hemorrhagic', 'However, a small number of people get dengue hemorrhagic fever or dengue shock syndrome.')\n",
      "10. ('candidiasis', 'A weakened, unhealthy, or young immune system may allow candidiasis to develop.')\n",
      "11. ('asphyxiation', 'In the United States, asphyxiation and poisoning are also common.')\n",
      "12. ('diphtheria', 'Arthus reactions have been infrequently reported after diphtheria and tetanus toxoid vaccinations.')\n"
     ]
    },
    {
     "name": "stderr",
     "output_type": "stream",
     "text": [
      "\r",
      " 80%|████████  | 70/87 [08:02<01:38,  5.81s/it]"
     ]
    },
    {
     "name": "stdout",
     "output_type": "stream",
     "text": [
      " \n",
      "query_sent:  In a person who died from anaphylaxis, autopsy may show an \"empty heart\" attributed to reduced venous return from vasodilation and redistribution of intravascular volume from the central to the peripheral compartment.\n",
      "query_word:  anaphylaxis\n",
      "Top substitutions:\n",
      "1. ('encephalitis', 'Usually, adults with encephalitis have a fever that starts suddenly, a headache, confusion, and sometimes seizures.')\n",
      "2. ('hypoglycemia', 'Very bad hypoglycemia can look exactly like a stroke.')\n",
      "3. ('encephalopathy', ',other forms like encephalopathy or delirium may develop relatively slowly, over a number of years.')\n",
      "4. ('hypotension', 'Doctors can treat hypotension by treating whatever is causing the low blood pressure.')\n",
      "5. ('anaphylactic', 'They usually have fewer anaphylactic episodes, which are less severe, as they get older.')\n",
      "6. ('anorexia', 'The person may also have anorexia nervosa.')\n",
      "7. ('tachycardia', 'Some people with ventricular tachycardia do not have any symptoms, especially if the V-tach lasts for only a few seconds.')\n",
      "8. ('bronchiectasis', 'People with bronchiectasis may also cough up blood.')\n",
      "9. ('vasculitis', 'It is a form of vasculitis, where blood vessels become inflamed throughout the body.')\n",
      "10. ('emphysema', 'Emphysema   Chronic bronchitis   Bronchiectasis')\n",
      "11. ('diphtheria', 'Croup due to diphtheria has become nearly unknown since most people are immunized.')\n",
      "12. ('cystocele', 'Women are at risk of having a cystocele if they have given birth, have a hard time with passing stool, have a chronic cough, lift heavy objects, Causes include childbirth, constipation, chronic cough, or have had other surgeries of the reproductive organs.')\n"
     ]
    },
    {
     "name": "stderr",
     "output_type": "stream",
     "text": [
      "\r",
      " 82%|████████▏ | 71/87 [08:09<01:39,  6.20s/it]"
     ]
    },
    {
     "name": "stdout",
     "output_type": "stream",
     "text": [
      " \n",
      "query_sent:  Anaphylaxis can occur in response to almost any foreign substance.\n",
      "query_word:  Anaphylaxis\n",
      "Top substitutions:\n",
      "1. ('anaphylactic', 'The risk of having another anaphylactic reaction decreases as a person avoids the trigger for longer and longer.')\n"
     ]
    },
    {
     "name": "stderr",
     "output_type": "stream",
     "text": [
      "\r",
      " 83%|████████▎ | 72/87 [08:15<01:31,  6.10s/it]"
     ]
    },
    {
     "name": "stdout",
     "output_type": "stream",
     "text": [
      " \n",
      "query_sent:  Many foods can trigger anaphylaxis; this may occur upon the first known ingestion.\n",
      "query_word:  anaphylaxis\n",
      "Top substitutions:\n",
      "1. ('encephalitis', 'Examples of other bacteria which can cause encephalitis are Staphylococcus aureus, which causes toxic shock syndrome; Bordetella pertussis, which causes pertussis (whooping cough); and types of Borellia bacteria, which cause Lyme disease.')\n",
      "2. ('hypoglycemia', 'Bad hypoglycemia can make a person act like they are drunk or have taken drugs.')\n",
      "3. ('dysentery', 'The main symptom of dysentery is having blood in the excrement.')\n",
      "4. ('anaphylactic', 'The risk of having another anaphylactic reaction decreases as a person avoids the trigger for longer and longer.')\n",
      "5. ('encephalopathy', ',other forms like encephalopathy or delirium may develop relatively slowly, over a number of years.')\n",
      "6. ('diphtheria', 'Diphtheria can cause serious problems, like:   Inflammation of the heart, which can lead to death   Different forms of paralysis, by poisoning of nerve cells   Pneumonia   Encephalitis   Problems with the kidneys   Signs and symptoms of diphtheria usually begin two to five days after a person gets infected.')\n",
      "7. ('arrhythmias', 'Large exposures can result in loss of consciousness, arrhythmias, seizures, or death.')\n",
      "8. ('emphysema', 'A history of exposure to cocaine, methamphetamine, alcohol leading to cirrhosis, and smoking leading to emphysema are considered significant.')\n",
      "9. ('hypoglycemic', 'Often, a hypoglycemic person can bring their blood sugar levels back up by eating.')\n",
      "10. ('pneumothorax', 'Some other symptoms of Pneumothorax are shortness of breath, rapid breathing, and coughing.')\n",
      "11. ('gonorrhea', 'Sometimes antibiotics do not cure gonorrhea.')\n",
      "12. ('pyelonephritis', 'A UTI in the upper urinary tract is known as pyelonephritis or kidney infection.')\n"
     ]
    },
    {
     "name": "stderr",
     "output_type": "stream",
     "text": [
      "\r",
      " 84%|████████▍ | 73/87 [08:22<01:28,  6.30s/it]"
     ]
    },
    {
     "name": "stdout",
     "output_type": "stream",
     "text": [
      " \n",
      "query_sent:  People prone to anaphylaxis are advised to have an \"allergy action plan.\"\n",
      "query_word:  anaphylaxis\n",
      "Top substitutions:\n",
      "1. ('hypoglycemia', 'Because of this, severe (very bad) hypoglycemia can cause serious medical problems (like seizures) or even death if it is not treated quickly enough.')\n",
      "2. ('encephalitis', 'Usually, adults with encephalitis have a fever that starts suddenly, a headache, confusion, and sometimes seizures.')\n",
      "3. ('bronchiectasis', 'Some people with bronchiectasis make sputum that is green or pale yellow.')\n",
      "4. ('anaphylactic', \"These plans often include:   Parents telling schools about their children's allergies and what to do in case of an anaphylactic emergency   Knowing how and when to use EpiPens   Wearing a medical alert bracelet that says what the person is allergic to   Planning for how to avoid triggers   If anaphylaxis is diagnosed and the person is treated quickly, there is a good chance that they will recover.\")\n",
      "5. ('diphtheria', 'Croup due to diphtheria has become nearly unknown since most people are immunized.')\n",
      "6. ('trichomoniasis', 'Most people with trichomoniasis do not have any symptoms.')\n",
      "7. ('dysentery', 'The main symptom of dysentery is having blood in the excrement.')\n",
      "8. ('allergies', 'Doctors can prescribe EpiPens to people who know they have allergies, so they can treat themselves for anaphylaxis.')\n",
      "9. ('cyanosis', 'When a person has cyanosis, their skin and mucous membranes turn blue or purple.')\n",
      "10. ('pyelonephritis', 'Pyelonephritis is the most common cause of hospital acquired infections, accounting for approximately 40% of hospital-acquired infections.')\n",
      "11. ('porphyria', 'When someone is affected by porphyria they will start to lose their hair about two weeks after having an attack.')\n",
      "12. ('syphilis', 'Most people who have syphilis can be treated and cured with antibiotics.')\n"
     ]
    },
    {
     "name": "stderr",
     "output_type": "stream",
     "text": [
      "\r",
      " 85%|████████▌ | 74/87 [08:27<01:15,  5.84s/it]"
     ]
    },
    {
     "name": "stdout",
     "output_type": "stream",
     "text": [
      " \n",
      "query_sent:  The antitoxin could cause anaphylaxis.\n",
      "query_word:  anaphylaxis\n",
      "Top substitutions:\n",
      "1. ('hypoglycemia', 'Causes of pallor may include migraines, headache, hypoglycemia, anemia or scarlet fever.')\n",
      "2. ('thrombosis', 'This delivery system can cause sepsis and thrombosis.')\n",
      "3. ('anaphylactic', 'There is no reason why it should not be used if a person is having an anaphylactic reaction.')\n",
      "4. ('encephalitis', 'In 2013, encephalitis killed about 77,000 people in the world.')\n",
      "5. ('bronchiectasis', 'Antibiotics are used to treat bronchiectasis.')\n",
      "6. ('vasculitis', 'Lymphangitis is sometimes considered a type of vasculitis.')\n",
      "7. ('arrhythmias', 'Large exposures can result in loss of consciousness, arrhythmias, seizures, or death.')\n",
      "8. ('allergies', 'Versions of this medication that are less prone to cause allergies are in development.')\n",
      "9. ('diphtheria', 'There is a vaccine which can prevent diphtheria.')\n",
      "10. ('emphysema', 'A history of exposure to cocaine, methamphetamine, alcohol leading to cirrhosis, and smoking leading to emphysema are considered significant.')\n",
      "11. ('nephropathy', 'Diabetic nephropathy, blood vessels in the kidney become damaged, making the kidney work less effectively.')\n",
      "12. ('polycythemia', 'Gout often makes these other problems worse or harder to treat: polycythemia, lead poisoning, renal failure, hemolytic anemia, psoriasis, and solid organ transplants.')\n"
     ]
    },
    {
     "name": "stderr",
     "output_type": "stream",
     "text": [
      "\r",
      " 86%|████████▌ | 75/87 [08:31<01:06,  5.55s/it]"
     ]
    },
    {
     "name": "stdout",
     "output_type": "stream",
     "text": [
      " \n",
      "query_sent:  A food allergy explains the anaphylaxis.\n",
      "query_word:  anaphylaxis\n",
      "Top substitutions:\n",
      "1. ('allergy', 'If it is a food allergy, the person may get an upset stomach.')\n",
      "2. ('encephalitis', 'This is called \" secondary encephalitis. \"')\n",
      "3. ('hypoglycemia', 'Causes of pallor may include migraines, headache, hypoglycemia, anemia or scarlet fever.')\n",
      "4. ('anaphylactic', 'There is no reason why it should not be used if a person is having an anaphylactic reaction.')\n",
      "5. ('allergies', 'The reasons may be malnutrition, food intolerances or allergies.')\n",
      "6. ('hemorrhagic', 'However, a small number of people get dengue hemorrhagic fever or dengue shock syndrome.')\n",
      "7. ('metastasis', 'Brain tumor   Lyme disease   Influenza   Brain metastasis   Foodborne Intoxication   Sinusitis   Meningitis   Encephalitis   In many cases headaches can be relieved naturally.')\n",
      "8. ('gonorrhea', 'Sometimes antibiotics do not cure gonorrhea.')\n",
      "9. ('emphysema', 'A history of exposure to cocaine, methamphetamine, alcohol leading to cirrhosis, and smoking leading to emphysema are considered significant.')\n",
      "10. ('trichomoniasis', 'Every year, about 248 million more people get trichomoniasis.')\n",
      "11. ('vasculitis', 'Lymphangitis is sometimes considered a type of vasculitis.')\n",
      "12. ('dysentery', 'The main symptom of dysentery is having blood in the excrement.')\n"
     ]
    },
    {
     "name": "stderr",
     "output_type": "stream",
     "text": [
      "\r",
      " 87%|████████▋ | 76/87 [08:35<00:56,  5.11s/it]"
     ]
    },
    {
     "name": "stdout",
     "output_type": "stream",
     "text": [
      " \n",
      "query_sent:  They die of dysentery.\n",
      "query_word:  dysentery\n",
      "Top substitutions:\n",
      "1. ('encephalitis', 'There are also vaccines for rabies, bacterial meningitis, Japanese encephalitis, Human Papillomavirus (HPV), and some other diseases that can cause encephalitis.')\n",
      "2. ('hypoglycemia', 'Causes of pallor may include migraines, headache, hypoglycemia, anemia or scarlet fever.')\n",
      "3. ('hemorrhagic', 'However, a small number of people get dengue hemorrhagic fever or dengue shock syndrome.')\n",
      "4. ('diarrhoea', 'Lean and weak, swelling limbs, less developed muscles, dry skin, diarrhoea, etc.., are the symptoms of this disease.')\n",
      "5. ('bronchitis', 'The common cold primarily affects the nose, pharyngitis primarily affects the throat, and bronchitis primarily affects the lungs.')\n",
      "6. ('arrhythmias', 'Large exposures can result in loss of consciousness, arrhythmias, seizures, or death.')\n",
      "7. ('rheumatic', 'Wolfgang Mozart, the famous composer famously died of rheumatic fever.')\n",
      "8. ('hemorrhoids', 'Women are in danger of having hemorrhoids during pregnancy.')\n",
      "9. ('pancreatitis', 'Causes may include sepsis, pancreatitis, trauma, pneumonia, and aspiration.')\n",
      "10. ('nephropathy', 'Diabetic nephropathy, blood vessels in the kidney become damaged, making the kidney work less effectively.')\n",
      "11. ('hypothermia', 'Someone with hypothermia starts shivering and cannot stop.')\n",
      "12. ('diphtheria', 'Infected people who do not know they have diphtheria are called carriers of diphtheria, because they can spread the infection without being sick themselves.')\n"
     ]
    },
    {
     "name": "stderr",
     "output_type": "stream",
     "text": [
      "\r",
      " 89%|████████▊ | 77/87 [08:42<00:56,  5.66s/it]"
     ]
    },
    {
     "name": "stdout",
     "output_type": "stream",
     "text": [
      " \n",
      "query_sent:  Henry II moved in support of Richard, and Henry the Young King died from dysentery at the end of the campaign.\n",
      "query_word:  dysentery\n",
      "Top substitutions:\n",
      "1. ('encephalitis', 'It is not usually considered life-threatening but in 1976 a girl of 5 years was prescribed with steroids at Great Ormond Street Hospital to lessen her acute arthritic pain and died at home on 30th December after a swift attack of encephalitis.')\n",
      "2. ('diarrhea', 'Because digestion has suddenly stopped, the person may have nausea, diarrhea, or other gastrointestinal problems.')\n",
      "3. ('diarrhoea', 'Lean and weak, swelling limbs, less developed muscles, dry skin, diarrhoea, etc.., are the symptoms of this disease.')\n",
      "4. ('typhoid', 'Other causes of jaundice are pernicious anaemia and diseases affecting the liver such as typhoid, malaria, yellow fever and tuberculosis.')\n",
      "5. ('hypoglycemia', 'Causes of pallor may include migraines, headache, hypoglycemia, anemia or scarlet fever.')\n",
      "6. ('syphilis', 'Syphilis can cause a pregnant woman to have a miscarriage, a stillbirth, a premature baby, a baby with congenital syphilis, or a baby that dies before it is a month old.')\n",
      "7. ('nephritis', 'At the time he reported an \" acute infectious disease with enlargement of spleen, jaundice and nephritis \" .')\n",
      "8. ('pyelonephritis', 'Chronic renal failure can be a sign of other diseases, like IgA nephritis, glomerulonephritis, chronic pyelonephritis, and urinary retention.')\n",
      "9. ('meningoencephalitis', 'A stiff neck is a sign that the person has either meningitis (inflammation of the meninges, which cover the brain) or meningoencephalitis (swelling of both the meninges and the brain).')\n",
      "10. ('measles', 'If a person kisses or touches another person who is infected with the flu, a cold, measles, or a sore throat, he or she may get their disease.')\n",
      "11. ('arrhythmias', 'Large exposures can result in loss of consciousness, arrhythmias, seizures, or death.')\n",
      "12. ('pancreatitis', 'Causes may include sepsis, pancreatitis, trauma, pneumonia, and aspiration.')\n"
     ]
    },
    {
     "name": "stderr",
     "output_type": "stream",
     "text": [
      "\r",
      " 90%|████████▉ | 78/87 [08:50<00:55,  6.16s/it]"
     ]
    },
    {
     "name": "stdout",
     "output_type": "stream",
     "text": [
      " \n",
      "query_sent:  Once at Richmond, Madison began drafting the Report, though he was delayed by a weeklong battle with dysentery.\n",
      "query_word:  dysentery\n",
      "Top substitutions:\n",
      "1. ('diarrhea', 'Because digestion has suddenly stopped, the person may have nausea, diarrhea, or other gastrointestinal problems.')\n",
      "2. ('typhoid', 'Other causes of jaundice are pernicious anaemia and diseases affecting the liver such as typhoid, malaria, yellow fever and tuberculosis.')\n",
      "3. ('bronchitis', 'The common cold primarily affects the nose, pharyngitis primarily affects the throat, and bronchitis primarily affects the lungs.')\n",
      "4. ('diarrhoea', 'Symptoms include cough, sore throat, muscle aches and pains, fever, headache, and rarely vomiting and diarrhoea.')\n",
      "5. ('syphilis', 'Syphilis can cause a pregnant woman to have a miscarriage, a stillbirth, a premature baby, a baby with congenital syphilis, or a baby that dies before it is a month old.')\n",
      "6. ('measles', 'If a person kisses or touches another person who is infected with the flu, a cold, measles, or a sore throat, he or she may get their disease.')\n",
      "7. ('hypoglycemia', 'Causes of pallor may include migraines, headache, hypoglycemia, anemia or scarlet fever.')\n",
      "8. ('diphtheria', 'In 1826, Bretonneau distinguished croup from a virus and croup due to diphtheria.')\n",
      "9. ('pancreatitis', 'Causes may include sepsis, pancreatitis, trauma, pneumonia, and aspiration.')\n",
      "10. ('poliomyelitis', 'Major causes are stroke, trauma, poliomyelitis, amyotrophic lateral sclerosis (ALS), botulism, spina bifida, multiple sclerosis, and Guillain-Barré syndrome.')\n",
      "11. ('rheumatic', 'Wolfgang Mozart, the famous composer famously died of rheumatic fever.')\n",
      "12. ('meningoencephalitis', 'A stiff neck is a sign that the person has either meningitis (inflammation of the meninges, which cover the brain) or meningoencephalitis (swelling of both the meninges and the brain).')\n"
     ]
    },
    {
     "name": "stderr",
     "output_type": "stream",
     "text": [
      "\r",
      " 91%|█████████ | 79/87 [08:57<00:50,  6.35s/it]"
     ]
    },
    {
     "name": "stdout",
     "output_type": "stream",
     "text": [
      " \n",
      "query_sent:  Psoriasis varies in severity from small, localized patches to complete body coverage.\n",
      "query_word:  Psoriasis\n",
      "Top substitutions:\n",
      "1. ('hemorrhoids', 'Hemorrhoids are diagnosed by a doctor.')\n",
      "2. ('anaphylaxis', 'Anaphylaxis has many symptoms, such as an itchy rash, throat swelling, breathing problems, and low blood pressure.')\n",
      "3. ('hypoglycemia', 'Hypoglycemia is treated by returning the blood sugar levels back to normal.')\n",
      "4. ('ulcers', 'Ulcers can be from pressure on a part of the skin.')\n",
      "5. ('lymphangitis', 'Lymphangitis is sometimes considered a type of vasculitis.')\n",
      "6. ('encephalitis', 'Encephalitis can cause serious symptoms, like seizures and strokes, and can be fatal.')\n",
      "7. ('erythema', 'Erythema ab igne is a rash of the skin, which is usually caused by the long-term exposure to heat or infrared radiation, and which is not a burn.')\n",
      "8. ('sarcoidosis', 'Sarcoidosis may involve the brain.')\n",
      "9. ('gastritis', 'Sometimes gastritis starts after major surgery, serious injury, burns, or infections.')\n",
      "10. ('scoliosis', 'Mild scoliosis does not often cause problems.')\n",
      "11. ('appendicitis', 'Most serious appendicitis happens to younger children and elder adults.')\n",
      "12. ('nephritis', 'Nephritis is inflammation of the kidneys.')\n"
     ]
    },
    {
     "name": "stderr",
     "output_type": "stream",
     "text": [
      "\r",
      " 92%|█████████▏| 80/87 [09:04<00:45,  6.55s/it]"
     ]
    },
    {
     "name": "stdout",
     "output_type": "stream",
     "text": [
      " \n",
      "query_sent:  Psoriasis is generally thought to be a genetic disease that is triggered by environmental factors.\n",
      "query_word:  Psoriasis\n",
      "Top substitutions:\n",
      "1. ('encephalitis', 'Encephalitis can happen when a person gets a bacterial infection, like bacterial meningitis.')\n",
      "2. ('bronchiectasis', 'Bronchiectasis is an obstructive lung disease.')\n",
      "3. ('metastasis', 'Metastasis is what happens when cancer spreads from its original place to another part of the body.')\n",
      "4. ('anaphylaxis', 'Anaphylaxis happens when a person eats, breathes in, or is injected with an allergen (something they are allergic to).')\n",
      "5. ('candidiasis', 'Candidiasis, often called yeast infection or thrush, is a type of infectious disease.')\n",
      "6. ('sarcoidosis', 'Sarcoidosis is a granulomatous disorder that can affect multiple organs.')\n",
      "7. ('erythema', 'Erythema ab igne is a rash of the skin, which is usually caused by the long-term exposure to heat or infrared radiation, and which is not a burn.')\n",
      "8. ('hypochondriasis', 'Hypochondriasis (more well known as hypochondria) is a condition which involves excess worries about having an illness that often results from having inaccurate perceptions of the human body.')\n",
      "9. ('diphtheria', 'Diphtheria can cause serious problems, like:   Inflammation of the heart, which can lead to death   Different forms of paralysis, by poisoning of nerve cells   Pneumonia   Encephalitis   Problems with the kidneys   Signs and symptoms of diphtheria usually begin two to five days after a person gets infected.')\n",
      "10. ('eosinophilic', 'Eosinophilic pneumonia often occurs in response to infection with a parasite or after exposure to certain types of environmental factors.')\n",
      "11. ('hyponatremia', 'Hyponatremia is most often a complication of other medical illnesses in which excess water collects in the body faster than can be excreted (for example in congestive heart failure, syndrome of inappropriate antidiuretic hormone (SIADH), or polydipsia).')\n",
      "12. ('cyanosis', 'Cyanosis is a medical problem.')\n"
     ]
    },
    {
     "name": "stderr",
     "output_type": "stream",
     "text": [
      "\r",
      " 93%|█████████▎| 81/87 [09:11<00:40,  6.78s/it]"
     ]
    },
    {
     "name": "stdout",
     "output_type": "stream",
     "text": [
      " \n",
      "query_sent:  There are five main types of psoriasis: plaque, guttate, inverse, pustular, and erythrodermic.\n",
      "query_word:  psoriasis\n",
      "Top substitutions:\n",
      "1. ('osteoporosis', 'There are three kinds of osteoporosis.')\n",
      "2. ('candidiasis', 'One sign of esophageal candidiasis is painful swallowing.')\n",
      "3. ('hemorrhoids', 'Symptoms of internal hemorrhoids include\\xa0itching, bleeding, swelling, mucus discharge, burning sensation, prolapse, and soiling.')\n",
      "4. ('hypoglycemia', 'In the worst cases, when the blood sugar is very low, hypoglycemia is treated by giving sugar water intravenously (through a needle placed into a vein).')\n",
      "5. ('psoriatic', 'Other kinds of arthritis include psoriatic arthritis and septic arthritis (when an area is invaded by bacteria).')\n",
      "6. ('pneumothorax', 'Some other symptoms of Pneumothorax are shortness of breath, rapid breathing, and coughing.')\n",
      "7. ('bronchiectasis', 'The most common symptom of bronchiectasis is a cough that does not go away.')\n",
      "8. ('schistosomiasis', 'The high rate in Egypt is linked to a now-discontinued mass-treatment campaign for schistosomiasis, using improperly sterilized glass syringes.')\n",
      "9. ('diphtheria', 'People with cutaneous diphtheria may get ulcers, covered by a gray membrane, on their skin.')\n",
      "10. ('prostatitis', 'According to the 1999 National Institute of Health (NIH) Classification, there are four categories of prostatitis:   Category I:   Category II:   Category III:   ::    Category IV:   Men with this disease often have chills, fever, pain in the lower back and genital area, urinary frequency and urgency often at night, burning or painful urination, body aches, and a demonstrable infection of the urinary tract, as evidenced by white blood cells and bacteria in the urine.')\n",
      "11. ('sepsis', 'Common symptoms of sepsis are inflammations all over the body.')\n",
      "12. ('cyanosis', 'Usually cyanosis is first seen in the extremities (the parts of the body that are farthest away from the heart).')\n"
     ]
    },
    {
     "name": "stderr",
     "output_type": "stream",
     "text": [
      "\r",
      " 94%|█████████▍| 82/87 [09:18<00:34,  6.89s/it]"
     ]
    },
    {
     "name": "stdout",
     "output_type": "stream",
     "text": [
      " \n",
      "query_sent:  If one twin has psoriasis, the other twin is three times more likely to be affected if the twins are identical than if they are non-identical.\n",
      "query_word:  psoriasis\n",
      "Top substitutions:\n",
      "1. ('bronchiectasis', '3 out of 4 people with bronchiectasis often cough up a lot of sputum.')\n",
      "2. ('anaphylaxis', 'Also, these tests cannot say for sure that a person does not have anaphylaxis.')\n",
      "3. ('hypoglycemia', 'Bad hypoglycemia can make a person act like they are drunk or have taken drugs.')\n",
      "4. ('hypersomnia', 'People with hypersomnia easily feel sleepy during the day, and fall asleep.')\n",
      "5. ('osteoporosis', 'It is more likely for a woman to get osteoporosis than a man.')\n",
      "6. ('candidiasis', 'Weight loss can happen when a person has esophageal candidiasis for a long time.')\n",
      "7. ('glaucoma', 'A family history of glaucoma is a risk factor.')\n",
      "8. ('hemorrhoids', 'Women are in danger of having hemorrhoids during pregnancy.')\n",
      "9. ('psoriatic', 'Other kinds of arthritis include psoriatic arthritis and septic arthritis (when an area is invaded by bacteria).')\n",
      "10. ('trichomoniasis', 'Most people with trichomoniasis do not have any symptoms.')\n",
      "11. ('hypercholesterolemia', 'In someone with hypercholesterolemia, the benefit from statins is more than the risk.')\n",
      "12. ('narcolepsy', 'People with narcolepsy tend to fall asleep during the daytime, even if they do not want to.')\n"
     ]
    },
    {
     "name": "stderr",
     "output_type": "stream",
     "text": [
      "\r",
      " 95%|█████████▌| 83/87 [09:22<00:24,  6.16s/it]"
     ]
    },
    {
     "name": "stdout",
     "output_type": "stream",
     "text": [
      " \n",
      "query_sent:  High doses may lead to muscles contractions.\n",
      "query_word:  contractions\n",
      "Top substitutions:\n",
      "1. ('spasms', 'The condition leads to general muscle stiffness and spasms in other parts of the body.')\n",
      "2. ('spasm', 'Muscle cramps, stiffness, and spasm can also be associated with myopathy.')\n",
      "3. ('cramps', 'Muscle cramps, stiffness, and spasm can also be associated with myopathy.')\n",
      "4. ('stiffness', 'Muscle cramps, stiffness, and spasm can also be associated with myopathy.')\n",
      "5. ('twitches', 'Losses of muscle bulk and muscle twitches may be seen.')\n",
      "6. ('tremors', 'Epinephrine can cause minor side effects, including tremors, anxiety, headaches, and palpitations.')\n",
      "7. ('pain', 'This can cause weakness and muscle pain.')\n",
      "8. ('headaches', 'Bruxism can wear down teeth, make them too sensitive, and cause headaches and jaw pain.')\n",
      "9. ('aches', 'Some also have muscle aches, headache, tiredness, loss of appetite, diarrhea or vomiting.')\n",
      "10. ('tiredness', 'It causes weak muscles and tiredness.')\n",
      "11. ('jerks', 'Benzodiazepines can make muscle jerks happen less often.')\n",
      "12. ('problems', 'This can cause fluid to build up in the lungs, which causes breathing problems.')\n"
     ]
    },
    {
     "name": "stderr",
     "output_type": "stream",
     "text": [
      "\r",
      " 97%|█████████▋| 84/87 [09:27<00:17,  5.71s/it]"
     ]
    },
    {
     "name": "stdout",
     "output_type": "stream",
     "text": [
      " \n",
      "query_sent:  High doses may lead to convulsions.\n",
      "query_word:  convulsions\n",
      "Top substitutions:\n",
      "1. ('hallucinations', 'Sleep paralysis may be accompanied by hallucinations of sight, hearing or touch.')\n",
      "2. ('diarrhea', 'It causes diarrhea, vomiting and stomach pain.')\n",
      "3. ('hyperactivity', 'This can cause seizures and hyperactivity.')\n",
      "4. ('arrhythmias', 'Large exposures can result in loss of consciousness, arrhythmias, seizures, or death.')\n",
      "5. ('delirium', ',other forms like encephalopathy or delirium may develop relatively slowly, over a number of years.')\n",
      "6. ('incontinence', 'Sometimes, the only symptoms are incontinence (loss of bladder control), a change in mental status (ability to think), or feeling tired.')\n",
      "7. ('anaphylaxis', 'Many foods can trigger anaphylaxis, even when the food is eaten for the first time.')\n",
      "8. ('psychosis', 'Very bad mania can cause psychosis, with hallucinations and delusions.')\n",
      "9. ('epileptic', 'Very often, the actual cause for an epileptic seizure is lack of sleep, too much alcohol, or other things that cause stress.')\n",
      "10. ('hypoglycemia', 'Bad hypoglycemia can make a person act like they are drunk or have taken drugs.')\n",
      "11. ('asphyxiation', 'In the United States, asphyxiation and poisoning are also common.')\n",
      "12. ('uncontrollable', 'Seizures (uncontrollable movements in the body) are also a common sign in children.')\n"
     ]
    },
    {
     "name": "stderr",
     "output_type": "stream",
     "text": [
      "\r",
      " 98%|█████████▊| 85/87 [09:33<00:11,  5.81s/it]"
     ]
    },
    {
     "name": "stdout",
     "output_type": "stream",
     "text": [
      " \n",
      "query_sent:  To reduce the encephalocele cyst.\n",
      "query_word:  encephalocele\n",
      "Top substitutions:\n",
      "1. ('rhabdomyosarcoma', 'This is the most common type of rhabdomyosarcoma.')\n",
      "2. ('encephalopathy', 'Transmissible spongiform encephalopathy')\n",
      "3. ('cystocele', 'The doctor who fixes the cystocele may fold the weak tissue and then stitch it back in place.')\n",
      "4. ('toxoplasmosis', 'Toxoplasmosis Toxoplasma gondii parasite Pigs, lambs, deer, cattle Eating under-cooked meat.')\n",
      "5. ('bronchiectasis', 'René Laennec wrote the first description of bronchiectasis in 1819.')\n",
      "6. ('hepatosplenomegaly', 'Hepatomegaly -enlarged liver, splenomegaly - enlarged spleen, or both hepatosplenomegaly.')\n",
      "7. ('ovary', 'It is a pus-filled ovary and Fallopian tube that is filled with infection.')\n",
      "8. ('astrocytomas', 'Low-grade astrocytomas usually grow slowly and stay in one place.')\n",
      "9. ('epithelium', 'RSV does cause epithelium damage.')\n",
      "10. ('toxoplasma', 'Toxoplasmosis Toxoplasma gondii parasite Cats Cat feces (in cat litter boxes or dirt).')\n",
      "11. ('sebaceous', 'Acne is an infection of the skin, caused by changes in the sebaceous glands.')\n",
      "12. ('chlamydia', 'REDIRECT Chlamydia infection')\n"
     ]
    },
    {
     "name": "stderr",
     "output_type": "stream",
     "text": [
      "\r",
      " 99%|█████████▉| 86/87 [09:41<00:06,  6.44s/it]"
     ]
    },
    {
     "name": "stdout",
     "output_type": "stream",
     "text": [
      " \n",
      "query_sent:  Epistaxis in children is usually from Little's area, which is on the septal wall anteriorly.\n",
      "query_word:  Epistaxis\n",
      "Top substitutions:\n",
      "1. ('anaphylaxis', 'Anaphylaxis appears to be getting more common.')\n",
      "2. ('symptom', 'This symptom may be harder to see in infants who cannot walk yet.')\n",
      "3. ('epiglottitis', 'Epiglottitis usually happens in children.')\n",
      "4. ('hypotension', 'Hypotension is low blood pressure.')\n",
      "5. ('hypoglycemia', 'Hypoglycemia is treated by returning the blood sugar levels back to normal.')\n",
      "6. ('cyanosis', 'Usually cyanosis is first seen in the extremities (the parts of the body that are farthest away from the heart).')\n",
      "7. ('ischemia', 'Mesenteric ischemia happens mostly to the elderly (older people).')\n",
      "8. ('sarcoidosis', 'Sarcoidosis may involve the brain.')\n",
      "9. ('nystagmus', 'Nystagmus can be hereditary, but it can also be a result of something else.')\n",
      "10. ('vasculitis', 'Vasculitis is primarily caused by leukocyte migration and resultant damage.')\n",
      "11. ('cystocele', 'Older women have cystocele more often then younger women.')\n",
      "12. ('neuropathy', 'Its symptoms are also similar to progressive inflammatory neuropathy.')\n"
     ]
    },
    {
     "name": "stderr",
     "output_type": "stream",
     "text": [
      "100%|██████████| 87/87 [09:48<00:00,  6.77s/it]"
     ]
    },
    {
     "name": "stdout",
     "output_type": "stream",
     "text": [
      " \n",
      "query_sent:  Once epistaxis occurs, the importance of the first treatment for the haemostasis should be emphasized.\n",
      "query_word:  epistaxis\n",
      "Top substitutions:\n",
      "1. ('anaphylaxis', 'Anaphylaxis usually happens because the immune system over-reacts to an allergen.')\n",
      "2. ('hypoglycemia', 'Hypoglycemia is treated by returning the blood sugar levels back to normal.')\n",
      "3. ('epilepsy', 'Most forms of epilepsy cannot be cured.')\n",
      "4. ('encephalitis', 'Encephalitis can cause serious symptoms, like seizures and strokes, and can be fatal.')\n",
      "5. ('prosopagnosia', 'Prosopagnosia is not curable or treatable.')\n",
      "6. ('trichomoniasis', 'About 95% to 97% of people with trichomoniasis are cured after one dose of metronidazole.')\n",
      "7. ('neurosyphilis', 'Instead, people with neurosyphilis usually need to be given large doses of penicillin for at least 10 days.')\n",
      "8. ('prostatitis', 'Sepsis from prostatitis is very rare, but may occur in immunocompromised patients; high fever and malaise generally prompt blood cultures, which are often positive in sepsis.')\n",
      "9. ('psittacosis', 'Psittacosis usually gives flu-like symptoms, such as fevers, chills, headaches, muscle aches, and a dry cough.')\n"
     ]
    },
    {
     "name": "stderr",
     "output_type": "stream",
     "text": [
      "\n"
     ]
    }
   ],
   "source": [
    "for query_sent, query_word in tqdm(sentences):\n",
    "    output_sr_ss(query_sent, query_word, k=50)"
   ]
  },
  {
   "cell_type": "code",
   "execution_count": null,
   "metadata": {},
   "outputs": [],
   "source": []
  }
 ],
 "metadata": {
  "kernelspec": {
   "display_name": "Python 3",
   "language": "python",
   "name": "python3"
  },
  "language_info": {
   "codemirror_mode": {
    "name": "ipython",
    "version": 3
   },
   "file_extension": ".py",
   "mimetype": "text/x-python",
   "name": "python",
   "nbconvert_exporter": "python",
   "pygments_lexer": "ipython3",
   "version": "3.7.4"
  },
  "toc": {
   "base_numbering": 1,
   "nav_menu": {},
   "number_sections": true,
   "sideBar": true,
   "skip_h1_title": false,
   "title_cell": "Table of Contents",
   "title_sidebar": "Contents",
   "toc_cell": false,
   "toc_position": {
    "height": "calc(100% - 180px)",
    "left": "10px",
    "top": "150px",
    "width": "288px"
   },
   "toc_section_display": true,
   "toc_window_display": true
  }
 },
 "nbformat": 4,
 "nbformat_minor": 4
}
